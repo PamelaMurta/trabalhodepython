{
 "cells": [
  {
   "attachments": {},
   "cell_type": "markdown",
   "metadata": {},
   "source": [
    "# Instituto Federal de Minas Gerais - Campus Ouro Preto\n",
    "\n"
   ]
  },
  {
   "attachments": {},
   "cell_type": "markdown",
   "metadata": {},
   "source": [
    "## Pós Graduação em Inteligência Artificial\n"
   ]
  },
  {
   "attachments": {},
   "cell_type": "markdown",
   "metadata": {},
   "source": [
    "### Diciplina - Phyton para Ciências de Dados\n"
   ]
  },
  {
   "attachments": {},
   "cell_type": "markdown",
   "metadata": {},
   "source": [
    "#### Prof. Rodrigo Silva\n",
    "#### Aluno: Pâmela Murta Castro Lima"
   ]
  },
  {
   "cell_type": "markdown",
   "metadata": {},
   "source": [
    "# Análise de Dados dos dataset Desemprego e morte por COVID-19"
   ]
  },
  {
   "cell_type": "markdown",
   "metadata": {},
   "source": [
    "A análise de dados desempenha um papel fundamental no estudo de diferentes fenômenos, incluindo a relação entre o desemprego e a pandemia do coronavírus (COVID-19). O desemprego é um indicador crucial para avaliar a saúde econômica de uma região, refletindo a falta de oportunidades de trabalho e seus impactos na economia. Por outro lado, a COVID-19 é uma doença infecciosa causada pelo vírus SARS-CoV-2, que apresenta uma ampla gama de sintomas e pode ter consequências graves, especialmente para os mais vulneráveis. Com base nesses contextos, a análise de dados nos permite examinar a relação entre a taxa de desemprego e os efeitos da pandemia, fornecendo insights valiosos sobre a evolução econômica e os desafios enfrentados pelas comunidades afetadas."
   ]
  },
  {
   "cell_type": "code",
   "execution_count": 1803,
   "metadata": {},
   "outputs": [
    {
     "name": "stdout",
     "output_type": "stream",
     "text": [
      "Requirement already satisfied: scikit-learn in c:\\users\\pamel\\appdata\\local\\programs\\python\\python311\\lib\\site-packages (1.3.0)\n",
      "Requirement already satisfied: numpy>=1.17.3 in c:\\users\\pamel\\appdata\\local\\programs\\python\\python311\\lib\\site-packages (from scikit-learn) (1.25.0)\n",
      "Requirement already satisfied: scipy>=1.5.0 in c:\\users\\pamel\\appdata\\local\\programs\\python\\python311\\lib\\site-packages (from scikit-learn) (1.11.1)\n",
      "Requirement already satisfied: joblib>=1.1.1 in c:\\users\\pamel\\appdata\\local\\programs\\python\\python311\\lib\\site-packages (from scikit-learn) (1.3.1)\n",
      "Requirement already satisfied: threadpoolctl>=2.0.0 in c:\\users\\pamel\\appdata\\local\\programs\\python\\python311\\lib\\site-packages (from scikit-learn) (3.1.0)\n",
      "Requirement already satisfied: pycountry-convert in c:\\users\\pamel\\appdata\\local\\programs\\python\\python311\\lib\\site-packages (0.7.2)\n",
      "Requirement already satisfied: pprintpp>=0.3.0 in c:\\users\\pamel\\appdata\\local\\programs\\python\\python311\\lib\\site-packages (from pycountry-convert) (0.4.0)\n",
      "Requirement already satisfied: pycountry>=16.11.27.1 in c:\\users\\pamel\\appdata\\local\\programs\\python\\python311\\lib\\site-packages (from pycountry-convert) (22.3.5)\n",
      "Requirement already satisfied: pytest>=3.4.0 in c:\\users\\pamel\\appdata\\local\\programs\\python\\python311\\lib\\site-packages (from pycountry-convert) (7.4.0)\n",
      "Requirement already satisfied: pytest-mock>=1.6.3 in c:\\users\\pamel\\appdata\\local\\programs\\python\\python311\\lib\\site-packages (from pycountry-convert) (3.11.1)\n",
      "Requirement already satisfied: pytest-cov>=2.5.1 in c:\\users\\pamel\\appdata\\local\\programs\\python\\python311\\lib\\site-packages (from pycountry-convert) (4.1.0)\n",
      "Requirement already satisfied: repoze.lru>=0.7 in c:\\users\\pamel\\appdata\\local\\programs\\python\\python311\\lib\\site-packages (from pycountry-convert) (0.7)\n",
      "Requirement already satisfied: wheel>=0.30.0 in c:\\users\\pamel\\appdata\\local\\programs\\python\\python311\\lib\\site-packages (from pycountry-convert) (0.40.0)\n",
      "Requirement already satisfied: setuptools in c:\\users\\pamel\\appdata\\local\\programs\\python\\python311\\lib\\site-packages (from pycountry>=16.11.27.1->pycountry-convert) (65.5.0)\n",
      "Requirement already satisfied: iniconfig in c:\\users\\pamel\\appdata\\local\\programs\\python\\python311\\lib\\site-packages (from pytest>=3.4.0->pycountry-convert) (2.0.0)\n",
      "Requirement already satisfied: packaging in c:\\users\\pamel\\appdata\\roaming\\python\\python311\\site-packages (from pytest>=3.4.0->pycountry-convert) (23.1)\n",
      "Requirement already satisfied: pluggy<2.0,>=0.12 in c:\\users\\pamel\\appdata\\local\\programs\\python\\python311\\lib\\site-packages (from pytest>=3.4.0->pycountry-convert) (1.2.0)\n",
      "Requirement already satisfied: colorama in c:\\users\\pamel\\appdata\\roaming\\python\\python311\\site-packages (from pytest>=3.4.0->pycountry-convert) (0.4.6)\n",
      "Requirement already satisfied: coverage[toml]>=5.2.1 in c:\\users\\pamel\\appdata\\local\\programs\\python\\python311\\lib\\site-packages (from pytest-cov>=2.5.1->pycountry-convert) (7.2.7)\n",
      "Requirement already satisfied: plotly.express in c:\\users\\pamel\\appdata\\local\\programs\\python\\python311\\lib\\site-packages (0.4.1)\n",
      "Requirement already satisfied: pandas>=0.20.0 in c:\\users\\pamel\\appdata\\local\\programs\\python\\python311\\lib\\site-packages (from plotly.express) (2.0.3)\n",
      "Requirement already satisfied: plotly>=4.1.0 in c:\\users\\pamel\\appdata\\local\\programs\\python\\python311\\lib\\site-packages (from plotly.express) (5.15.0)\n",
      "Requirement already satisfied: statsmodels>=0.9.0 in c:\\users\\pamel\\appdata\\local\\programs\\python\\python311\\lib\\site-packages (from plotly.express) (0.14.0)\n",
      "Requirement already satisfied: scipy>=0.18 in c:\\users\\pamel\\appdata\\local\\programs\\python\\python311\\lib\\site-packages (from plotly.express) (1.11.1)\n",
      "Requirement already satisfied: patsy>=0.5 in c:\\users\\pamel\\appdata\\local\\programs\\python\\python311\\lib\\site-packages (from plotly.express) (0.5.3)\n",
      "Requirement already satisfied: numpy>=1.11 in c:\\users\\pamel\\appdata\\local\\programs\\python\\python311\\lib\\site-packages (from plotly.express) (1.25.0)\n",
      "Requirement already satisfied: python-dateutil>=2.8.2 in c:\\users\\pamel\\appdata\\roaming\\python\\python311\\site-packages (from pandas>=0.20.0->plotly.express) (2.8.2)\n",
      "Requirement already satisfied: pytz>=2020.1 in c:\\users\\pamel\\appdata\\local\\programs\\python\\python311\\lib\\site-packages (from pandas>=0.20.0->plotly.express) (2023.3)\n",
      "Requirement already satisfied: tzdata>=2022.1 in c:\\users\\pamel\\appdata\\local\\programs\\python\\python311\\lib\\site-packages (from pandas>=0.20.0->plotly.express) (2023.3)\n",
      "Requirement already satisfied: six in c:\\users\\pamel\\appdata\\roaming\\python\\python311\\site-packages (from patsy>=0.5->plotly.express) (1.16.0)\n",
      "Requirement already satisfied: tenacity>=6.2.0 in c:\\users\\pamel\\appdata\\local\\programs\\python\\python311\\lib\\site-packages (from plotly>=4.1.0->plotly.express) (8.2.2)\n",
      "Requirement already satisfied: packaging in c:\\users\\pamel\\appdata\\roaming\\python\\python311\\site-packages (from plotly>=4.1.0->plotly.express) (23.1)\n",
      "Requirement already satisfied: nbformat in c:\\users\\pamel\\appdata\\local\\programs\\python\\python311\\lib\\site-packages (5.9.0)\n",
      "Requirement already satisfied: fastjsonschema in c:\\users\\pamel\\appdata\\local\\programs\\python\\python311\\lib\\site-packages (from nbformat) (2.17.1)\n",
      "Requirement already satisfied: jsonschema>=2.6 in c:\\users\\pamel\\appdata\\local\\programs\\python\\python311\\lib\\site-packages (from nbformat) (4.18.0)\n",
      "Requirement already satisfied: jupyter-core in c:\\users\\pamel\\appdata\\roaming\\python\\python311\\site-packages (from nbformat) (5.3.1)\n",
      "Requirement already satisfied: traitlets>=5.1 in c:\\users\\pamel\\appdata\\roaming\\python\\python311\\site-packages (from nbformat) (5.9.0)\n",
      "Requirement already satisfied: attrs>=22.2.0 in c:\\users\\pamel\\appdata\\local\\programs\\python\\python311\\lib\\site-packages (from jsonschema>=2.6->nbformat) (23.1.0)\n",
      "Requirement already satisfied: jsonschema-specifications>=2023.03.6 in c:\\users\\pamel\\appdata\\local\\programs\\python\\python311\\lib\\site-packages (from jsonschema>=2.6->nbformat) (2023.6.1)\n",
      "Requirement already satisfied: referencing>=0.28.4 in c:\\users\\pamel\\appdata\\local\\programs\\python\\python311\\lib\\site-packages (from jsonschema>=2.6->nbformat) (0.29.1)\n",
      "Requirement already satisfied: rpds-py>=0.7.1 in c:\\users\\pamel\\appdata\\local\\programs\\python\\python311\\lib\\site-packages (from jsonschema>=2.6->nbformat) (0.8.10)\n",
      "Requirement already satisfied: platformdirs>=2.5 in c:\\users\\pamel\\appdata\\roaming\\python\\python311\\site-packages (from jupyter-core->nbformat) (3.8.0)\n",
      "Requirement already satisfied: pywin32>=300 in c:\\users\\pamel\\appdata\\roaming\\python\\python311\\site-packages (from jupyter-core->nbformat) (306)\n"
     ]
    }
   ],
   "source": [
    "\n",
    "!python -m pip install scikit-learn\n",
    "!python -m pip install pycountry-convert\n",
    "!python -m pip install  plotly.express\n",
    "!python -m pip install  nbformat\n"
   ]
  },
  {
   "cell_type": "code",
   "execution_count": 1804,
   "metadata": {},
   "outputs": [],
   "source": [
    "import pandas as pd\n",
    "import matplotlib.pyplot as plt\n",
    "import seaborn as sns\n",
    "import numpy as np\n",
    "import pycountry_convert as coco\n",
    "import plotly.express as px\n",
    "\n",
    "%matplotlib inline\n",
    "\n"
   ]
  },
  {
   "attachments": {},
   "cell_type": "markdown",
   "metadata": {},
   "source": [
    "O desemprego é uma condição em que indivíduos procuram ativamente por emprego, mas não conseguem encontrar uma ocupação remunerada. É um indicador crucial para avaliar a saúde econômica de uma região.\n",
    "\n",
    "O desemprego é caracterizado pela busca ativa de emprego por parte daqueles que estão desempregados. Essa situação revela a falta de oportunidades de trabalho e tem impactos significativos na economia.\n",
    "\n",
    "A taxa de desemprego é a métrica mais amplamente utilizada para mensurar o desemprego. Ela é calculada ao dividir o número de pessoas desempregadas pela população ativa, que engloba tanto os indivíduos empregados quanto os que estão em busca de emprego. Essa taxa fornece insights importantes sobre a situação do mercado de trabalho e ajuda a monitorar a evolução econômica de uma região."
   ]
  },
  {
   "cell_type": "code",
   "execution_count": 1805,
   "metadata": {},
   "outputs": [],
   "source": [
    "desemprego = pd.read_csv(r'C:\\Users\\pamel\\OneDrive\\Documentos\\Pos IA\\Trabalho final\\unemployment analysis.csv')\n"
   ]
  },
  {
   "attachments": {},
   "cell_type": "markdown",
   "metadata": {},
   "source": [
    "O dataset desemprego foi carregado para que posteriormente seja feita a sua fusão com o dataset morte por covid."
   ]
  },
  {
   "cell_type": "code",
   "execution_count": 1806,
   "metadata": {},
   "outputs": [
    {
     "data": {
      "text/html": [
       "<div>\n",
       "<style scoped>\n",
       "    .dataframe tbody tr th:only-of-type {\n",
       "        vertical-align: middle;\n",
       "    }\n",
       "\n",
       "    .dataframe tbody tr th {\n",
       "        vertical-align: top;\n",
       "    }\n",
       "\n",
       "    .dataframe thead th {\n",
       "        text-align: right;\n",
       "    }\n",
       "</style>\n",
       "<table border=\"1\" class=\"dataframe\">\n",
       "  <thead>\n",
       "    <tr style=\"text-align: right;\">\n",
       "      <th></th>\n",
       "      <th>Country Name</th>\n",
       "      <th>Country Code</th>\n",
       "      <th>1991</th>\n",
       "      <th>1992</th>\n",
       "      <th>1993</th>\n",
       "      <th>1994</th>\n",
       "      <th>1995</th>\n",
       "      <th>1996</th>\n",
       "      <th>1997</th>\n",
       "      <th>1998</th>\n",
       "      <th>...</th>\n",
       "      <th>2012</th>\n",
       "      <th>2013</th>\n",
       "      <th>2014</th>\n",
       "      <th>2015</th>\n",
       "      <th>2016</th>\n",
       "      <th>2017</th>\n",
       "      <th>2018</th>\n",
       "      <th>2019</th>\n",
       "      <th>2020</th>\n",
       "      <th>2021</th>\n",
       "    </tr>\n",
       "  </thead>\n",
       "  <tbody>\n",
       "    <tr>\n",
       "      <th>0</th>\n",
       "      <td>Africa Eastern and Southern</td>\n",
       "      <td>AFE</td>\n",
       "      <td>7.80</td>\n",
       "      <td>7.84</td>\n",
       "      <td>7.85</td>\n",
       "      <td>7.84</td>\n",
       "      <td>7.83</td>\n",
       "      <td>7.84</td>\n",
       "      <td>7.86</td>\n",
       "      <td>7.81</td>\n",
       "      <td>...</td>\n",
       "      <td>6.56</td>\n",
       "      <td>6.45</td>\n",
       "      <td>6.41</td>\n",
       "      <td>6.49</td>\n",
       "      <td>6.61</td>\n",
       "      <td>6.71</td>\n",
       "      <td>6.73</td>\n",
       "      <td>6.91</td>\n",
       "      <td>7.56</td>\n",
       "      <td>8.11</td>\n",
       "    </tr>\n",
       "    <tr>\n",
       "      <th>1</th>\n",
       "      <td>Afghanistan</td>\n",
       "      <td>AFG</td>\n",
       "      <td>10.65</td>\n",
       "      <td>10.82</td>\n",
       "      <td>10.72</td>\n",
       "      <td>10.73</td>\n",
       "      <td>11.18</td>\n",
       "      <td>10.96</td>\n",
       "      <td>10.78</td>\n",
       "      <td>10.80</td>\n",
       "      <td>...</td>\n",
       "      <td>11.34</td>\n",
       "      <td>11.19</td>\n",
       "      <td>11.14</td>\n",
       "      <td>11.13</td>\n",
       "      <td>11.16</td>\n",
       "      <td>11.18</td>\n",
       "      <td>11.15</td>\n",
       "      <td>11.22</td>\n",
       "      <td>11.71</td>\n",
       "      <td>13.28</td>\n",
       "    </tr>\n",
       "    <tr>\n",
       "      <th>2</th>\n",
       "      <td>Africa Western and Central</td>\n",
       "      <td>AFW</td>\n",
       "      <td>4.42</td>\n",
       "      <td>4.53</td>\n",
       "      <td>4.55</td>\n",
       "      <td>4.54</td>\n",
       "      <td>4.53</td>\n",
       "      <td>4.57</td>\n",
       "      <td>4.60</td>\n",
       "      <td>4.66</td>\n",
       "      <td>...</td>\n",
       "      <td>4.64</td>\n",
       "      <td>4.41</td>\n",
       "      <td>4.69</td>\n",
       "      <td>4.63</td>\n",
       "      <td>5.57</td>\n",
       "      <td>6.02</td>\n",
       "      <td>6.04</td>\n",
       "      <td>6.06</td>\n",
       "      <td>6.77</td>\n",
       "      <td>6.84</td>\n",
       "    </tr>\n",
       "    <tr>\n",
       "      <th>3</th>\n",
       "      <td>Angola</td>\n",
       "      <td>AGO</td>\n",
       "      <td>4.21</td>\n",
       "      <td>4.21</td>\n",
       "      <td>4.23</td>\n",
       "      <td>4.16</td>\n",
       "      <td>4.11</td>\n",
       "      <td>4.10</td>\n",
       "      <td>4.09</td>\n",
       "      <td>4.07</td>\n",
       "      <td>...</td>\n",
       "      <td>7.35</td>\n",
       "      <td>7.37</td>\n",
       "      <td>7.37</td>\n",
       "      <td>7.39</td>\n",
       "      <td>7.41</td>\n",
       "      <td>7.41</td>\n",
       "      <td>7.42</td>\n",
       "      <td>7.42</td>\n",
       "      <td>8.33</td>\n",
       "      <td>8.53</td>\n",
       "    </tr>\n",
       "    <tr>\n",
       "      <th>4</th>\n",
       "      <td>Albania</td>\n",
       "      <td>ALB</td>\n",
       "      <td>10.31</td>\n",
       "      <td>30.01</td>\n",
       "      <td>25.26</td>\n",
       "      <td>20.84</td>\n",
       "      <td>14.61</td>\n",
       "      <td>13.93</td>\n",
       "      <td>16.88</td>\n",
       "      <td>20.05</td>\n",
       "      <td>...</td>\n",
       "      <td>13.38</td>\n",
       "      <td>15.87</td>\n",
       "      <td>18.05</td>\n",
       "      <td>17.19</td>\n",
       "      <td>15.42</td>\n",
       "      <td>13.62</td>\n",
       "      <td>12.30</td>\n",
       "      <td>11.47</td>\n",
       "      <td>13.33</td>\n",
       "      <td>11.82</td>\n",
       "    </tr>\n",
       "    <tr>\n",
       "      <th>...</th>\n",
       "      <td>...</td>\n",
       "      <td>...</td>\n",
       "      <td>...</td>\n",
       "      <td>...</td>\n",
       "      <td>...</td>\n",
       "      <td>...</td>\n",
       "      <td>...</td>\n",
       "      <td>...</td>\n",
       "      <td>...</td>\n",
       "      <td>...</td>\n",
       "      <td>...</td>\n",
       "      <td>...</td>\n",
       "      <td>...</td>\n",
       "      <td>...</td>\n",
       "      <td>...</td>\n",
       "      <td>...</td>\n",
       "      <td>...</td>\n",
       "      <td>...</td>\n",
       "      <td>...</td>\n",
       "      <td>...</td>\n",
       "      <td>...</td>\n",
       "    </tr>\n",
       "    <tr>\n",
       "      <th>230</th>\n",
       "      <td>Samoa</td>\n",
       "      <td>WSM</td>\n",
       "      <td>2.10</td>\n",
       "      <td>2.38</td>\n",
       "      <td>2.63</td>\n",
       "      <td>3.04</td>\n",
       "      <td>3.19</td>\n",
       "      <td>3.47</td>\n",
       "      <td>3.90</td>\n",
       "      <td>4.18</td>\n",
       "      <td>...</td>\n",
       "      <td>8.75</td>\n",
       "      <td>8.67</td>\n",
       "      <td>8.72</td>\n",
       "      <td>8.50</td>\n",
       "      <td>8.31</td>\n",
       "      <td>8.58</td>\n",
       "      <td>8.69</td>\n",
       "      <td>8.41</td>\n",
       "      <td>9.15</td>\n",
       "      <td>9.84</td>\n",
       "    </tr>\n",
       "    <tr>\n",
       "      <th>231</th>\n",
       "      <td>Yemen, Rep.</td>\n",
       "      <td>YEM</td>\n",
       "      <td>8.32</td>\n",
       "      <td>8.31</td>\n",
       "      <td>8.35</td>\n",
       "      <td>8.34</td>\n",
       "      <td>8.96</td>\n",
       "      <td>9.59</td>\n",
       "      <td>10.20</td>\n",
       "      <td>10.81</td>\n",
       "      <td>...</td>\n",
       "      <td>13.17</td>\n",
       "      <td>13.27</td>\n",
       "      <td>13.47</td>\n",
       "      <td>13.77</td>\n",
       "      <td>13.43</td>\n",
       "      <td>13.30</td>\n",
       "      <td>13.15</td>\n",
       "      <td>13.06</td>\n",
       "      <td>13.39</td>\n",
       "      <td>13.57</td>\n",
       "    </tr>\n",
       "    <tr>\n",
       "      <th>232</th>\n",
       "      <td>South Africa</td>\n",
       "      <td>ZAF</td>\n",
       "      <td>29.95</td>\n",
       "      <td>29.98</td>\n",
       "      <td>29.92</td>\n",
       "      <td>29.89</td>\n",
       "      <td>29.89</td>\n",
       "      <td>29.87</td>\n",
       "      <td>29.91</td>\n",
       "      <td>29.95</td>\n",
       "      <td>...</td>\n",
       "      <td>24.73</td>\n",
       "      <td>24.56</td>\n",
       "      <td>24.89</td>\n",
       "      <td>25.15</td>\n",
       "      <td>26.54</td>\n",
       "      <td>27.04</td>\n",
       "      <td>26.91</td>\n",
       "      <td>28.47</td>\n",
       "      <td>29.22</td>\n",
       "      <td>33.56</td>\n",
       "    </tr>\n",
       "    <tr>\n",
       "      <th>233</th>\n",
       "      <td>Zambia</td>\n",
       "      <td>ZMB</td>\n",
       "      <td>18.90</td>\n",
       "      <td>19.37</td>\n",
       "      <td>19.70</td>\n",
       "      <td>18.43</td>\n",
       "      <td>16.81</td>\n",
       "      <td>15.30</td>\n",
       "      <td>13.64</td>\n",
       "      <td>12.00</td>\n",
       "      <td>...</td>\n",
       "      <td>7.85</td>\n",
       "      <td>8.61</td>\n",
       "      <td>9.36</td>\n",
       "      <td>10.13</td>\n",
       "      <td>10.87</td>\n",
       "      <td>11.63</td>\n",
       "      <td>12.01</td>\n",
       "      <td>12.52</td>\n",
       "      <td>12.85</td>\n",
       "      <td>13.03</td>\n",
       "    </tr>\n",
       "    <tr>\n",
       "      <th>234</th>\n",
       "      <td>Zimbabwe</td>\n",
       "      <td>ZWE</td>\n",
       "      <td>4.94</td>\n",
       "      <td>4.99</td>\n",
       "      <td>4.97</td>\n",
       "      <td>4.96</td>\n",
       "      <td>5.63</td>\n",
       "      <td>6.25</td>\n",
       "      <td>6.93</td>\n",
       "      <td>6.46</td>\n",
       "      <td>...</td>\n",
       "      <td>5.15</td>\n",
       "      <td>4.98</td>\n",
       "      <td>4.77</td>\n",
       "      <td>4.78</td>\n",
       "      <td>4.79</td>\n",
       "      <td>4.78</td>\n",
       "      <td>4.80</td>\n",
       "      <td>4.83</td>\n",
       "      <td>5.35</td>\n",
       "      <td>5.17</td>\n",
       "    </tr>\n",
       "  </tbody>\n",
       "</table>\n",
       "<p>235 rows × 33 columns</p>\n",
       "</div>"
      ],
      "text/plain": [
       "                    Country Name Country Code   1991   1992   1993   1994  \\\n",
       "0    Africa Eastern and Southern          AFE   7.80   7.84   7.85   7.84   \n",
       "1                    Afghanistan          AFG  10.65  10.82  10.72  10.73   \n",
       "2     Africa Western and Central          AFW   4.42   4.53   4.55   4.54   \n",
       "3                         Angola          AGO   4.21   4.21   4.23   4.16   \n",
       "4                        Albania          ALB  10.31  30.01  25.26  20.84   \n",
       "..                           ...          ...    ...    ...    ...    ...   \n",
       "230                        Samoa          WSM   2.10   2.38   2.63   3.04   \n",
       "231                  Yemen, Rep.          YEM   8.32   8.31   8.35   8.34   \n",
       "232                 South Africa          ZAF  29.95  29.98  29.92  29.89   \n",
       "233                       Zambia          ZMB  18.90  19.37  19.70  18.43   \n",
       "234                     Zimbabwe          ZWE   4.94   4.99   4.97   4.96   \n",
       "\n",
       "      1995   1996   1997   1998  ...   2012   2013   2014   2015   2016  \\\n",
       "0     7.83   7.84   7.86   7.81  ...   6.56   6.45   6.41   6.49   6.61   \n",
       "1    11.18  10.96  10.78  10.80  ...  11.34  11.19  11.14  11.13  11.16   \n",
       "2     4.53   4.57   4.60   4.66  ...   4.64   4.41   4.69   4.63   5.57   \n",
       "3     4.11   4.10   4.09   4.07  ...   7.35   7.37   7.37   7.39   7.41   \n",
       "4    14.61  13.93  16.88  20.05  ...  13.38  15.87  18.05  17.19  15.42   \n",
       "..     ...    ...    ...    ...  ...    ...    ...    ...    ...    ...   \n",
       "230   3.19   3.47   3.90   4.18  ...   8.75   8.67   8.72   8.50   8.31   \n",
       "231   8.96   9.59  10.20  10.81  ...  13.17  13.27  13.47  13.77  13.43   \n",
       "232  29.89  29.87  29.91  29.95  ...  24.73  24.56  24.89  25.15  26.54   \n",
       "233  16.81  15.30  13.64  12.00  ...   7.85   8.61   9.36  10.13  10.87   \n",
       "234   5.63   6.25   6.93   6.46  ...   5.15   4.98   4.77   4.78   4.79   \n",
       "\n",
       "      2017   2018   2019   2020   2021  \n",
       "0     6.71   6.73   6.91   7.56   8.11  \n",
       "1    11.18  11.15  11.22  11.71  13.28  \n",
       "2     6.02   6.04   6.06   6.77   6.84  \n",
       "3     7.41   7.42   7.42   8.33   8.53  \n",
       "4    13.62  12.30  11.47  13.33  11.82  \n",
       "..     ...    ...    ...    ...    ...  \n",
       "230   8.58   8.69   8.41   9.15   9.84  \n",
       "231  13.30  13.15  13.06  13.39  13.57  \n",
       "232  27.04  26.91  28.47  29.22  33.56  \n",
       "233  11.63  12.01  12.52  12.85  13.03  \n",
       "234   4.78   4.80   4.83   5.35   5.17  \n",
       "\n",
       "[235 rows x 33 columns]"
      ]
     },
     "execution_count": 1806,
     "metadata": {},
     "output_type": "execute_result"
    }
   ],
   "source": [
    "desemprego"
   ]
  },
  {
   "attachments": {},
   "cell_type": "markdown",
   "metadata": {},
   "source": [
    "O comando \"desemprego.describe()\" irá fornecer um resumo estatístico dos dados de desemprego. Ele irá apresenta informações importantes, como a contagem de observações, a média, o desvio padrão e os valores mínimo e máximo. Essas medidas permitirão analisar e entender rapidamente a distribuição e as características dos dados de desemprego."
   ]
  },
  {
   "cell_type": "code",
   "execution_count": 1807,
   "metadata": {},
   "outputs": [
    {
     "data": {
      "text/html": [
       "<div>\n",
       "<style scoped>\n",
       "    .dataframe tbody tr th:only-of-type {\n",
       "        vertical-align: middle;\n",
       "    }\n",
       "\n",
       "    .dataframe tbody tr th {\n",
       "        vertical-align: top;\n",
       "    }\n",
       "\n",
       "    .dataframe thead th {\n",
       "        text-align: right;\n",
       "    }\n",
       "</style>\n",
       "<table border=\"1\" class=\"dataframe\">\n",
       "  <thead>\n",
       "    <tr style=\"text-align: right;\">\n",
       "      <th></th>\n",
       "      <th>1991</th>\n",
       "      <th>1992</th>\n",
       "      <th>1993</th>\n",
       "      <th>1994</th>\n",
       "      <th>1995</th>\n",
       "      <th>1996</th>\n",
       "      <th>1997</th>\n",
       "      <th>1998</th>\n",
       "      <th>1999</th>\n",
       "      <th>2000</th>\n",
       "      <th>...</th>\n",
       "      <th>2012</th>\n",
       "      <th>2013</th>\n",
       "      <th>2014</th>\n",
       "      <th>2015</th>\n",
       "      <th>2016</th>\n",
       "      <th>2017</th>\n",
       "      <th>2018</th>\n",
       "      <th>2019</th>\n",
       "      <th>2020</th>\n",
       "      <th>2021</th>\n",
       "    </tr>\n",
       "  </thead>\n",
       "  <tbody>\n",
       "    <tr>\n",
       "      <th>count</th>\n",
       "      <td>235.000000</td>\n",
       "      <td>235.000000</td>\n",
       "      <td>235.000000</td>\n",
       "      <td>235.000000</td>\n",
       "      <td>235.000000</td>\n",
       "      <td>235.000000</td>\n",
       "      <td>235.000000</td>\n",
       "      <td>235.000000</td>\n",
       "      <td>235.000000</td>\n",
       "      <td>235.000000</td>\n",
       "      <td>...</td>\n",
       "      <td>235.000000</td>\n",
       "      <td>235.000000</td>\n",
       "      <td>235.000000</td>\n",
       "      <td>235.000000</td>\n",
       "      <td>235.000000</td>\n",
       "      <td>235.000000</td>\n",
       "      <td>235.000000</td>\n",
       "      <td>235.000000</td>\n",
       "      <td>235.000000</td>\n",
       "      <td>235.000000</td>\n",
       "    </tr>\n",
       "    <tr>\n",
       "      <th>mean</th>\n",
       "      <td>7.278000</td>\n",
       "      <td>7.626340</td>\n",
       "      <td>8.070766</td>\n",
       "      <td>8.246043</td>\n",
       "      <td>8.333915</td>\n",
       "      <td>8.494894</td>\n",
       "      <td>8.394043</td>\n",
       "      <td>8.441064</td>\n",
       "      <td>8.568043</td>\n",
       "      <td>8.438979</td>\n",
       "      <td>...</td>\n",
       "      <td>8.062553</td>\n",
       "      <td>8.086468</td>\n",
       "      <td>7.924340</td>\n",
       "      <td>7.818426</td>\n",
       "      <td>7.720979</td>\n",
       "      <td>7.485404</td>\n",
       "      <td>7.247404</td>\n",
       "      <td>7.087362</td>\n",
       "      <td>8.278809</td>\n",
       "      <td>8.219660</td>\n",
       "    </tr>\n",
       "    <tr>\n",
       "      <th>std</th>\n",
       "      <td>6.013749</td>\n",
       "      <td>6.296617</td>\n",
       "      <td>6.335855</td>\n",
       "      <td>6.243778</td>\n",
       "      <td>6.330822</td>\n",
       "      <td>6.358431</td>\n",
       "      <td>6.206845</td>\n",
       "      <td>6.133045</td>\n",
       "      <td>6.088361</td>\n",
       "      <td>6.126318</td>\n",
       "      <td>...</td>\n",
       "      <td>5.780173</td>\n",
       "      <td>5.832019</td>\n",
       "      <td>5.699899</td>\n",
       "      <td>5.574759</td>\n",
       "      <td>5.456333</td>\n",
       "      <td>5.318381</td>\n",
       "      <td>5.240429</td>\n",
       "      <td>5.129146</td>\n",
       "      <td>5.470319</td>\n",
       "      <td>5.506914</td>\n",
       "    </tr>\n",
       "    <tr>\n",
       "      <th>min</th>\n",
       "      <td>0.300000</td>\n",
       "      <td>0.340000</td>\n",
       "      <td>0.410000</td>\n",
       "      <td>0.470000</td>\n",
       "      <td>0.500000</td>\n",
       "      <td>0.560000</td>\n",
       "      <td>0.540000</td>\n",
       "      <td>0.560000</td>\n",
       "      <td>0.570000</td>\n",
       "      <td>0.580000</td>\n",
       "      <td>...</td>\n",
       "      <td>0.480000</td>\n",
       "      <td>0.250000</td>\n",
       "      <td>0.200000</td>\n",
       "      <td>0.170000</td>\n",
       "      <td>0.150000</td>\n",
       "      <td>0.140000</td>\n",
       "      <td>0.110000</td>\n",
       "      <td>0.100000</td>\n",
       "      <td>0.210000</td>\n",
       "      <td>0.260000</td>\n",
       "    </tr>\n",
       "    <tr>\n",
       "      <th>25%</th>\n",
       "      <td>2.945000</td>\n",
       "      <td>3.140000</td>\n",
       "      <td>3.700000</td>\n",
       "      <td>3.890000</td>\n",
       "      <td>3.945000</td>\n",
       "      <td>3.995000</td>\n",
       "      <td>4.020000</td>\n",
       "      <td>4.085000</td>\n",
       "      <td>4.275000</td>\n",
       "      <td>4.070000</td>\n",
       "      <td>...</td>\n",
       "      <td>4.090000</td>\n",
       "      <td>4.245000</td>\n",
       "      <td>4.200000</td>\n",
       "      <td>4.315000</td>\n",
       "      <td>4.310000</td>\n",
       "      <td>4.075000</td>\n",
       "      <td>3.875000</td>\n",
       "      <td>3.805000</td>\n",
       "      <td>4.620000</td>\n",
       "      <td>4.750000</td>\n",
       "    </tr>\n",
       "    <tr>\n",
       "      <th>50%</th>\n",
       "      <td>5.410000</td>\n",
       "      <td>5.710000</td>\n",
       "      <td>6.030000</td>\n",
       "      <td>6.550000</td>\n",
       "      <td>6.700000</td>\n",
       "      <td>7.050000</td>\n",
       "      <td>6.930000</td>\n",
       "      <td>6.890000</td>\n",
       "      <td>6.690000</td>\n",
       "      <td>6.530000</td>\n",
       "      <td>...</td>\n",
       "      <td>6.450000</td>\n",
       "      <td>6.290000</td>\n",
       "      <td>6.150000</td>\n",
       "      <td>6.080000</td>\n",
       "      <td>6.010000</td>\n",
       "      <td>5.800000</td>\n",
       "      <td>5.620000</td>\n",
       "      <td>5.530000</td>\n",
       "      <td>6.800000</td>\n",
       "      <td>6.580000</td>\n",
       "    </tr>\n",
       "    <tr>\n",
       "      <th>75%</th>\n",
       "      <td>9.815000</td>\n",
       "      <td>10.170000</td>\n",
       "      <td>10.895000</td>\n",
       "      <td>11.110000</td>\n",
       "      <td>11.050000</td>\n",
       "      <td>11.405000</td>\n",
       "      <td>11.090000</td>\n",
       "      <td>11.500000</td>\n",
       "      <td>11.845000</td>\n",
       "      <td>11.565000</td>\n",
       "      <td>...</td>\n",
       "      <td>10.655000</td>\n",
       "      <td>10.465000</td>\n",
       "      <td>10.290000</td>\n",
       "      <td>10.080000</td>\n",
       "      <td>9.895000</td>\n",
       "      <td>9.445000</td>\n",
       "      <td>9.060000</td>\n",
       "      <td>8.605000</td>\n",
       "      <td>10.230000</td>\n",
       "      <td>10.245000</td>\n",
       "    </tr>\n",
       "    <tr>\n",
       "      <th>max</th>\n",
       "      <td>36.120000</td>\n",
       "      <td>36.390000</td>\n",
       "      <td>36.740000</td>\n",
       "      <td>36.980000</td>\n",
       "      <td>37.340000</td>\n",
       "      <td>38.800000</td>\n",
       "      <td>37.940000</td>\n",
       "      <td>37.160000</td>\n",
       "      <td>36.350000</td>\n",
       "      <td>35.460000</td>\n",
       "      <td>...</td>\n",
       "      <td>31.020000</td>\n",
       "      <td>29.000000</td>\n",
       "      <td>28.030000</td>\n",
       "      <td>27.690000</td>\n",
       "      <td>26.540000</td>\n",
       "      <td>27.040000</td>\n",
       "      <td>26.910000</td>\n",
       "      <td>28.470000</td>\n",
       "      <td>29.220000</td>\n",
       "      <td>33.560000</td>\n",
       "    </tr>\n",
       "  </tbody>\n",
       "</table>\n",
       "<p>8 rows × 31 columns</p>\n",
       "</div>"
      ],
      "text/plain": [
       "             1991        1992        1993        1994        1995        1996  \\\n",
       "count  235.000000  235.000000  235.000000  235.000000  235.000000  235.000000   \n",
       "mean     7.278000    7.626340    8.070766    8.246043    8.333915    8.494894   \n",
       "std      6.013749    6.296617    6.335855    6.243778    6.330822    6.358431   \n",
       "min      0.300000    0.340000    0.410000    0.470000    0.500000    0.560000   \n",
       "25%      2.945000    3.140000    3.700000    3.890000    3.945000    3.995000   \n",
       "50%      5.410000    5.710000    6.030000    6.550000    6.700000    7.050000   \n",
       "75%      9.815000   10.170000   10.895000   11.110000   11.050000   11.405000   \n",
       "max     36.120000   36.390000   36.740000   36.980000   37.340000   38.800000   \n",
       "\n",
       "             1997        1998        1999        2000  ...        2012  \\\n",
       "count  235.000000  235.000000  235.000000  235.000000  ...  235.000000   \n",
       "mean     8.394043    8.441064    8.568043    8.438979  ...    8.062553   \n",
       "std      6.206845    6.133045    6.088361    6.126318  ...    5.780173   \n",
       "min      0.540000    0.560000    0.570000    0.580000  ...    0.480000   \n",
       "25%      4.020000    4.085000    4.275000    4.070000  ...    4.090000   \n",
       "50%      6.930000    6.890000    6.690000    6.530000  ...    6.450000   \n",
       "75%     11.090000   11.500000   11.845000   11.565000  ...   10.655000   \n",
       "max     37.940000   37.160000   36.350000   35.460000  ...   31.020000   \n",
       "\n",
       "             2013        2014        2015        2016        2017        2018  \\\n",
       "count  235.000000  235.000000  235.000000  235.000000  235.000000  235.000000   \n",
       "mean     8.086468    7.924340    7.818426    7.720979    7.485404    7.247404   \n",
       "std      5.832019    5.699899    5.574759    5.456333    5.318381    5.240429   \n",
       "min      0.250000    0.200000    0.170000    0.150000    0.140000    0.110000   \n",
       "25%      4.245000    4.200000    4.315000    4.310000    4.075000    3.875000   \n",
       "50%      6.290000    6.150000    6.080000    6.010000    5.800000    5.620000   \n",
       "75%     10.465000   10.290000   10.080000    9.895000    9.445000    9.060000   \n",
       "max     29.000000   28.030000   27.690000   26.540000   27.040000   26.910000   \n",
       "\n",
       "             2019        2020        2021  \n",
       "count  235.000000  235.000000  235.000000  \n",
       "mean     7.087362    8.278809    8.219660  \n",
       "std      5.129146    5.470319    5.506914  \n",
       "min      0.100000    0.210000    0.260000  \n",
       "25%      3.805000    4.620000    4.750000  \n",
       "50%      5.530000    6.800000    6.580000  \n",
       "75%      8.605000   10.230000   10.245000  \n",
       "max     28.470000   29.220000   33.560000  \n",
       "\n",
       "[8 rows x 31 columns]"
      ]
     },
     "execution_count": 1807,
     "metadata": {},
     "output_type": "execute_result"
    }
   ],
   "source": [
    "desemprego.describe()"
   ]
  },
  {
   "attachments": {},
   "cell_type": "markdown",
   "metadata": {},
   "source": [
    " O comando \"desemprego.info()\" nos fornecerá informações sobre os dados de desemprego, como o número de entradas e colunas, o tipo de dados de cada coluna e a quantidade de memória utilizada. Essas informações serão úteis para verificar a estrutura e o tipo de dados dos dados de desemprego, bem como para identificar possíveis problemas de integridade nos dados."
   ]
  },
  {
   "cell_type": "code",
   "execution_count": 1808,
   "metadata": {},
   "outputs": [
    {
     "name": "stdout",
     "output_type": "stream",
     "text": [
      "<class 'pandas.core.frame.DataFrame'>\n",
      "RangeIndex: 235 entries, 0 to 234\n",
      "Data columns (total 33 columns):\n",
      " #   Column        Non-Null Count  Dtype  \n",
      "---  ------        --------------  -----  \n",
      " 0   Country Name  235 non-null    object \n",
      " 1   Country Code  235 non-null    object \n",
      " 2   1991          235 non-null    float64\n",
      " 3   1992          235 non-null    float64\n",
      " 4   1993          235 non-null    float64\n",
      " 5   1994          235 non-null    float64\n",
      " 6   1995          235 non-null    float64\n",
      " 7   1996          235 non-null    float64\n",
      " 8   1997          235 non-null    float64\n",
      " 9   1998          235 non-null    float64\n",
      " 10  1999          235 non-null    float64\n",
      " 11  2000          235 non-null    float64\n",
      " 12  2001          235 non-null    float64\n",
      " 13  2002          235 non-null    float64\n",
      " 14  2003          235 non-null    float64\n",
      " 15  2004          235 non-null    float64\n",
      " 16  2005          235 non-null    float64\n",
      " 17  2006          235 non-null    float64\n",
      " 18  2007          235 non-null    float64\n",
      " 19  2008          235 non-null    float64\n",
      " 20  2009          235 non-null    float64\n",
      " 21  2010          235 non-null    float64\n",
      " 22  2011          235 non-null    float64\n",
      " 23  2012          235 non-null    float64\n",
      " 24  2013          235 non-null    float64\n",
      " 25  2014          235 non-null    float64\n",
      " 26  2015          235 non-null    float64\n",
      " 27  2016          235 non-null    float64\n",
      " 28  2017          235 non-null    float64\n",
      " 29  2018          235 non-null    float64\n",
      " 30  2019          235 non-null    float64\n",
      " 31  2020          235 non-null    float64\n",
      " 32  2021          235 non-null    float64\n",
      "dtypes: float64(31), object(2)\n",
      "memory usage: 60.7+ KB\n"
     ]
    }
   ],
   "source": [
    "desemprego.info()"
   ]
  },
  {
   "attachments": {},
   "cell_type": "markdown",
   "metadata": {},
   "source": [
    "A doença do coronavírus (COVID-19) é uma infecção causada pelo vírus SARS-CoV-2. A maioria das pessoas infectadas apresenta sintomas leves a moderados e se recupera sem tratamento especial. No entanto, algumas podem desenvolver doença grave, especialmente idosos e pessoas com condições médicas pré-existentes. O vírus se espalha por gotículas respiratórias quando uma pessoa infectada tosse, espirra, fala ou respira. É importante praticar etiqueta respiratória e se autoisolar se estiver doente."
   ]
  },
  {
   "cell_type": "code",
   "execution_count": 1809,
   "metadata": {},
   "outputs": [],
   "source": [
    "mortecovid = pd.read_csv(r'C:\\Users\\pamel\\OneDrive\\Documentos\\Pos IA\\Trabalho final\\covid 19 CountryWise.csv')\n"
   ]
  },
  {
   "attachments": {},
   "cell_type": "markdown",
   "metadata": {},
   "source": [
    "O dataset morte de COVID-19 foi carregado, para que posteriormente seja feita a sua fusão com o dataset desemprego."
   ]
  },
  {
   "cell_type": "code",
   "execution_count": 1810,
   "metadata": {},
   "outputs": [
    {
     "data": {
      "text/html": [
       "<div>\n",
       "<style scoped>\n",
       "    .dataframe tbody tr th:only-of-type {\n",
       "        vertical-align: middle;\n",
       "    }\n",
       "\n",
       "    .dataframe tbody tr th {\n",
       "        vertical-align: top;\n",
       "    }\n",
       "\n",
       "    .dataframe thead th {\n",
       "        text-align: right;\n",
       "    }\n",
       "</style>\n",
       "<table border=\"1\" class=\"dataframe\">\n",
       "  <thead>\n",
       "    <tr style=\"text-align: right;\">\n",
       "      <th></th>\n",
       "      <th>Country</th>\n",
       "      <th>Region</th>\n",
       "      <th>Total Cases</th>\n",
       "      <th>Total Cases per 100k pop</th>\n",
       "      <th>New Cases (7 days)</th>\n",
       "      <th>New Cases per 100k pop (7 days)</th>\n",
       "      <th>New Cases (24 hours)</th>\n",
       "      <th>Total Deaths</th>\n",
       "      <th>Total Deaths per 100k pop</th>\n",
       "      <th>New Deaths (7 days)</th>\n",
       "      <th>New Deaths per 100k pop (7 days)</th>\n",
       "      <th>New Deaths (24 hours)</th>\n",
       "    </tr>\n",
       "  </thead>\n",
       "  <tbody>\n",
       "    <tr>\n",
       "      <th>0</th>\n",
       "      <td>United States of America</td>\n",
       "      <td>Americas</td>\n",
       "      <td>94152573</td>\n",
       "      <td>28444.658</td>\n",
       "      <td>416281</td>\n",
       "      <td>125.764</td>\n",
       "      <td>76462</td>\n",
       "      <td>1040506</td>\n",
       "      <td>314.350</td>\n",
       "      <td>2590</td>\n",
       "      <td>0.782</td>\n",
       "      <td>624</td>\n",
       "    </tr>\n",
       "    <tr>\n",
       "      <th>1</th>\n",
       "      <td>India</td>\n",
       "      <td>South-East Asia</td>\n",
       "      <td>44516479</td>\n",
       "      <td>3225.822</td>\n",
       "      <td>37843</td>\n",
       "      <td>2.742</td>\n",
       "      <td>6422</td>\n",
       "      <td>528250</td>\n",
       "      <td>38.279</td>\n",
       "      <td>160</td>\n",
       "      <td>0.012</td>\n",
       "      <td>34</td>\n",
       "    </tr>\n",
       "    <tr>\n",
       "      <th>2</th>\n",
       "      <td>Brazil</td>\n",
       "      <td>Americas</td>\n",
       "      <td>34544377</td>\n",
       "      <td>16251.633</td>\n",
       "      <td>53446</td>\n",
       "      <td>25.144</td>\n",
       "      <td>10420</td>\n",
       "      <td>685002</td>\n",
       "      <td>322.264</td>\n",
       "      <td>422</td>\n",
       "      <td>0.199</td>\n",
       "      <td>104</td>\n",
       "    </tr>\n",
       "    <tr>\n",
       "      <th>3</th>\n",
       "      <td>France</td>\n",
       "      <td>Europe</td>\n",
       "      <td>33766090</td>\n",
       "      <td>51916.394</td>\n",
       "      <td>150781</td>\n",
       "      <td>231.830</td>\n",
       "      <td>36147</td>\n",
       "      <td>151062</td>\n",
       "      <td>232.262</td>\n",
       "      <td>217</td>\n",
       "      <td>0.334</td>\n",
       "      <td>38</td>\n",
       "    </tr>\n",
       "    <tr>\n",
       "      <th>4</th>\n",
       "      <td>Germany</td>\n",
       "      <td>Europe</td>\n",
       "      <td>32604993</td>\n",
       "      <td>39204.380</td>\n",
       "      <td>203649</td>\n",
       "      <td>244.868</td>\n",
       "      <td>32168</td>\n",
       "      <td>148728</td>\n",
       "      <td>178.831</td>\n",
       "      <td>50</td>\n",
       "      <td>0.060</td>\n",
       "      <td>8</td>\n",
       "    </tr>\n",
       "    <tr>\n",
       "      <th>...</th>\n",
       "      <td>...</td>\n",
       "      <td>...</td>\n",
       "      <td>...</td>\n",
       "      <td>...</td>\n",
       "      <td>...</td>\n",
       "      <td>...</td>\n",
       "      <td>...</td>\n",
       "      <td>...</td>\n",
       "      <td>...</td>\n",
       "      <td>...</td>\n",
       "      <td>...</td>\n",
       "      <td>...</td>\n",
       "    </tr>\n",
       "    <tr>\n",
       "      <th>232</th>\n",
       "      <td>Pitcairn Islands</td>\n",
       "      <td>Western Pacific</td>\n",
       "      <td>4</td>\n",
       "      <td>8000.000</td>\n",
       "      <td>0</td>\n",
       "      <td>0.000</td>\n",
       "      <td>0</td>\n",
       "      <td>0</td>\n",
       "      <td>0.000</td>\n",
       "      <td>0</td>\n",
       "      <td>0.000</td>\n",
       "      <td>0</td>\n",
       "    </tr>\n",
       "    <tr>\n",
       "      <th>233</th>\n",
       "      <td>Democratic People's Republic of Korea</td>\n",
       "      <td>South-East Asia</td>\n",
       "      <td>0</td>\n",
       "      <td>0.000</td>\n",
       "      <td>0</td>\n",
       "      <td>0.000</td>\n",
       "      <td>0</td>\n",
       "      <td>0</td>\n",
       "      <td>0.000</td>\n",
       "      <td>0</td>\n",
       "      <td>0.000</td>\n",
       "      <td>0</td>\n",
       "    </tr>\n",
       "    <tr>\n",
       "      <th>234</th>\n",
       "      <td>Saint Helena</td>\n",
       "      <td>Africa</td>\n",
       "      <td>0</td>\n",
       "      <td>0.000</td>\n",
       "      <td>0</td>\n",
       "      <td>0.000</td>\n",
       "      <td>0</td>\n",
       "      <td>0</td>\n",
       "      <td>0.000</td>\n",
       "      <td>0</td>\n",
       "      <td>0.000</td>\n",
       "      <td>0</td>\n",
       "    </tr>\n",
       "    <tr>\n",
       "      <th>235</th>\n",
       "      <td>Tokelau</td>\n",
       "      <td>Western Pacific</td>\n",
       "      <td>0</td>\n",
       "      <td>0.000</td>\n",
       "      <td>0</td>\n",
       "      <td>0.000</td>\n",
       "      <td>0</td>\n",
       "      <td>0</td>\n",
       "      <td>0.000</td>\n",
       "      <td>0</td>\n",
       "      <td>0.000</td>\n",
       "      <td>0</td>\n",
       "    </tr>\n",
       "    <tr>\n",
       "      <th>236</th>\n",
       "      <td>Turkmenistan</td>\n",
       "      <td>Europe</td>\n",
       "      <td>0</td>\n",
       "      <td>0.000</td>\n",
       "      <td>0</td>\n",
       "      <td>0.000</td>\n",
       "      <td>0</td>\n",
       "      <td>0</td>\n",
       "      <td>0.000</td>\n",
       "      <td>0</td>\n",
       "      <td>0.000</td>\n",
       "      <td>0</td>\n",
       "    </tr>\n",
       "  </tbody>\n",
       "</table>\n",
       "<p>237 rows × 12 columns</p>\n",
       "</div>"
      ],
      "text/plain": [
       "                                   Country           Region  Total Cases  \\\n",
       "0                 United States of America         Americas     94152573   \n",
       "1                                    India  South-East Asia     44516479   \n",
       "2                                   Brazil         Americas     34544377   \n",
       "3                                   France           Europe     33766090   \n",
       "4                                  Germany           Europe     32604993   \n",
       "..                                     ...              ...          ...   \n",
       "232                       Pitcairn Islands  Western Pacific            4   \n",
       "233  Democratic People's Republic of Korea  South-East Asia            0   \n",
       "234                           Saint Helena           Africa            0   \n",
       "235                                Tokelau  Western Pacific            0   \n",
       "236                           Turkmenistan           Europe            0   \n",
       "\n",
       "     Total Cases per 100k pop  New Cases (7 days)  \\\n",
       "0                   28444.658              416281   \n",
       "1                    3225.822               37843   \n",
       "2                   16251.633               53446   \n",
       "3                   51916.394              150781   \n",
       "4                   39204.380              203649   \n",
       "..                        ...                 ...   \n",
       "232                  8000.000                   0   \n",
       "233                     0.000                   0   \n",
       "234                     0.000                   0   \n",
       "235                     0.000                   0   \n",
       "236                     0.000                   0   \n",
       "\n",
       "     New Cases per 100k pop (7 days)  New Cases (24 hours)  Total Deaths  \\\n",
       "0                            125.764                 76462       1040506   \n",
       "1                              2.742                  6422        528250   \n",
       "2                             25.144                 10420        685002   \n",
       "3                            231.830                 36147        151062   \n",
       "4                            244.868                 32168        148728   \n",
       "..                               ...                   ...           ...   \n",
       "232                            0.000                     0             0   \n",
       "233                            0.000                     0             0   \n",
       "234                            0.000                     0             0   \n",
       "235                            0.000                     0             0   \n",
       "236                            0.000                     0             0   \n",
       "\n",
       "     Total Deaths per 100k pop  New Deaths (7 days)  \\\n",
       "0                      314.350                 2590   \n",
       "1                       38.279                  160   \n",
       "2                      322.264                  422   \n",
       "3                      232.262                  217   \n",
       "4                      178.831                   50   \n",
       "..                         ...                  ...   \n",
       "232                      0.000                    0   \n",
       "233                      0.000                    0   \n",
       "234                      0.000                    0   \n",
       "235                      0.000                    0   \n",
       "236                      0.000                    0   \n",
       "\n",
       "     New Deaths per 100k pop (7 days)  New Deaths (24 hours)  \n",
       "0                               0.782                    624  \n",
       "1                               0.012                     34  \n",
       "2                               0.199                    104  \n",
       "3                               0.334                     38  \n",
       "4                               0.060                      8  \n",
       "..                                ...                    ...  \n",
       "232                             0.000                      0  \n",
       "233                             0.000                      0  \n",
       "234                             0.000                      0  \n",
       "235                             0.000                      0  \n",
       "236                             0.000                      0  \n",
       "\n",
       "[237 rows x 12 columns]"
      ]
     },
     "execution_count": 1810,
     "metadata": {},
     "output_type": "execute_result"
    }
   ],
   "source": [
    "mortecovid"
   ]
  },
  {
   "attachments": {},
   "cell_type": "markdown",
   "metadata": {},
   "source": [
    "O comando \"print(mortecovid)\" será usado para exibir os dados relacionados às mortes por COVID-19, fornecendo informações valiosas sobre o impacto da doença. Isso ajudará na compreensão da gravidade da situação."
   ]
  },
  {
   "cell_type": "code",
   "execution_count": 1811,
   "metadata": {},
   "outputs": [
    {
     "name": "stdout",
     "output_type": "stream",
     "text": [
      "                                   Country           Region  Total Cases  \\\n",
      "0                 United States of America         Americas     94152573   \n",
      "1                                    India  South-East Asia     44516479   \n",
      "2                                   Brazil         Americas     34544377   \n",
      "3                                   France           Europe     33766090   \n",
      "4                                  Germany           Europe     32604993   \n",
      "..                                     ...              ...          ...   \n",
      "232                       Pitcairn Islands  Western Pacific            4   \n",
      "233  Democratic People's Republic of Korea  South-East Asia            0   \n",
      "234                           Saint Helena           Africa            0   \n",
      "235                                Tokelau  Western Pacific            0   \n",
      "236                           Turkmenistan           Europe            0   \n",
      "\n",
      "     Total Cases per 100k pop  New Cases (7 days)  \\\n",
      "0                   28444.658              416281   \n",
      "1                    3225.822               37843   \n",
      "2                   16251.633               53446   \n",
      "3                   51916.394              150781   \n",
      "4                   39204.380              203649   \n",
      "..                        ...                 ...   \n",
      "232                  8000.000                   0   \n",
      "233                     0.000                   0   \n",
      "234                     0.000                   0   \n",
      "235                     0.000                   0   \n",
      "236                     0.000                   0   \n",
      "\n",
      "     New Cases per 100k pop (7 days)  New Cases (24 hours)  Total Deaths  \\\n",
      "0                            125.764                 76462       1040506   \n",
      "1                              2.742                  6422        528250   \n",
      "2                             25.144                 10420        685002   \n",
      "3                            231.830                 36147        151062   \n",
      "4                            244.868                 32168        148728   \n",
      "..                               ...                   ...           ...   \n",
      "232                            0.000                     0             0   \n",
      "233                            0.000                     0             0   \n",
      "234                            0.000                     0             0   \n",
      "235                            0.000                     0             0   \n",
      "236                            0.000                     0             0   \n",
      "\n",
      "     Total Deaths per 100k pop  New Deaths (7 days)  \\\n",
      "0                      314.350                 2590   \n",
      "1                       38.279                  160   \n",
      "2                      322.264                  422   \n",
      "3                      232.262                  217   \n",
      "4                      178.831                   50   \n",
      "..                         ...                  ...   \n",
      "232                      0.000                    0   \n",
      "233                      0.000                    0   \n",
      "234                      0.000                    0   \n",
      "235                      0.000                    0   \n",
      "236                      0.000                    0   \n",
      "\n",
      "     New Deaths per 100k pop (7 days)  New Deaths (24 hours)  \n",
      "0                               0.782                    624  \n",
      "1                               0.012                     34  \n",
      "2                               0.199                    104  \n",
      "3                               0.334                     38  \n",
      "4                               0.060                      8  \n",
      "..                                ...                    ...  \n",
      "232                             0.000                      0  \n",
      "233                             0.000                      0  \n",
      "234                             0.000                      0  \n",
      "235                             0.000                      0  \n",
      "236                             0.000                      0  \n",
      "\n",
      "[237 rows x 12 columns]\n"
     ]
    }
   ],
   "source": [
    "print(mortecovid)\n"
   ]
  },
  {
   "attachments": {},
   "cell_type": "markdown",
   "metadata": {},
   "source": [
    "O comando \"mortecovid.describe()\" irá fornecer um resumo estatístico dos dados de morte por COVID-19. Ele irá apresenta informações importantes, como a contagem de observações, a média, o desvio padrão e os valores mínimo e máximo. Essas medidas permitirão analisar e entender rapidamente a distribuição e as características das mortes por COVID-19."
   ]
  },
  {
   "cell_type": "code",
   "execution_count": 1812,
   "metadata": {},
   "outputs": [
    {
     "data": {
      "text/html": [
       "<div>\n",
       "<style scoped>\n",
       "    .dataframe tbody tr th:only-of-type {\n",
       "        vertical-align: middle;\n",
       "    }\n",
       "\n",
       "    .dataframe tbody tr th {\n",
       "        vertical-align: top;\n",
       "    }\n",
       "\n",
       "    .dataframe thead th {\n",
       "        text-align: right;\n",
       "    }\n",
       "</style>\n",
       "<table border=\"1\" class=\"dataframe\">\n",
       "  <thead>\n",
       "    <tr style=\"text-align: right;\">\n",
       "      <th></th>\n",
       "      <th>Total Cases</th>\n",
       "      <th>Total Cases per 100k pop</th>\n",
       "      <th>New Cases (7 days)</th>\n",
       "      <th>New Cases per 100k pop (7 days)</th>\n",
       "      <th>New Cases (24 hours)</th>\n",
       "      <th>Total Deaths</th>\n",
       "      <th>Total Deaths per 100k pop</th>\n",
       "      <th>New Deaths (7 days)</th>\n",
       "      <th>New Deaths per 100k pop (7 days)</th>\n",
       "      <th>New Deaths (24 hours)</th>\n",
       "    </tr>\n",
       "  </thead>\n",
       "  <tbody>\n",
       "    <tr>\n",
       "      <th>count</th>\n",
       "      <td>2.370000e+02</td>\n",
       "      <td>236.000000</td>\n",
       "      <td>237.000000</td>\n",
       "      <td>236.00000</td>\n",
       "      <td>237.000000</td>\n",
       "      <td>2.370000e+02</td>\n",
       "      <td>236.000000</td>\n",
       "      <td>237.000000</td>\n",
       "      <td>236.000000</td>\n",
       "      <td>237.000000</td>\n",
       "    </tr>\n",
       "    <tr>\n",
       "      <th>mean</th>\n",
       "      <td>2.564328e+06</td>\n",
       "      <td>18317.636237</td>\n",
       "      <td>13656.540084</td>\n",
       "      <td>67.63300</td>\n",
       "      <td>2199.046414</td>\n",
       "      <td>2.742087e+04</td>\n",
       "      <td>118.370576</td>\n",
       "      <td>42.312236</td>\n",
       "      <td>0.205814</td>\n",
       "      <td>6.489451</td>\n",
       "    </tr>\n",
       "    <tr>\n",
       "      <th>std</th>\n",
       "      <td>8.411666e+06</td>\n",
       "      <td>18337.231057</td>\n",
       "      <td>64795.976248</td>\n",
       "      <td>176.04003</td>\n",
       "      <td>11009.984650</td>\n",
       "      <td>9.772406e+04</td>\n",
       "      <td>123.218458</td>\n",
       "      <td>202.189277</td>\n",
       "      <td>0.516606</td>\n",
       "      <td>43.935779</td>\n",
       "    </tr>\n",
       "    <tr>\n",
       "      <th>min</th>\n",
       "      <td>0.000000e+00</td>\n",
       "      <td>0.000000</td>\n",
       "      <td>0.000000</td>\n",
       "      <td>0.00000</td>\n",
       "      <td>0.000000</td>\n",
       "      <td>0.000000e+00</td>\n",
       "      <td>0.000000</td>\n",
       "      <td>0.000000</td>\n",
       "      <td>0.000000</td>\n",
       "      <td>0.000000</td>\n",
       "    </tr>\n",
       "    <tr>\n",
       "      <th>25%</th>\n",
       "      <td>2.055200e+04</td>\n",
       "      <td>1754.022250</td>\n",
       "      <td>2.000000</td>\n",
       "      <td>0.02200</td>\n",
       "      <td>0.000000</td>\n",
       "      <td>1.530000e+02</td>\n",
       "      <td>14.457750</td>\n",
       "      <td>0.000000</td>\n",
       "      <td>0.000000</td>\n",
       "      <td>0.000000</td>\n",
       "    </tr>\n",
       "    <tr>\n",
       "      <th>50%</th>\n",
       "      <td>1.849660e+05</td>\n",
       "      <td>12338.709000</td>\n",
       "      <td>100.000000</td>\n",
       "      <td>7.07250</td>\n",
       "      <td>0.000000</td>\n",
       "      <td>1.604000e+03</td>\n",
       "      <td>79.075500</td>\n",
       "      <td>0.000000</td>\n",
       "      <td>0.000000</td>\n",
       "      <td>0.000000</td>\n",
       "    </tr>\n",
       "    <tr>\n",
       "      <th>75%</th>\n",
       "      <td>1.149364e+06</td>\n",
       "      <td>30306.233250</td>\n",
       "      <td>2174.000000</td>\n",
       "      <td>54.90050</td>\n",
       "      <td>104.000000</td>\n",
       "      <td>1.201500e+04</td>\n",
       "      <td>191.180500</td>\n",
       "      <td>8.000000</td>\n",
       "      <td>0.156250</td>\n",
       "      <td>0.000000</td>\n",
       "    </tr>\n",
       "    <tr>\n",
       "      <th>max</th>\n",
       "      <td>9.415257e+07</td>\n",
       "      <td>70926.021000</td>\n",
       "      <td>638200.000000</td>\n",
       "      <td>1940.38800</td>\n",
       "      <td>99546.000000</td>\n",
       "      <td>1.040506e+06</td>\n",
       "      <td>655.629000</td>\n",
       "      <td>2590.000000</td>\n",
       "      <td>4.176000</td>\n",
       "      <td>624.000000</td>\n",
       "    </tr>\n",
       "  </tbody>\n",
       "</table>\n",
       "</div>"
      ],
      "text/plain": [
       "        Total Cases  Total Cases per 100k pop  New Cases (7 days)  \\\n",
       "count  2.370000e+02                236.000000          237.000000   \n",
       "mean   2.564328e+06              18317.636237        13656.540084   \n",
       "std    8.411666e+06              18337.231057        64795.976248   \n",
       "min    0.000000e+00                  0.000000            0.000000   \n",
       "25%    2.055200e+04               1754.022250            2.000000   \n",
       "50%    1.849660e+05              12338.709000          100.000000   \n",
       "75%    1.149364e+06              30306.233250         2174.000000   \n",
       "max    9.415257e+07              70926.021000       638200.000000   \n",
       "\n",
       "       New Cases per 100k pop (7 days)  New Cases (24 hours)  Total Deaths  \\\n",
       "count                        236.00000            237.000000  2.370000e+02   \n",
       "mean                          67.63300           2199.046414  2.742087e+04   \n",
       "std                          176.04003          11009.984650  9.772406e+04   \n",
       "min                            0.00000              0.000000  0.000000e+00   \n",
       "25%                            0.02200              0.000000  1.530000e+02   \n",
       "50%                            7.07250              0.000000  1.604000e+03   \n",
       "75%                           54.90050            104.000000  1.201500e+04   \n",
       "max                         1940.38800          99546.000000  1.040506e+06   \n",
       "\n",
       "       Total Deaths per 100k pop  New Deaths (7 days)  \\\n",
       "count                 236.000000           237.000000   \n",
       "mean                  118.370576            42.312236   \n",
       "std                   123.218458           202.189277   \n",
       "min                     0.000000             0.000000   \n",
       "25%                    14.457750             0.000000   \n",
       "50%                    79.075500             0.000000   \n",
       "75%                   191.180500             8.000000   \n",
       "max                   655.629000          2590.000000   \n",
       "\n",
       "       New Deaths per 100k pop (7 days)  New Deaths (24 hours)  \n",
       "count                        236.000000             237.000000  \n",
       "mean                           0.205814               6.489451  \n",
       "std                            0.516606              43.935779  \n",
       "min                            0.000000               0.000000  \n",
       "25%                            0.000000               0.000000  \n",
       "50%                            0.000000               0.000000  \n",
       "75%                            0.156250               0.000000  \n",
       "max                            4.176000             624.000000  "
      ]
     },
     "execution_count": 1812,
     "metadata": {},
     "output_type": "execute_result"
    }
   ],
   "source": [
    "mortecovid.describe()\n"
   ]
  },
  {
   "attachments": {},
   "cell_type": "markdown",
   "metadata": {},
   "source": [
    "O comando \"mortecovid.info()\" fornece informações detalhadas sobre os dados de morte causados pelo vírus da COVID-19. Ele apresenta o número de entradas e colunas, o tipo de dados de cada coluna e a quantidade de memória utilizada. Essas informações são úteis para analisar a estrutura e qualidade dos dados, identificando possíveis problemas e garantindo a integridade das informações relacionadas às mortes por COVID-19."
   ]
  },
  {
   "cell_type": "code",
   "execution_count": 1813,
   "metadata": {},
   "outputs": [
    {
     "name": "stdout",
     "output_type": "stream",
     "text": [
      "<class 'pandas.core.frame.DataFrame'>\n",
      "RangeIndex: 237 entries, 0 to 236\n",
      "Data columns (total 12 columns):\n",
      " #   Column                            Non-Null Count  Dtype  \n",
      "---  ------                            --------------  -----  \n",
      " 0   Country                           237 non-null    object \n",
      " 1   Region                            237 non-null    object \n",
      " 2   Total Cases                       237 non-null    int64  \n",
      " 3   Total Cases per 100k pop          236 non-null    float64\n",
      " 4   New Cases (7 days)                237 non-null    int64  \n",
      " 5   New Cases per 100k pop (7 days)   236 non-null    float64\n",
      " 6   New Cases (24 hours)              237 non-null    int64  \n",
      " 7   Total Deaths                      237 non-null    int64  \n",
      " 8   Total Deaths per 100k pop         236 non-null    float64\n",
      " 9   New Deaths (7 days)               237 non-null    int64  \n",
      " 10  New Deaths per 100k pop (7 days)  236 non-null    float64\n",
      " 11  New Deaths (24 hours)             237 non-null    int64  \n",
      "dtypes: float64(4), int64(6), object(2)\n",
      "memory usage: 22.3+ KB\n"
     ]
    }
   ],
   "source": [
    "mortecovid.info()"
   ]
  },
  {
   "attachments": {},
   "cell_type": "markdown",
   "metadata": {},
   "source": [
    "O comando \"pd.merge\" será utilizado para combinar os dados de mortalidade por COVID-19 e taxa de desemprego com base no país. Essa combinação será fundamental para analisar conjuntamente essas variáveis e investigar possíveis relações entre a taxa de mortalidade e o desemprego. Essa etapa é essencial antes de prosseguir com a análise dos dados combinados e obter insights sobre o impacto socioeconômico da pandemia."
   ]
  },
  {
   "cell_type": "code",
   "execution_count": 1814,
   "metadata": {},
   "outputs": [],
   "source": [
    "merged_df = pd.merge(mortecovid, desemprego, left_on='Country', right_on='Country Name')\n"
   ]
  },
  {
   "attachments": {},
   "cell_type": "markdown",
   "metadata": {},
   "source": [
    "Após a utilização do comnado \"pd.merge\" foi obtido o dataframe a \"merged_df\"."
   ]
  },
  {
   "cell_type": "code",
   "execution_count": 1815,
   "metadata": {},
   "outputs": [
    {
     "data": {
      "text/html": [
       "<div>\n",
       "<style scoped>\n",
       "    .dataframe tbody tr th:only-of-type {\n",
       "        vertical-align: middle;\n",
       "    }\n",
       "\n",
       "    .dataframe tbody tr th {\n",
       "        vertical-align: top;\n",
       "    }\n",
       "\n",
       "    .dataframe thead th {\n",
       "        text-align: right;\n",
       "    }\n",
       "</style>\n",
       "<table border=\"1\" class=\"dataframe\">\n",
       "  <thead>\n",
       "    <tr style=\"text-align: right;\">\n",
       "      <th></th>\n",
       "      <th>Country</th>\n",
       "      <th>Region</th>\n",
       "      <th>Total Cases</th>\n",
       "      <th>Total Cases per 100k pop</th>\n",
       "      <th>New Cases (7 days)</th>\n",
       "      <th>New Cases per 100k pop (7 days)</th>\n",
       "      <th>New Cases (24 hours)</th>\n",
       "      <th>Total Deaths</th>\n",
       "      <th>Total Deaths per 100k pop</th>\n",
       "      <th>New Deaths (7 days)</th>\n",
       "      <th>...</th>\n",
       "      <th>2012</th>\n",
       "      <th>2013</th>\n",
       "      <th>2014</th>\n",
       "      <th>2015</th>\n",
       "      <th>2016</th>\n",
       "      <th>2017</th>\n",
       "      <th>2018</th>\n",
       "      <th>2019</th>\n",
       "      <th>2020</th>\n",
       "      <th>2021</th>\n",
       "    </tr>\n",
       "  </thead>\n",
       "  <tbody>\n",
       "    <tr>\n",
       "      <th>0</th>\n",
       "      <td>India</td>\n",
       "      <td>South-East Asia</td>\n",
       "      <td>44516479</td>\n",
       "      <td>3225.822</td>\n",
       "      <td>37843</td>\n",
       "      <td>2.742</td>\n",
       "      <td>6422</td>\n",
       "      <td>528250</td>\n",
       "      <td>38.279</td>\n",
       "      <td>160</td>\n",
       "      <td>...</td>\n",
       "      <td>5.41</td>\n",
       "      <td>5.42</td>\n",
       "      <td>5.44</td>\n",
       "      <td>5.43</td>\n",
       "      <td>5.42</td>\n",
       "      <td>5.36</td>\n",
       "      <td>5.33</td>\n",
       "      <td>5.27</td>\n",
       "      <td>8.00</td>\n",
       "      <td>5.98</td>\n",
       "    </tr>\n",
       "    <tr>\n",
       "      <th>1</th>\n",
       "      <td>Brazil</td>\n",
       "      <td>Americas</td>\n",
       "      <td>34544377</td>\n",
       "      <td>16251.633</td>\n",
       "      <td>53446</td>\n",
       "      <td>25.144</td>\n",
       "      <td>10420</td>\n",
       "      <td>685002</td>\n",
       "      <td>322.264</td>\n",
       "      <td>422</td>\n",
       "      <td>...</td>\n",
       "      <td>7.19</td>\n",
       "      <td>6.98</td>\n",
       "      <td>6.66</td>\n",
       "      <td>8.43</td>\n",
       "      <td>11.60</td>\n",
       "      <td>12.82</td>\n",
       "      <td>12.33</td>\n",
       "      <td>11.93</td>\n",
       "      <td>13.69</td>\n",
       "      <td>14.40</td>\n",
       "    </tr>\n",
       "    <tr>\n",
       "      <th>2</th>\n",
       "      <td>France</td>\n",
       "      <td>Europe</td>\n",
       "      <td>33766090</td>\n",
       "      <td>51916.394</td>\n",
       "      <td>150781</td>\n",
       "      <td>231.830</td>\n",
       "      <td>36147</td>\n",
       "      <td>151062</td>\n",
       "      <td>232.262</td>\n",
       "      <td>217</td>\n",
       "      <td>...</td>\n",
       "      <td>9.40</td>\n",
       "      <td>9.92</td>\n",
       "      <td>10.29</td>\n",
       "      <td>10.35</td>\n",
       "      <td>10.05</td>\n",
       "      <td>9.41</td>\n",
       "      <td>9.02</td>\n",
       "      <td>8.41</td>\n",
       "      <td>8.01</td>\n",
       "      <td>8.06</td>\n",
       "    </tr>\n",
       "    <tr>\n",
       "      <th>3</th>\n",
       "      <td>Germany</td>\n",
       "      <td>Europe</td>\n",
       "      <td>32604993</td>\n",
       "      <td>39204.380</td>\n",
       "      <td>203649</td>\n",
       "      <td>244.868</td>\n",
       "      <td>32168</td>\n",
       "      <td>148728</td>\n",
       "      <td>178.831</td>\n",
       "      <td>50</td>\n",
       "      <td>...</td>\n",
       "      <td>5.38</td>\n",
       "      <td>5.23</td>\n",
       "      <td>4.98</td>\n",
       "      <td>4.62</td>\n",
       "      <td>4.12</td>\n",
       "      <td>3.75</td>\n",
       "      <td>3.38</td>\n",
       "      <td>3.14</td>\n",
       "      <td>3.81</td>\n",
       "      <td>3.54</td>\n",
       "    </tr>\n",
       "    <tr>\n",
       "      <th>4</th>\n",
       "      <td>Italy</td>\n",
       "      <td>Europe</td>\n",
       "      <td>22096450</td>\n",
       "      <td>37048.791</td>\n",
       "      <td>109155</td>\n",
       "      <td>183.019</td>\n",
       "      <td>18849</td>\n",
       "      <td>176404</td>\n",
       "      <td>295.774</td>\n",
       "      <td>395</td>\n",
       "      <td>...</td>\n",
       "      <td>10.65</td>\n",
       "      <td>12.15</td>\n",
       "      <td>12.68</td>\n",
       "      <td>11.90</td>\n",
       "      <td>11.69</td>\n",
       "      <td>11.21</td>\n",
       "      <td>10.61</td>\n",
       "      <td>9.95</td>\n",
       "      <td>9.16</td>\n",
       "      <td>9.83</td>\n",
       "    </tr>\n",
       "    <tr>\n",
       "      <th>...</th>\n",
       "      <td>...</td>\n",
       "      <td>...</td>\n",
       "      <td>...</td>\n",
       "      <td>...</td>\n",
       "      <td>...</td>\n",
       "      <td>...</td>\n",
       "      <td>...</td>\n",
       "      <td>...</td>\n",
       "      <td>...</td>\n",
       "      <td>...</td>\n",
       "      <td>...</td>\n",
       "      <td>...</td>\n",
       "      <td>...</td>\n",
       "      <td>...</td>\n",
       "      <td>...</td>\n",
       "      <td>...</td>\n",
       "      <td>...</td>\n",
       "      <td>...</td>\n",
       "      <td>...</td>\n",
       "      <td>...</td>\n",
       "      <td>...</td>\n",
       "    </tr>\n",
       "    <tr>\n",
       "      <th>153</th>\n",
       "      <td>Liberia</td>\n",
       "      <td>Africa</td>\n",
       "      <td>7929</td>\n",
       "      <td>156.771</td>\n",
       "      <td>0</td>\n",
       "      <td>0.000</td>\n",
       "      <td>0</td>\n",
       "      <td>294</td>\n",
       "      <td>5.813</td>\n",
       "      <td>0</td>\n",
       "      <td>...</td>\n",
       "      <td>2.17</td>\n",
       "      <td>2.12</td>\n",
       "      <td>2.08</td>\n",
       "      <td>2.08</td>\n",
       "      <td>3.08</td>\n",
       "      <td>3.05</td>\n",
       "      <td>3.03</td>\n",
       "      <td>3.02</td>\n",
       "      <td>3.98</td>\n",
       "      <td>4.09</td>\n",
       "    </tr>\n",
       "    <tr>\n",
       "      <th>154</th>\n",
       "      <td>Sierra Leone</td>\n",
       "      <td>Africa</td>\n",
       "      <td>7749</td>\n",
       "      <td>97.142</td>\n",
       "      <td>2</td>\n",
       "      <td>0.025</td>\n",
       "      <td>0</td>\n",
       "      <td>125</td>\n",
       "      <td>1.567</td>\n",
       "      <td>0</td>\n",
       "      <td>...</td>\n",
       "      <td>4.40</td>\n",
       "      <td>4.51</td>\n",
       "      <td>4.68</td>\n",
       "      <td>4.74</td>\n",
       "      <td>4.66</td>\n",
       "      <td>4.66</td>\n",
       "      <td>4.66</td>\n",
       "      <td>4.65</td>\n",
       "      <td>5.20</td>\n",
       "      <td>5.33</td>\n",
       "    </tr>\n",
       "    <tr>\n",
       "      <th>155</th>\n",
       "      <td>Chad</td>\n",
       "      <td>Africa</td>\n",
       "      <td>7558</td>\n",
       "      <td>46.013</td>\n",
       "      <td>11</td>\n",
       "      <td>0.067</td>\n",
       "      <td>0</td>\n",
       "      <td>193</td>\n",
       "      <td>1.175</td>\n",
       "      <td>0</td>\n",
       "      <td>...</td>\n",
       "      <td>1.01</td>\n",
       "      <td>1.03</td>\n",
       "      <td>1.05</td>\n",
       "      <td>1.07</td>\n",
       "      <td>1.10</td>\n",
       "      <td>1.12</td>\n",
       "      <td>1.13</td>\n",
       "      <td>1.12</td>\n",
       "      <td>1.74</td>\n",
       "      <td>1.88</td>\n",
       "    </tr>\n",
       "    <tr>\n",
       "      <th>156</th>\n",
       "      <td>Sao Tome and Principe</td>\n",
       "      <td>Africa</td>\n",
       "      <td>6177</td>\n",
       "      <td>2818.502</td>\n",
       "      <td>0</td>\n",
       "      <td>0.000</td>\n",
       "      <td>0</td>\n",
       "      <td>76</td>\n",
       "      <td>34.678</td>\n",
       "      <td>0</td>\n",
       "      <td>...</td>\n",
       "      <td>13.59</td>\n",
       "      <td>13.65</td>\n",
       "      <td>13.70</td>\n",
       "      <td>13.82</td>\n",
       "      <td>13.89</td>\n",
       "      <td>13.97</td>\n",
       "      <td>14.06</td>\n",
       "      <td>14.14</td>\n",
       "      <td>15.75</td>\n",
       "      <td>15.91</td>\n",
       "    </tr>\n",
       "    <tr>\n",
       "      <th>157</th>\n",
       "      <td>Turkmenistan</td>\n",
       "      <td>Europe</td>\n",
       "      <td>0</td>\n",
       "      <td>0.000</td>\n",
       "      <td>0</td>\n",
       "      <td>0.000</td>\n",
       "      <td>0</td>\n",
       "      <td>0</td>\n",
       "      <td>0.000</td>\n",
       "      <td>0</td>\n",
       "      <td>...</td>\n",
       "      <td>4.09</td>\n",
       "      <td>4.11</td>\n",
       "      <td>4.14</td>\n",
       "      <td>4.14</td>\n",
       "      <td>4.17</td>\n",
       "      <td>4.20</td>\n",
       "      <td>4.23</td>\n",
       "      <td>4.27</td>\n",
       "      <td>4.95</td>\n",
       "      <td>5.08</td>\n",
       "    </tr>\n",
       "  </tbody>\n",
       "</table>\n",
       "<p>158 rows × 45 columns</p>\n",
       "</div>"
      ],
      "text/plain": [
       "                   Country           Region  Total Cases  \\\n",
       "0                    India  South-East Asia     44516479   \n",
       "1                   Brazil         Americas     34544377   \n",
       "2                   France           Europe     33766090   \n",
       "3                  Germany           Europe     32604993   \n",
       "4                    Italy           Europe     22096450   \n",
       "..                     ...              ...          ...   \n",
       "153                Liberia           Africa         7929   \n",
       "154           Sierra Leone           Africa         7749   \n",
       "155                   Chad           Africa         7558   \n",
       "156  Sao Tome and Principe           Africa         6177   \n",
       "157           Turkmenistan           Europe            0   \n",
       "\n",
       "     Total Cases per 100k pop  New Cases (7 days)  \\\n",
       "0                    3225.822               37843   \n",
       "1                   16251.633               53446   \n",
       "2                   51916.394              150781   \n",
       "3                   39204.380              203649   \n",
       "4                   37048.791              109155   \n",
       "..                        ...                 ...   \n",
       "153                   156.771                   0   \n",
       "154                    97.142                   2   \n",
       "155                    46.013                  11   \n",
       "156                  2818.502                   0   \n",
       "157                     0.000                   0   \n",
       "\n",
       "     New Cases per 100k pop (7 days)  New Cases (24 hours)  Total Deaths  \\\n",
       "0                              2.742                  6422        528250   \n",
       "1                             25.144                 10420        685002   \n",
       "2                            231.830                 36147        151062   \n",
       "3                            244.868                 32168        148728   \n",
       "4                            183.019                 18849        176404   \n",
       "..                               ...                   ...           ...   \n",
       "153                            0.000                     0           294   \n",
       "154                            0.025                     0           125   \n",
       "155                            0.067                     0           193   \n",
       "156                            0.000                     0            76   \n",
       "157                            0.000                     0             0   \n",
       "\n",
       "     Total Deaths per 100k pop  New Deaths (7 days)  ...   2012   2013   2014  \\\n",
       "0                       38.279                  160  ...   5.41   5.42   5.44   \n",
       "1                      322.264                  422  ...   7.19   6.98   6.66   \n",
       "2                      232.262                  217  ...   9.40   9.92  10.29   \n",
       "3                      178.831                   50  ...   5.38   5.23   4.98   \n",
       "4                      295.774                  395  ...  10.65  12.15  12.68   \n",
       "..                         ...                  ...  ...    ...    ...    ...   \n",
       "153                      5.813                    0  ...   2.17   2.12   2.08   \n",
       "154                      1.567                    0  ...   4.40   4.51   4.68   \n",
       "155                      1.175                    0  ...   1.01   1.03   1.05   \n",
       "156                     34.678                    0  ...  13.59  13.65  13.70   \n",
       "157                      0.000                    0  ...   4.09   4.11   4.14   \n",
       "\n",
       "      2015   2016   2017   2018   2019   2020   2021  \n",
       "0     5.43   5.42   5.36   5.33   5.27   8.00   5.98  \n",
       "1     8.43  11.60  12.82  12.33  11.93  13.69  14.40  \n",
       "2    10.35  10.05   9.41   9.02   8.41   8.01   8.06  \n",
       "3     4.62   4.12   3.75   3.38   3.14   3.81   3.54  \n",
       "4    11.90  11.69  11.21  10.61   9.95   9.16   9.83  \n",
       "..     ...    ...    ...    ...    ...    ...    ...  \n",
       "153   2.08   3.08   3.05   3.03   3.02   3.98   4.09  \n",
       "154   4.74   4.66   4.66   4.66   4.65   5.20   5.33  \n",
       "155   1.07   1.10   1.12   1.13   1.12   1.74   1.88  \n",
       "156  13.82  13.89  13.97  14.06  14.14  15.75  15.91  \n",
       "157   4.14   4.17   4.20   4.23   4.27   4.95   5.08  \n",
       "\n",
       "[158 rows x 45 columns]"
      ]
     },
     "execution_count": 1815,
     "metadata": {},
     "output_type": "execute_result"
    }
   ],
   "source": [
    "merged_df"
   ]
  },
  {
   "attachments": {},
   "cell_type": "markdown",
   "metadata": {},
   "source": [
    "O comando \"merged_df.columns\" será utilizado para retornar uma lista dos nomes das colunas no DataFrame combinado. É útil para verificar rapidamente quais variáveis estão presentes nos dados combinados e facilitar a referência às colunas específicas durante a análise."
   ]
  },
  {
   "cell_type": "code",
   "execution_count": 1816,
   "metadata": {},
   "outputs": [
    {
     "data": {
      "text/plain": [
       "Index(['Country', 'Region', 'Total Cases', 'Total Cases per 100k pop',\n",
       "       'New Cases (7 days)', 'New Cases per 100k pop (7 days)',\n",
       "       'New Cases (24 hours)', 'Total Deaths', 'Total Deaths per 100k pop',\n",
       "       'New Deaths (7 days)', 'New Deaths per 100k pop (7 days)',\n",
       "       'New Deaths (24 hours)', 'Country Name', 'Country Code', '1991', '1992',\n",
       "       '1993', '1994', '1995', '1996', '1997', '1998', '1999', '2000', '2001',\n",
       "       '2002', '2003', '2004', '2005', '2006', '2007', '2008', '2009', '2010',\n",
       "       '2011', '2012', '2013', '2014', '2015', '2016', '2017', '2018', '2019',\n",
       "       '2020', '2021'],\n",
       "      dtype='object')"
      ]
     },
     "execution_count": 1816,
     "metadata": {},
     "output_type": "execute_result"
    }
   ],
   "source": [
    "merged_df.columns\n"
   ]
  },
  {
   "attachments": {},
   "cell_type": "markdown",
   "metadata": {},
   "source": [
    "O código abaixo irá ser utilizado para criar um novo DataFrame contendo apenas as colunas selecionadas. Isso nos permitirá focar na análise das variáveis de interesse e simplificar o manuseio dos dados."
   ]
  },
  {
   "cell_type": "code",
   "execution_count": 1817,
   "metadata": {},
   "outputs": [],
   "source": [
    "colunas_selecionadas = ['Country', 'Country Code','Region', 'Total Cases', 'Total Cases per 100k pop','Total Deaths', 'Total Deaths per 100k pop','2020']\n",
    "subset_df = merged_df [colunas_selecionadas]"
   ]
  },
  {
   "attachments": {},
   "cell_type": "markdown",
   "metadata": {},
   "source": [
    "Com o código acima foi obtido o novo dataframe \"subset_df\""
   ]
  },
  {
   "cell_type": "code",
   "execution_count": 1818,
   "metadata": {},
   "outputs": [
    {
     "data": {
      "text/html": [
       "<div>\n",
       "<style scoped>\n",
       "    .dataframe tbody tr th:only-of-type {\n",
       "        vertical-align: middle;\n",
       "    }\n",
       "\n",
       "    .dataframe tbody tr th {\n",
       "        vertical-align: top;\n",
       "    }\n",
       "\n",
       "    .dataframe thead th {\n",
       "        text-align: right;\n",
       "    }\n",
       "</style>\n",
       "<table border=\"1\" class=\"dataframe\">\n",
       "  <thead>\n",
       "    <tr style=\"text-align: right;\">\n",
       "      <th></th>\n",
       "      <th>Country</th>\n",
       "      <th>Country Code</th>\n",
       "      <th>Region</th>\n",
       "      <th>Total Cases</th>\n",
       "      <th>Total Cases per 100k pop</th>\n",
       "      <th>Total Deaths</th>\n",
       "      <th>Total Deaths per 100k pop</th>\n",
       "      <th>2020</th>\n",
       "    </tr>\n",
       "  </thead>\n",
       "  <tbody>\n",
       "    <tr>\n",
       "      <th>0</th>\n",
       "      <td>India</td>\n",
       "      <td>IND</td>\n",
       "      <td>South-East Asia</td>\n",
       "      <td>44516479</td>\n",
       "      <td>3225.822</td>\n",
       "      <td>528250</td>\n",
       "      <td>38.279</td>\n",
       "      <td>8.00</td>\n",
       "    </tr>\n",
       "    <tr>\n",
       "      <th>1</th>\n",
       "      <td>Brazil</td>\n",
       "      <td>BRA</td>\n",
       "      <td>Americas</td>\n",
       "      <td>34544377</td>\n",
       "      <td>16251.633</td>\n",
       "      <td>685002</td>\n",
       "      <td>322.264</td>\n",
       "      <td>13.69</td>\n",
       "    </tr>\n",
       "    <tr>\n",
       "      <th>2</th>\n",
       "      <td>France</td>\n",
       "      <td>FRA</td>\n",
       "      <td>Europe</td>\n",
       "      <td>33766090</td>\n",
       "      <td>51916.394</td>\n",
       "      <td>151062</td>\n",
       "      <td>232.262</td>\n",
       "      <td>8.01</td>\n",
       "    </tr>\n",
       "    <tr>\n",
       "      <th>3</th>\n",
       "      <td>Germany</td>\n",
       "      <td>DEU</td>\n",
       "      <td>Europe</td>\n",
       "      <td>32604993</td>\n",
       "      <td>39204.380</td>\n",
       "      <td>148728</td>\n",
       "      <td>178.831</td>\n",
       "      <td>3.81</td>\n",
       "    </tr>\n",
       "    <tr>\n",
       "      <th>4</th>\n",
       "      <td>Italy</td>\n",
       "      <td>ITA</td>\n",
       "      <td>Europe</td>\n",
       "      <td>22096450</td>\n",
       "      <td>37048.791</td>\n",
       "      <td>176404</td>\n",
       "      <td>295.774</td>\n",
       "      <td>9.16</td>\n",
       "    </tr>\n",
       "    <tr>\n",
       "      <th>...</th>\n",
       "      <td>...</td>\n",
       "      <td>...</td>\n",
       "      <td>...</td>\n",
       "      <td>...</td>\n",
       "      <td>...</td>\n",
       "      <td>...</td>\n",
       "      <td>...</td>\n",
       "      <td>...</td>\n",
       "    </tr>\n",
       "    <tr>\n",
       "      <th>153</th>\n",
       "      <td>Liberia</td>\n",
       "      <td>LBR</td>\n",
       "      <td>Africa</td>\n",
       "      <td>7929</td>\n",
       "      <td>156.771</td>\n",
       "      <td>294</td>\n",
       "      <td>5.813</td>\n",
       "      <td>3.98</td>\n",
       "    </tr>\n",
       "    <tr>\n",
       "      <th>154</th>\n",
       "      <td>Sierra Leone</td>\n",
       "      <td>SLE</td>\n",
       "      <td>Africa</td>\n",
       "      <td>7749</td>\n",
       "      <td>97.142</td>\n",
       "      <td>125</td>\n",
       "      <td>1.567</td>\n",
       "      <td>5.20</td>\n",
       "    </tr>\n",
       "    <tr>\n",
       "      <th>155</th>\n",
       "      <td>Chad</td>\n",
       "      <td>TCD</td>\n",
       "      <td>Africa</td>\n",
       "      <td>7558</td>\n",
       "      <td>46.013</td>\n",
       "      <td>193</td>\n",
       "      <td>1.175</td>\n",
       "      <td>1.74</td>\n",
       "    </tr>\n",
       "    <tr>\n",
       "      <th>156</th>\n",
       "      <td>Sao Tome and Principe</td>\n",
       "      <td>STP</td>\n",
       "      <td>Africa</td>\n",
       "      <td>6177</td>\n",
       "      <td>2818.502</td>\n",
       "      <td>76</td>\n",
       "      <td>34.678</td>\n",
       "      <td>15.75</td>\n",
       "    </tr>\n",
       "    <tr>\n",
       "      <th>157</th>\n",
       "      <td>Turkmenistan</td>\n",
       "      <td>TKM</td>\n",
       "      <td>Europe</td>\n",
       "      <td>0</td>\n",
       "      <td>0.000</td>\n",
       "      <td>0</td>\n",
       "      <td>0.000</td>\n",
       "      <td>4.95</td>\n",
       "    </tr>\n",
       "  </tbody>\n",
       "</table>\n",
       "<p>158 rows × 8 columns</p>\n",
       "</div>"
      ],
      "text/plain": [
       "                   Country Country Code           Region  Total Cases  \\\n",
       "0                    India          IND  South-East Asia     44516479   \n",
       "1                   Brazil          BRA         Americas     34544377   \n",
       "2                   France          FRA           Europe     33766090   \n",
       "3                  Germany          DEU           Europe     32604993   \n",
       "4                    Italy          ITA           Europe     22096450   \n",
       "..                     ...          ...              ...          ...   \n",
       "153                Liberia          LBR           Africa         7929   \n",
       "154           Sierra Leone          SLE           Africa         7749   \n",
       "155                   Chad          TCD           Africa         7558   \n",
       "156  Sao Tome and Principe          STP           Africa         6177   \n",
       "157           Turkmenistan          TKM           Europe            0   \n",
       "\n",
       "     Total Cases per 100k pop  Total Deaths  Total Deaths per 100k pop   2020  \n",
       "0                    3225.822        528250                     38.279   8.00  \n",
       "1                   16251.633        685002                    322.264  13.69  \n",
       "2                   51916.394        151062                    232.262   8.01  \n",
       "3                   39204.380        148728                    178.831   3.81  \n",
       "4                   37048.791        176404                    295.774   9.16  \n",
       "..                        ...           ...                        ...    ...  \n",
       "153                   156.771           294                      5.813   3.98  \n",
       "154                    97.142           125                      1.567   5.20  \n",
       "155                    46.013           193                      1.175   1.74  \n",
       "156                  2818.502            76                     34.678  15.75  \n",
       "157                     0.000             0                      0.000   4.95  \n",
       "\n",
       "[158 rows x 8 columns]"
      ]
     },
     "execution_count": 1818,
     "metadata": {},
     "output_type": "execute_result"
    }
   ],
   "source": [
    "subset_df "
   ]
  },
  {
   "attachments": {},
   "cell_type": "markdown",
   "metadata": {},
   "source": [
    "## Análise Exploratória dos Dados"
   ]
  },
  {
   "attachments": {},
   "cell_type": "markdown",
   "metadata": {},
   "source": [
    "O código \"nan_proportion = subset_df.isna().mean()\" nos permitirá calcula a proporção de valores ausentes em cada coluna do DataFrame subset_df. A variável \"nan_proportion\" irá armazenar essas proporções, o que nos permitirá avaliar a quantidade de dados faltantes em cada variável."
   ]
  },
  {
   "cell_type": "code",
   "execution_count": 1819,
   "metadata": {},
   "outputs": [
    {
     "data": {
      "text/plain": [
       "Country                      0.0\n",
       "Country Code                 0.0\n",
       "Region                       0.0\n",
       "Total Cases                  0.0\n",
       "Total Cases per 100k pop     0.0\n",
       "Total Deaths                 0.0\n",
       "Total Deaths per 100k pop    0.0\n",
       "2020                         0.0\n",
       "dtype: float64"
      ]
     },
     "execution_count": 1819,
     "metadata": {},
     "output_type": "execute_result"
    }
   ],
   "source": [
    "nan_proportion = subset_df.isna().mean()\n",
    "nan_proportion"
   ]
  },
  {
   "attachments": {},
   "cell_type": "markdown",
   "metadata": {},
   "source": [
    "\n",
    "O código abaixo será utilizado para remover a coluna \"Region\" do DataFrame subset_df. A variável \"subset_df\" é atualizada sem a coluna especificada, permitindo simplificar o conjunto de dados para análises posteriores."
   ]
  },
  {
   "cell_type": "code",
   "execution_count": 1820,
   "metadata": {},
   "outputs": [],
   "source": [
    "subset_df = subset_df.drop('Region',axis=1)\n"
   ]
  },
  {
   "attachments": {},
   "cell_type": "markdown",
   "metadata": {},
   "source": [
    "O camando abaixo será utilizado para apresentar o dataframe subset_df sem a coluna especificada. "
   ]
  },
  {
   "cell_type": "code",
   "execution_count": 1821,
   "metadata": {},
   "outputs": [
    {
     "data": {
      "text/html": [
       "<div>\n",
       "<style scoped>\n",
       "    .dataframe tbody tr th:only-of-type {\n",
       "        vertical-align: middle;\n",
       "    }\n",
       "\n",
       "    .dataframe tbody tr th {\n",
       "        vertical-align: top;\n",
       "    }\n",
       "\n",
       "    .dataframe thead th {\n",
       "        text-align: right;\n",
       "    }\n",
       "</style>\n",
       "<table border=\"1\" class=\"dataframe\">\n",
       "  <thead>\n",
       "    <tr style=\"text-align: right;\">\n",
       "      <th></th>\n",
       "      <th>Country</th>\n",
       "      <th>Country Code</th>\n",
       "      <th>Total Cases</th>\n",
       "      <th>Total Cases per 100k pop</th>\n",
       "      <th>Total Deaths</th>\n",
       "      <th>Total Deaths per 100k pop</th>\n",
       "      <th>2020</th>\n",
       "    </tr>\n",
       "  </thead>\n",
       "  <tbody>\n",
       "    <tr>\n",
       "      <th>0</th>\n",
       "      <td>India</td>\n",
       "      <td>IND</td>\n",
       "      <td>44516479</td>\n",
       "      <td>3225.822</td>\n",
       "      <td>528250</td>\n",
       "      <td>38.279</td>\n",
       "      <td>8.00</td>\n",
       "    </tr>\n",
       "    <tr>\n",
       "      <th>1</th>\n",
       "      <td>Brazil</td>\n",
       "      <td>BRA</td>\n",
       "      <td>34544377</td>\n",
       "      <td>16251.633</td>\n",
       "      <td>685002</td>\n",
       "      <td>322.264</td>\n",
       "      <td>13.69</td>\n",
       "    </tr>\n",
       "    <tr>\n",
       "      <th>2</th>\n",
       "      <td>France</td>\n",
       "      <td>FRA</td>\n",
       "      <td>33766090</td>\n",
       "      <td>51916.394</td>\n",
       "      <td>151062</td>\n",
       "      <td>232.262</td>\n",
       "      <td>8.01</td>\n",
       "    </tr>\n",
       "    <tr>\n",
       "      <th>3</th>\n",
       "      <td>Germany</td>\n",
       "      <td>DEU</td>\n",
       "      <td>32604993</td>\n",
       "      <td>39204.380</td>\n",
       "      <td>148728</td>\n",
       "      <td>178.831</td>\n",
       "      <td>3.81</td>\n",
       "    </tr>\n",
       "    <tr>\n",
       "      <th>4</th>\n",
       "      <td>Italy</td>\n",
       "      <td>ITA</td>\n",
       "      <td>22096450</td>\n",
       "      <td>37048.791</td>\n",
       "      <td>176404</td>\n",
       "      <td>295.774</td>\n",
       "      <td>9.16</td>\n",
       "    </tr>\n",
       "    <tr>\n",
       "      <th>...</th>\n",
       "      <td>...</td>\n",
       "      <td>...</td>\n",
       "      <td>...</td>\n",
       "      <td>...</td>\n",
       "      <td>...</td>\n",
       "      <td>...</td>\n",
       "      <td>...</td>\n",
       "    </tr>\n",
       "    <tr>\n",
       "      <th>153</th>\n",
       "      <td>Liberia</td>\n",
       "      <td>LBR</td>\n",
       "      <td>7929</td>\n",
       "      <td>156.771</td>\n",
       "      <td>294</td>\n",
       "      <td>5.813</td>\n",
       "      <td>3.98</td>\n",
       "    </tr>\n",
       "    <tr>\n",
       "      <th>154</th>\n",
       "      <td>Sierra Leone</td>\n",
       "      <td>SLE</td>\n",
       "      <td>7749</td>\n",
       "      <td>97.142</td>\n",
       "      <td>125</td>\n",
       "      <td>1.567</td>\n",
       "      <td>5.20</td>\n",
       "    </tr>\n",
       "    <tr>\n",
       "      <th>155</th>\n",
       "      <td>Chad</td>\n",
       "      <td>TCD</td>\n",
       "      <td>7558</td>\n",
       "      <td>46.013</td>\n",
       "      <td>193</td>\n",
       "      <td>1.175</td>\n",
       "      <td>1.74</td>\n",
       "    </tr>\n",
       "    <tr>\n",
       "      <th>156</th>\n",
       "      <td>Sao Tome and Principe</td>\n",
       "      <td>STP</td>\n",
       "      <td>6177</td>\n",
       "      <td>2818.502</td>\n",
       "      <td>76</td>\n",
       "      <td>34.678</td>\n",
       "      <td>15.75</td>\n",
       "    </tr>\n",
       "    <tr>\n",
       "      <th>157</th>\n",
       "      <td>Turkmenistan</td>\n",
       "      <td>TKM</td>\n",
       "      <td>0</td>\n",
       "      <td>0.000</td>\n",
       "      <td>0</td>\n",
       "      <td>0.000</td>\n",
       "      <td>4.95</td>\n",
       "    </tr>\n",
       "  </tbody>\n",
       "</table>\n",
       "<p>158 rows × 7 columns</p>\n",
       "</div>"
      ],
      "text/plain": [
       "                   Country Country Code  Total Cases  \\\n",
       "0                    India          IND     44516479   \n",
       "1                   Brazil          BRA     34544377   \n",
       "2                   France          FRA     33766090   \n",
       "3                  Germany          DEU     32604993   \n",
       "4                    Italy          ITA     22096450   \n",
       "..                     ...          ...          ...   \n",
       "153                Liberia          LBR         7929   \n",
       "154           Sierra Leone          SLE         7749   \n",
       "155                   Chad          TCD         7558   \n",
       "156  Sao Tome and Principe          STP         6177   \n",
       "157           Turkmenistan          TKM            0   \n",
       "\n",
       "     Total Cases per 100k pop  Total Deaths  Total Deaths per 100k pop   2020  \n",
       "0                    3225.822        528250                     38.279   8.00  \n",
       "1                   16251.633        685002                    322.264  13.69  \n",
       "2                   51916.394        151062                    232.262   8.01  \n",
       "3                   39204.380        148728                    178.831   3.81  \n",
       "4                   37048.791        176404                    295.774   9.16  \n",
       "..                        ...           ...                        ...    ...  \n",
       "153                   156.771           294                      5.813   3.98  \n",
       "154                    97.142           125                      1.567   5.20  \n",
       "155                    46.013           193                      1.175   1.74  \n",
       "156                  2818.502            76                     34.678  15.75  \n",
       "157                     0.000             0                      0.000   4.95  \n",
       "\n",
       "[158 rows x 7 columns]"
      ]
     },
     "execution_count": 1821,
     "metadata": {},
     "output_type": "execute_result"
    }
   ],
   "source": [
    "subset_df "
   ]
  },
  {
   "attachments": {},
   "cell_type": "markdown",
   "metadata": {},
   "source": [
    "A função rename será utilizada para renomear  a coluna '2020' é para 'Taxa de Desemprego' no DataFrame. O que permitirá melhorar a clareza e legibilidade dos dados, facilitando sua interpretação e análise."
   ]
  },
  {
   "cell_type": "code",
   "execution_count": 1822,
   "metadata": {},
   "outputs": [],
   "source": [
    "subset_df = subset_df.rename(columns={'2020': 'Taxa de Desemprego'})\n"
   ]
  },
  {
   "attachments": {},
   "cell_type": "markdown",
   "metadata": {},
   "source": [
    "O camando abaixo será utilizado para apresentar o dataframe subset_df com a mudança anterior. \n"
   ]
  },
  {
   "cell_type": "code",
   "execution_count": 1823,
   "metadata": {},
   "outputs": [
    {
     "data": {
      "text/html": [
       "<div>\n",
       "<style scoped>\n",
       "    .dataframe tbody tr th:only-of-type {\n",
       "        vertical-align: middle;\n",
       "    }\n",
       "\n",
       "    .dataframe tbody tr th {\n",
       "        vertical-align: top;\n",
       "    }\n",
       "\n",
       "    .dataframe thead th {\n",
       "        text-align: right;\n",
       "    }\n",
       "</style>\n",
       "<table border=\"1\" class=\"dataframe\">\n",
       "  <thead>\n",
       "    <tr style=\"text-align: right;\">\n",
       "      <th></th>\n",
       "      <th>Country</th>\n",
       "      <th>Country Code</th>\n",
       "      <th>Total Cases</th>\n",
       "      <th>Total Cases per 100k pop</th>\n",
       "      <th>Total Deaths</th>\n",
       "      <th>Total Deaths per 100k pop</th>\n",
       "      <th>Taxa de Desemprego</th>\n",
       "    </tr>\n",
       "  </thead>\n",
       "  <tbody>\n",
       "    <tr>\n",
       "      <th>0</th>\n",
       "      <td>India</td>\n",
       "      <td>IND</td>\n",
       "      <td>44516479</td>\n",
       "      <td>3225.822</td>\n",
       "      <td>528250</td>\n",
       "      <td>38.279</td>\n",
       "      <td>8.00</td>\n",
       "    </tr>\n",
       "    <tr>\n",
       "      <th>1</th>\n",
       "      <td>Brazil</td>\n",
       "      <td>BRA</td>\n",
       "      <td>34544377</td>\n",
       "      <td>16251.633</td>\n",
       "      <td>685002</td>\n",
       "      <td>322.264</td>\n",
       "      <td>13.69</td>\n",
       "    </tr>\n",
       "    <tr>\n",
       "      <th>2</th>\n",
       "      <td>France</td>\n",
       "      <td>FRA</td>\n",
       "      <td>33766090</td>\n",
       "      <td>51916.394</td>\n",
       "      <td>151062</td>\n",
       "      <td>232.262</td>\n",
       "      <td>8.01</td>\n",
       "    </tr>\n",
       "    <tr>\n",
       "      <th>3</th>\n",
       "      <td>Germany</td>\n",
       "      <td>DEU</td>\n",
       "      <td>32604993</td>\n",
       "      <td>39204.380</td>\n",
       "      <td>148728</td>\n",
       "      <td>178.831</td>\n",
       "      <td>3.81</td>\n",
       "    </tr>\n",
       "    <tr>\n",
       "      <th>4</th>\n",
       "      <td>Italy</td>\n",
       "      <td>ITA</td>\n",
       "      <td>22096450</td>\n",
       "      <td>37048.791</td>\n",
       "      <td>176404</td>\n",
       "      <td>295.774</td>\n",
       "      <td>9.16</td>\n",
       "    </tr>\n",
       "    <tr>\n",
       "      <th>...</th>\n",
       "      <td>...</td>\n",
       "      <td>...</td>\n",
       "      <td>...</td>\n",
       "      <td>...</td>\n",
       "      <td>...</td>\n",
       "      <td>...</td>\n",
       "      <td>...</td>\n",
       "    </tr>\n",
       "    <tr>\n",
       "      <th>153</th>\n",
       "      <td>Liberia</td>\n",
       "      <td>LBR</td>\n",
       "      <td>7929</td>\n",
       "      <td>156.771</td>\n",
       "      <td>294</td>\n",
       "      <td>5.813</td>\n",
       "      <td>3.98</td>\n",
       "    </tr>\n",
       "    <tr>\n",
       "      <th>154</th>\n",
       "      <td>Sierra Leone</td>\n",
       "      <td>SLE</td>\n",
       "      <td>7749</td>\n",
       "      <td>97.142</td>\n",
       "      <td>125</td>\n",
       "      <td>1.567</td>\n",
       "      <td>5.20</td>\n",
       "    </tr>\n",
       "    <tr>\n",
       "      <th>155</th>\n",
       "      <td>Chad</td>\n",
       "      <td>TCD</td>\n",
       "      <td>7558</td>\n",
       "      <td>46.013</td>\n",
       "      <td>193</td>\n",
       "      <td>1.175</td>\n",
       "      <td>1.74</td>\n",
       "    </tr>\n",
       "    <tr>\n",
       "      <th>156</th>\n",
       "      <td>Sao Tome and Principe</td>\n",
       "      <td>STP</td>\n",
       "      <td>6177</td>\n",
       "      <td>2818.502</td>\n",
       "      <td>76</td>\n",
       "      <td>34.678</td>\n",
       "      <td>15.75</td>\n",
       "    </tr>\n",
       "    <tr>\n",
       "      <th>157</th>\n",
       "      <td>Turkmenistan</td>\n",
       "      <td>TKM</td>\n",
       "      <td>0</td>\n",
       "      <td>0.000</td>\n",
       "      <td>0</td>\n",
       "      <td>0.000</td>\n",
       "      <td>4.95</td>\n",
       "    </tr>\n",
       "  </tbody>\n",
       "</table>\n",
       "<p>158 rows × 7 columns</p>\n",
       "</div>"
      ],
      "text/plain": [
       "                   Country Country Code  Total Cases  \\\n",
       "0                    India          IND     44516479   \n",
       "1                   Brazil          BRA     34544377   \n",
       "2                   France          FRA     33766090   \n",
       "3                  Germany          DEU     32604993   \n",
       "4                    Italy          ITA     22096450   \n",
       "..                     ...          ...          ...   \n",
       "153                Liberia          LBR         7929   \n",
       "154           Sierra Leone          SLE         7749   \n",
       "155                   Chad          TCD         7558   \n",
       "156  Sao Tome and Principe          STP         6177   \n",
       "157           Turkmenistan          TKM            0   \n",
       "\n",
       "     Total Cases per 100k pop  Total Deaths  Total Deaths per 100k pop  \\\n",
       "0                    3225.822        528250                     38.279   \n",
       "1                   16251.633        685002                    322.264   \n",
       "2                   51916.394        151062                    232.262   \n",
       "3                   39204.380        148728                    178.831   \n",
       "4                   37048.791        176404                    295.774   \n",
       "..                        ...           ...                        ...   \n",
       "153                   156.771           294                      5.813   \n",
       "154                    97.142           125                      1.567   \n",
       "155                    46.013           193                      1.175   \n",
       "156                  2818.502            76                     34.678   \n",
       "157                     0.000             0                      0.000   \n",
       "\n",
       "     Taxa de Desemprego  \n",
       "0                  8.00  \n",
       "1                 13.69  \n",
       "2                  8.01  \n",
       "3                  3.81  \n",
       "4                  9.16  \n",
       "..                  ...  \n",
       "153                3.98  \n",
       "154                5.20  \n",
       "155                1.74  \n",
       "156               15.75  \n",
       "157                4.95  \n",
       "\n",
       "[158 rows x 7 columns]"
      ]
     },
     "execution_count": 1823,
     "metadata": {},
     "output_type": "execute_result"
    }
   ],
   "source": [
    "subset_df"
   ]
  },
  {
   "attachments": {},
   "cell_type": "markdown",
   "metadata": {},
   "source": [
    "O código subset_df.dtypes será utilizado para verificar os tipos de dados das colunas no DataFrame."
   ]
  },
  {
   "cell_type": "code",
   "execution_count": 1824,
   "metadata": {},
   "outputs": [
    {
     "data": {
      "text/plain": [
       "Country                       object\n",
       "Country Code                  object\n",
       "Total Cases                    int64\n",
       "Total Cases per 100k pop     float64\n",
       "Total Deaths                   int64\n",
       "Total Deaths per 100k pop    float64\n",
       "Taxa de Desemprego           float64\n",
       "dtype: object"
      ]
     },
     "execution_count": 1824,
     "metadata": {},
     "output_type": "execute_result"
    }
   ],
   "source": [
    "subset_df.dtypes"
   ]
  },
  {
   "attachments": {},
   "cell_type": "markdown",
   "metadata": {},
   "source": [
    "O código será utilizado para importar a classe LabelEncoder do módulo sklearn.preprocessing. Em seguida, criar uma instância do LabelEncoder chamada 'le', que é utilizada para codificar variáveis categóricas em valores numéricos."
   ]
  },
  {
   "cell_type": "code",
   "execution_count": 1825,
   "metadata": {},
   "outputs": [],
   "source": [
    "from sklearn.preprocessing import LabelEncoder\n",
    "\n",
    "le = LabelEncoder()"
   ]
  },
  {
   "attachments": {},
   "cell_type": "markdown",
   "metadata": {},
   "source": [
    "\n",
    "O código será utilizado para percorrer as colunas do DataFrame e verificar se o tipo de dado da coluna é 'object'. Se for, utilizará o LabelEncoder (instância 'le') para transformar os valores categóricos em valores numéricos. Os valores são convertidos para o tipo de dado string antes da codificação."
   ]
  },
  {
   "cell_type": "code",
   "execution_count": 1826,
   "metadata": {},
   "outputs": [],
   "source": [
    "for col in subset_df.columns:\n",
    "    if subset_df[col].dtype == 'object':\n",
    "        subset_df[col] = le.fit_transform(merged_df[col].astype(str))"
   ]
  },
  {
   "attachments": {},
   "cell_type": "markdown",
   "metadata": {},
   "source": [
    "O código subset_df.dtypes será utilizado para verificar os tipos de dados das colunas no DataFrame."
   ]
  },
  {
   "cell_type": "code",
   "execution_count": 1827,
   "metadata": {},
   "outputs": [
    {
     "data": {
      "text/plain": [
       "Country                        int32\n",
       "Country Code                   int32\n",
       "Total Cases                    int64\n",
       "Total Cases per 100k pop     float64\n",
       "Total Deaths                   int64\n",
       "Total Deaths per 100k pop    float64\n",
       "Taxa de Desemprego           float64\n",
       "dtype: object"
      ]
     },
     "execution_count": 1827,
     "metadata": {},
     "output_type": "execute_result"
    }
   ],
   "source": [
    "subset_df.dtypes"
   ]
  },
  {
   "attachments": {},
   "cell_type": "markdown",
   "metadata": {},
   "source": [
    "O camando abaixo será utilizado para apresentar o dataframe subset_df."
   ]
  },
  {
   "cell_type": "code",
   "execution_count": 1828,
   "metadata": {},
   "outputs": [
    {
     "data": {
      "text/html": [
       "<div>\n",
       "<style scoped>\n",
       "    .dataframe tbody tr th:only-of-type {\n",
       "        vertical-align: middle;\n",
       "    }\n",
       "\n",
       "    .dataframe tbody tr th {\n",
       "        vertical-align: top;\n",
       "    }\n",
       "\n",
       "    .dataframe thead th {\n",
       "        text-align: right;\n",
       "    }\n",
       "</style>\n",
       "<table border=\"1\" class=\"dataframe\">\n",
       "  <thead>\n",
       "    <tr style=\"text-align: right;\">\n",
       "      <th></th>\n",
       "      <th>Country</th>\n",
       "      <th>Country Code</th>\n",
       "      <th>Total Cases</th>\n",
       "      <th>Total Cases per 100k pop</th>\n",
       "      <th>Total Deaths</th>\n",
       "      <th>Total Deaths per 100k pop</th>\n",
       "      <th>Taxa de Desemprego</th>\n",
       "    </tr>\n",
       "  </thead>\n",
       "  <tbody>\n",
       "    <tr>\n",
       "      <th>0</th>\n",
       "      <td>66</td>\n",
       "      <td>64</td>\n",
       "      <td>44516479</td>\n",
       "      <td>3225.822</td>\n",
       "      <td>528250</td>\n",
       "      <td>38.279</td>\n",
       "      <td>8.00</td>\n",
       "    </tr>\n",
       "    <tr>\n",
       "      <th>1</th>\n",
       "      <td>19</td>\n",
       "      <td>19</td>\n",
       "      <td>34544377</td>\n",
       "      <td>16251.633</td>\n",
       "      <td>685002</td>\n",
       "      <td>322.264</td>\n",
       "      <td>13.69</td>\n",
       "    </tr>\n",
       "    <tr>\n",
       "      <th>2</th>\n",
       "      <td>50</td>\n",
       "      <td>48</td>\n",
       "      <td>33766090</td>\n",
       "      <td>51916.394</td>\n",
       "      <td>151062</td>\n",
       "      <td>232.262</td>\n",
       "      <td>8.01</td>\n",
       "    </tr>\n",
       "    <tr>\n",
       "      <th>3</th>\n",
       "      <td>54</td>\n",
       "      <td>36</td>\n",
       "      <td>32604993</td>\n",
       "      <td>39204.380</td>\n",
       "      <td>148728</td>\n",
       "      <td>178.831</td>\n",
       "      <td>3.81</td>\n",
       "    </tr>\n",
       "    <tr>\n",
       "      <th>4</th>\n",
       "      <td>71</td>\n",
       "      <td>69</td>\n",
       "      <td>22096450</td>\n",
       "      <td>37048.791</td>\n",
       "      <td>176404</td>\n",
       "      <td>295.774</td>\n",
       "      <td>9.16</td>\n",
       "    </tr>\n",
       "    <tr>\n",
       "      <th>...</th>\n",
       "      <td>...</td>\n",
       "      <td>...</td>\n",
       "      <td>...</td>\n",
       "      <td>...</td>\n",
       "      <td>...</td>\n",
       "      <td>...</td>\n",
       "      <td>...</td>\n",
       "    </tr>\n",
       "    <tr>\n",
       "      <th>153</th>\n",
       "      <td>81</td>\n",
       "      <td>78</td>\n",
       "      <td>7929</td>\n",
       "      <td>156.771</td>\n",
       "      <td>294</td>\n",
       "      <td>5.813</td>\n",
       "      <td>3.98</td>\n",
       "    </tr>\n",
       "    <tr>\n",
       "      <th>154</th>\n",
       "      <td>128</td>\n",
       "      <td>129</td>\n",
       "      <td>7749</td>\n",
       "      <td>97.142</td>\n",
       "      <td>125</td>\n",
       "      <td>1.567</td>\n",
       "      <td>5.20</td>\n",
       "    </tr>\n",
       "    <tr>\n",
       "      <th>155</th>\n",
       "      <td>29</td>\n",
       "      <td>140</td>\n",
       "      <td>7558</td>\n",
       "      <td>46.013</td>\n",
       "      <td>193</td>\n",
       "      <td>1.175</td>\n",
       "      <td>1.74</td>\n",
       "    </tr>\n",
       "    <tr>\n",
       "      <th>156</th>\n",
       "      <td>124</td>\n",
       "      <td>134</td>\n",
       "      <td>6177</td>\n",
       "      <td>2818.502</td>\n",
       "      <td>76</td>\n",
       "      <td>34.678</td>\n",
       "      <td>15.75</td>\n",
       "    </tr>\n",
       "    <tr>\n",
       "      <th>157</th>\n",
       "      <td>149</td>\n",
       "      <td>144</td>\n",
       "      <td>0</td>\n",
       "      <td>0.000</td>\n",
       "      <td>0</td>\n",
       "      <td>0.000</td>\n",
       "      <td>4.95</td>\n",
       "    </tr>\n",
       "  </tbody>\n",
       "</table>\n",
       "<p>158 rows × 7 columns</p>\n",
       "</div>"
      ],
      "text/plain": [
       "     Country  Country Code  Total Cases  Total Cases per 100k pop  \\\n",
       "0         66            64     44516479                  3225.822   \n",
       "1         19            19     34544377                 16251.633   \n",
       "2         50            48     33766090                 51916.394   \n",
       "3         54            36     32604993                 39204.380   \n",
       "4         71            69     22096450                 37048.791   \n",
       "..       ...           ...          ...                       ...   \n",
       "153       81            78         7929                   156.771   \n",
       "154      128           129         7749                    97.142   \n",
       "155       29           140         7558                    46.013   \n",
       "156      124           134         6177                  2818.502   \n",
       "157      149           144            0                     0.000   \n",
       "\n",
       "     Total Deaths  Total Deaths per 100k pop  Taxa de Desemprego  \n",
       "0          528250                     38.279                8.00  \n",
       "1          685002                    322.264               13.69  \n",
       "2          151062                    232.262                8.01  \n",
       "3          148728                    178.831                3.81  \n",
       "4          176404                    295.774                9.16  \n",
       "..            ...                        ...                 ...  \n",
       "153           294                      5.813                3.98  \n",
       "154           125                      1.567                5.20  \n",
       "155           193                      1.175                1.74  \n",
       "156            76                     34.678               15.75  \n",
       "157             0                      0.000                4.95  \n",
       "\n",
       "[158 rows x 7 columns]"
      ]
     },
     "execution_count": 1828,
     "metadata": {},
     "output_type": "execute_result"
    }
   ],
   "source": [
    "subset_df"
   ]
  },
  {
   "attachments": {},
   "cell_type": "markdown",
   "metadata": {},
   "source": [
    "\n",
    "O código abaixo será utilizado para fazer uma descrição estatística dos dados presentes no DataFrame subset_df e armazena o resultado na variável desc_stats. Em seguida, o comando print é utilizado para exibir essa descrição estatística na saída."
   ]
  },
  {
   "cell_type": "code",
   "execution_count": 1829,
   "metadata": {},
   "outputs": [
    {
     "name": "stdout",
     "output_type": "stream",
     "text": [
      "          Country  Country Code   Total Cases  Total Cases per 100k pop  \\\n",
      "count  158.000000    158.000000  1.580000e+02                158.000000   \n",
      "mean    78.500000     78.500000  2.644520e+06              15070.452032   \n",
      "std     45.754781     45.754781  6.507527e+06              16814.258411   \n",
      "min      0.000000      0.000000  0.000000e+00                  0.000000   \n",
      "25%     39.250000     39.250000  6.926125e+04                985.946250   \n",
      "50%     78.500000     78.500000  4.389005e+05               8040.987000   \n",
      "75%    117.750000    117.750000  1.744450e+06              23719.153000   \n",
      "max    157.000000    157.000000  4.451648e+07              65303.574000   \n",
      "\n",
      "        Total Deaths  Total Deaths per 100k pop  Taxa de Desemprego  \n",
      "count     158.000000                 158.000000          158.000000  \n",
      "mean    30384.797468                 120.718082            8.438418  \n",
      "std     84862.532562                 132.479920            5.948919  \n",
      "min         0.000000                   0.000000            0.210000  \n",
      "25%       755.000000                  13.774750            4.427500  \n",
      "50%      4202.000000                  74.486000            6.755000  \n",
      "75%     18510.250000                 194.056750           10.980000  \n",
      "max    685002.000000                 655.629000           29.220000  \n"
     ]
    }
   ],
   "source": [
    "desc_stats = subset_df.describe()\n",
    "print(desc_stats)"
   ]
  },
  {
   "attachments": {},
   "cell_type": "markdown",
   "metadata": {},
   "source": [
    "Com base nos dados apresentados, algumas conclusões que podem ser tiradas são:\n",
    "\n",
    "Total de Casos: A média de casos é de aproximadamente 2.6 milhões, com um desvio padrão de 6.5 milhões. O valor mínimo é 0, o que indica a presença de países com nenhum caso registrado. O valor máximo é de 44.5 milhões, indicando a presença de países com um grande número de casos.\n",
    "\n",
    "Total de Casos por 100.000 habitantes: A média de casos por 100.000 habitantes é de aproximadamente 15.070, com um desvio padrão de 16.814. Isso mostra a variação na taxa de casos em relação à população de cada país.\n",
    "\n",
    "Total de Mortes: A média de mortes é de aproximadamente 30.384, com um desvio padrão de 84.862. O valor mínimo é 0, o que indica a presença de países sem registros de mortes. O valor máximo é de 685.002, indicando a presença de países com um alto número de mortes.\n",
    "\n",
    "Total de Mortes por 100.000 habitantes: A média de mortes por 100.000 habitantes é de aproximadamente 120.718, com um desvio padrão de 132.480. Essa métrica mostra a variação na taxa de mortalidade em relação à população de cada país.\n",
    "\n",
    "Taxa de Desemprego: A média da taxa de desemprego é de aproximadamente 8.438%, com um desvio padrão de 5.949%. Essa variável indica a situação do mercado de trabalho em cada país."
   ]
  },
  {
   "attachments": {},
   "cell_type": "markdown",
   "metadata": {},
   "source": [
    "O Histograma abaixo será utilizado para visualizar a relação do  Total de Casos e Total de Deaths"
   ]
  },
  {
   "cell_type": "code",
   "execution_count": 1830,
   "metadata": {},
   "outputs": [
    {
     "data": {
      "image/png": "[encoded data removed]",
      "text/plain": [
       "<Figure size 2000x500 with 2 Axes>"
      ]
     },
     "metadata": {},
     "output_type": "display_data"
    }
   ],
   "source": [
    "\n",
    "df_sorted = merged_df.sort_values(by='Total Deaths', ascending=False)\n",
    "\n",
    "fig, ax1 = plt.subplots(figsize=(20, 5))\n",
    "ax2 = ax1.twinx()\n",
    "\n",
    "sns.barplot(data=df_sorted, x='Country Code', y='Total Deaths', palette='Blues_d', ax=ax1)\n",
    "sns.barplot(data=df_sorted, x='Country Code', y='Total Cases', palette='Oranges_d', ax=ax2)\n",
    "\n",
    "ax1.set_xticklabels(df_sorted['Country Code'], rotation=90)\n",
    "ax1.set_xlabel('Country')\n",
    "ax1.set_ylabel('Total Deaths')\n",
    "ax2.set_ylabel('Total Cases')\n",
    "ax1.set_title('Total Deaths and Total Cases by Country')\n",
    "\n",
    "plt.show()\n",
    "\n"
   ]
  },
  {
   "attachments": {},
   "cell_type": "markdown",
   "metadata": {},
   "source": [
    "Por meio da visualição do gráfico, é possivél concluir que existe relação entre o aumento de casos e de mortes."
   ]
  },
  {
   "attachments": {},
   "cell_type": "markdown",
   "metadata": {},
   "source": [
    "O código abaixo será inserido para calcular a correlação entre as variáveis \"Total Cases\" (total de casos) e \"Total Deaths\" (total de mortes) do DataFrame."
   ]
  },
  {
   "cell_type": "code",
   "execution_count": 1831,
   "metadata": {},
   "outputs": [
    {
     "name": "stdout",
     "output_type": "stream",
     "text": [
      "0.8065851046831858\n"
     ]
    }
   ],
   "source": [
    "correlation = subset_df['Total Cases'].corr(subset_df['Total Deaths'])\n",
    "print(correlation)"
   ]
  },
  {
   "attachments": {},
   "cell_type": "markdown",
   "metadata": {},
   "source": [
    "A correlação de 0.8066 entre as variáveis 'Total Cases' e 'Total Deaths' indica uma forte correlação positiva entre essas duas variáveis. Isso significa que, em geral, à medida que o número total de casos aumenta, o número total de mortes também tende a aumentar."
   ]
  },
  {
   "attachments": {},
   "cell_type": "markdown",
   "metadata": {},
   "source": [
    "O código abaixo será inserido para calcular a correlação entre as variáveis \"Total Deaths\" (total de mortes) e \"Taxa de Desemprego\" do DataFrame."
   ]
  },
  {
   "cell_type": "code",
   "execution_count": 1832,
   "metadata": {},
   "outputs": [
    {
     "name": "stdout",
     "output_type": "stream",
     "text": [
      "0.02463002214973519\n"
     ]
    }
   ],
   "source": [
    "correlation = subset_df['Total Deaths'].corr(subset_df['Taxa de Desemprego'])\n",
    "print(correlation)"
   ]
  },
  {
   "attachments": {},
   "cell_type": "markdown",
   "metadata": {},
   "source": [
    "\n",
    "A correlação de  0.0246 entre as variáveis 'Total Deaths' e 'Taxa de Desemprego' indica uma correlação muito fraca ou praticamente nula entre essas duas variáveis. Essa correlação próxima de zero sugere que não há uma relação significativa entre o número total de mortes e a taxa de desemprego."
   ]
  },
  {
   "attachments": {},
   "cell_type": "markdown",
   "metadata": {},
   "source": [
    "O gráfico de dispersão será utilizado para mostrar a relação entre o número total de mortes e a taxa de desemprego. A linha de tendência irá indicar a tendência geral dos dados."
   ]
  },
  {
   "cell_type": "code",
   "execution_count": 1833,
   "metadata": {},
   "outputs": [
    {
     "data": {
      "image/png": "[encoded data removed]",
      "text/plain": [
       "<Figure size 1000x600 with 1 Axes>"
      ]
     },
     "metadata": {},
     "output_type": "display_data"
    }
   ],
   "source": [
    "x = subset_df['Total Deaths']\n",
    "y = subset_df['Taxa de Desemprego']\n",
    "coefficients = np.polyfit(x, y, 1)\n",
    "poly = np.poly1d(coefficients)\n",
    "\n",
    "plt.figure(figsize=(10, 6))\n",
    "plt.scatter(x, y)\n",
    "plt.plot(x, poly(x), color='red', linestyle='--', label='Linha de Tendência')\n",
    "plt.xlabel('Total Deaths')\n",
    "plt.ylabel('Taxa de Desemprego')\n",
    "plt.title('Relação entre Total Deaths e Taxa de Desemprego')\n",
    "plt.legend()\n",
    "plt.show()"
   ]
  },
  {
   "attachments": {},
   "cell_type": "markdown",
   "metadata": {},
   "source": [
    "O gráfico de dispersão apresenta uma dispersão dos pontos no eixo vertical (taxa de desemprego) e uma concentração no início do eixo horizontal (total de mortes). A linha de tendência, indica uma possível tendência de aumento na taxa de desemprego à medida que o número de mortes aumenta. "
   ]
  },
  {
   "attachments": {},
   "cell_type": "markdown",
   "metadata": {},
   "source": [
    "O código abaixo será utilizado para fornecer a equação da linhda de tendência."
   ]
  },
  {
   "cell_type": "code",
   "execution_count": 1834,
   "metadata": {},
   "outputs": [
    {
     "name": "stdout",
     "output_type": "stream",
     "text": [
      "Equação da reta de ajuste:\n",
      "y = 0.00x + 8.39\n"
     ]
    }
   ],
   "source": [
    "slope = coefficients[0]\n",
    "intercept = coefficients[1]\n",
    "equation = f\"y = {slope:.2f}x + {intercept:.2f}\"\n",
    "print(\"Equação da reta de ajuste:\")\n",
    "print(equation)"
   ]
  },
  {
   "attachments": {},
   "cell_type": "markdown",
   "metadata": {},
   "source": [
    "\n",
    "Com base no gráfico de dispersão e na equação da reta de ajuste, podemos concluir que não há uma relação linear entre as variáveis \"Total Deaths\" e \"Taxa de Desemprego\". A equação da reta de ajuste, y = 0.00x + 8.39, revela uma inclinação zero, indicando que não há um aumento ou diminuição sistemática na taxa de desemprego com base no número de mortes.\n",
    "\n",
    "Além disso, o coeficiente linear de 8.39 sugere que, mesmo quando o número de mortes é zero, a taxa de desemprego estimada é de aproximadamente 8.39%. Isso indica que outros fatores podem estar influenciando a taxa de desemprego, que não está diretamente relacionada ao número de mortes.\n",
    "\n",
    "Portanto, com base na análise do gráfico de dispersão e da reta de ajuste, não podemos estabelecer uma relação linear entre as variáveis \"Total Deaths\" e \"Taxa de Desemprego\". "
   ]
  },
  {
   "attachments": {},
   "cell_type": "markdown",
   "metadata": {},
   "source": [
    "O código abaixo será inserido para calcular a correlação entre as variáveis \"Total Cases\" (total de casos) e \"Taxa de Desemprego\" do DataFrame."
   ]
  },
  {
   "cell_type": "code",
   "execution_count": 1835,
   "metadata": {},
   "outputs": [
    {
     "name": "stdout",
     "output_type": "stream",
     "text": [
      "-0.03345052817992926\n"
     ]
    }
   ],
   "source": [
    "correlation = subset_df['Total Cases'].corr(subset_df['Taxa de Desemprego'])\n",
    "print(correlation)"
   ]
  },
  {
   "attachments": {},
   "cell_type": "markdown",
   "metadata": {},
   "source": [
    "A correlação de -0.03345052817992926 entre \"total de casos\" e \"taxa de desemprego\" indica uma correlação muito fraca e praticamente inexistente entre essas duas variáveis.\n",
    "\n",
    "Isso sugere que não há uma relação linear direta entre as variáveis, o que significa que as variações no total de casos não têm um impacto significativo na taxa de desemprego e vice-versa.\n",
    "\n",
    "Portanto, com base nessa correlação, não podemos concluir que exista uma relação significativa entre o número total de casos de COVID-19 e a taxa de desemprego."
   ]
  },
  {
   "attachments": {},
   "cell_type": "markdown",
   "metadata": {},
   "source": [
    "# Conclusão Parcial\n",
    "\n",
    "Com base nos dados analisados, não há evidências de uma influência direta entre a taxa de desemprego e o número de mortes por COVID-19. Portanto, não podemos concluir que o desemprego teve impacto no aumento das mortes relacionadas à doença.\n",
    "\n",
    "Para uma análise mais completa, será interessante investigar as taxas de desemprego nos 5 anos anteriores à pandemia do COVID-19 e um anos posterior. Dessa forma, poderemos observar se houve alguma relação entre o desemprego prévio e o aumento do desemprego durante o ano em que a pandemia teve início.\n",
    "\n",
    "Essa análise permitiria uma compreensão mais abrangente dos fatores que influenciaram o desemprego durante a pandemia."
   ]
  },
  {
   "attachments": {},
   "cell_type": "markdown",
   "metadata": {},
   "source": [
    "O código abaixo irá ser utilizado para criar um novo DataFrame contemplando além das colunas selecionadas ateriores, as colunas referente as taxas de desemprego nos 5 anos anteriores à pandemia do COVID-19 e um anos posterior que foram omitidas."
   ]
  },
  {
   "cell_type": "code",
   "execution_count": 1836,
   "metadata": {},
   "outputs": [],
   "source": [
    "colunas_selecionadas = ['Country','Country Code' ,'Total Cases', 'Total Cases per 100k pop','Total Deaths', 'Total Deaths per 100k pop','2015','2016','2017','2018','2019','2020','2021']\n",
    "subset1_df = merged_df [colunas_selecionadas]"
   ]
  },
  {
   "attachments": {},
   "cell_type": "markdown",
   "metadata": {},
   "source": [
    "A função rename será utilizada para renomear  as colubas referentes as 'Taxa de Desemprego' de cada ano no DataFrame. O que permitirá melhorar a clareza e legibilidade dos dados, facilitando sua interpretação e análise."
   ]
  },
  {
   "cell_type": "code",
   "execution_count": 1837,
   "metadata": {},
   "outputs": [],
   "source": [
    "subset1_df = subset1_df.rename(columns={'2021': 'Tx de Desemprego 2021'})\n",
    "subset1_df = subset1_df.rename(columns={'2020': 'Tx de Desemprego 2020'})\n",
    "subset1_df = subset1_df.rename(columns={'2019': 'Tx de Desemprego 2019'})\n",
    "subset1_df = subset1_df.rename(columns={'2018': 'Tx de Desemprego 2018'})\n",
    "subset1_df = subset1_df.rename(columns={'2017': 'Tx de Desemprego 2017'})\n",
    "subset1_df = subset1_df.rename(columns={'2016': 'Tx de Desemprego 2016'})\n",
    "subset1_df = subset1_df.rename(columns={'2015': 'Tx de Desemprego 2015'})"
   ]
  },
  {
   "attachments": {},
   "cell_type": "markdown",
   "metadata": {},
   "source": [
    "O camando abaixo será utilizado para apresentar o dataframe subset_df com as novas coluna e os nomes modificados. \n"
   ]
  },
  {
   "cell_type": "code",
   "execution_count": 1838,
   "metadata": {},
   "outputs": [
    {
     "data": {
      "text/html": [
       "<div>\n",
       "<style scoped>\n",
       "    .dataframe tbody tr th:only-of-type {\n",
       "        vertical-align: middle;\n",
       "    }\n",
       "\n",
       "    .dataframe tbody tr th {\n",
       "        vertical-align: top;\n",
       "    }\n",
       "\n",
       "    .dataframe thead th {\n",
       "        text-align: right;\n",
       "    }\n",
       "</style>\n",
       "<table border=\"1\" class=\"dataframe\">\n",
       "  <thead>\n",
       "    <tr style=\"text-align: right;\">\n",
       "      <th></th>\n",
       "      <th>Country</th>\n",
       "      <th>Country Code</th>\n",
       "      <th>Total Cases</th>\n",
       "      <th>Total Cases per 100k pop</th>\n",
       "      <th>Total Deaths</th>\n",
       "      <th>Total Deaths per 100k pop</th>\n",
       "      <th>Tx de Desemprego 2015</th>\n",
       "      <th>Tx de Desemprego 2016</th>\n",
       "      <th>Tx de Desemprego 2017</th>\n",
       "      <th>Tx de Desemprego 2018</th>\n",
       "      <th>Tx de Desemprego 2019</th>\n",
       "      <th>Tx de Desemprego 2020</th>\n",
       "      <th>Tx de Desemprego 2021</th>\n",
       "    </tr>\n",
       "  </thead>\n",
       "  <tbody>\n",
       "    <tr>\n",
       "      <th>0</th>\n",
       "      <td>India</td>\n",
       "      <td>IND</td>\n",
       "      <td>44516479</td>\n",
       "      <td>3225.822</td>\n",
       "      <td>528250</td>\n",
       "      <td>38.279</td>\n",
       "      <td>5.43</td>\n",
       "      <td>5.42</td>\n",
       "      <td>5.36</td>\n",
       "      <td>5.33</td>\n",
       "      <td>5.27</td>\n",
       "      <td>8.00</td>\n",
       "      <td>5.98</td>\n",
       "    </tr>\n",
       "    <tr>\n",
       "      <th>1</th>\n",
       "      <td>Brazil</td>\n",
       "      <td>BRA</td>\n",
       "      <td>34544377</td>\n",
       "      <td>16251.633</td>\n",
       "      <td>685002</td>\n",
       "      <td>322.264</td>\n",
       "      <td>8.43</td>\n",
       "      <td>11.60</td>\n",
       "      <td>12.82</td>\n",
       "      <td>12.33</td>\n",
       "      <td>11.93</td>\n",
       "      <td>13.69</td>\n",
       "      <td>14.40</td>\n",
       "    </tr>\n",
       "    <tr>\n",
       "      <th>2</th>\n",
       "      <td>France</td>\n",
       "      <td>FRA</td>\n",
       "      <td>33766090</td>\n",
       "      <td>51916.394</td>\n",
       "      <td>151062</td>\n",
       "      <td>232.262</td>\n",
       "      <td>10.35</td>\n",
       "      <td>10.05</td>\n",
       "      <td>9.41</td>\n",
       "      <td>9.02</td>\n",
       "      <td>8.41</td>\n",
       "      <td>8.01</td>\n",
       "      <td>8.06</td>\n",
       "    </tr>\n",
       "    <tr>\n",
       "      <th>3</th>\n",
       "      <td>Germany</td>\n",
       "      <td>DEU</td>\n",
       "      <td>32604993</td>\n",
       "      <td>39204.380</td>\n",
       "      <td>148728</td>\n",
       "      <td>178.831</td>\n",
       "      <td>4.62</td>\n",
       "      <td>4.12</td>\n",
       "      <td>3.75</td>\n",
       "      <td>3.38</td>\n",
       "      <td>3.14</td>\n",
       "      <td>3.81</td>\n",
       "      <td>3.54</td>\n",
       "    </tr>\n",
       "    <tr>\n",
       "      <th>4</th>\n",
       "      <td>Italy</td>\n",
       "      <td>ITA</td>\n",
       "      <td>22096450</td>\n",
       "      <td>37048.791</td>\n",
       "      <td>176404</td>\n",
       "      <td>295.774</td>\n",
       "      <td>11.90</td>\n",
       "      <td>11.69</td>\n",
       "      <td>11.21</td>\n",
       "      <td>10.61</td>\n",
       "      <td>9.95</td>\n",
       "      <td>9.16</td>\n",
       "      <td>9.83</td>\n",
       "    </tr>\n",
       "    <tr>\n",
       "      <th>...</th>\n",
       "      <td>...</td>\n",
       "      <td>...</td>\n",
       "      <td>...</td>\n",
       "      <td>...</td>\n",
       "      <td>...</td>\n",
       "      <td>...</td>\n",
       "      <td>...</td>\n",
       "      <td>...</td>\n",
       "      <td>...</td>\n",
       "      <td>...</td>\n",
       "      <td>...</td>\n",
       "      <td>...</td>\n",
       "      <td>...</td>\n",
       "    </tr>\n",
       "    <tr>\n",
       "      <th>153</th>\n",
       "      <td>Liberia</td>\n",
       "      <td>LBR</td>\n",
       "      <td>7929</td>\n",
       "      <td>156.771</td>\n",
       "      <td>294</td>\n",
       "      <td>5.813</td>\n",
       "      <td>2.08</td>\n",
       "      <td>3.08</td>\n",
       "      <td>3.05</td>\n",
       "      <td>3.03</td>\n",
       "      <td>3.02</td>\n",
       "      <td>3.98</td>\n",
       "      <td>4.09</td>\n",
       "    </tr>\n",
       "    <tr>\n",
       "      <th>154</th>\n",
       "      <td>Sierra Leone</td>\n",
       "      <td>SLE</td>\n",
       "      <td>7749</td>\n",
       "      <td>97.142</td>\n",
       "      <td>125</td>\n",
       "      <td>1.567</td>\n",
       "      <td>4.74</td>\n",
       "      <td>4.66</td>\n",
       "      <td>4.66</td>\n",
       "      <td>4.66</td>\n",
       "      <td>4.65</td>\n",
       "      <td>5.20</td>\n",
       "      <td>5.33</td>\n",
       "    </tr>\n",
       "    <tr>\n",
       "      <th>155</th>\n",
       "      <td>Chad</td>\n",
       "      <td>TCD</td>\n",
       "      <td>7558</td>\n",
       "      <td>46.013</td>\n",
       "      <td>193</td>\n",
       "      <td>1.175</td>\n",
       "      <td>1.07</td>\n",
       "      <td>1.10</td>\n",
       "      <td>1.12</td>\n",
       "      <td>1.13</td>\n",
       "      <td>1.12</td>\n",
       "      <td>1.74</td>\n",
       "      <td>1.88</td>\n",
       "    </tr>\n",
       "    <tr>\n",
       "      <th>156</th>\n",
       "      <td>Sao Tome and Principe</td>\n",
       "      <td>STP</td>\n",
       "      <td>6177</td>\n",
       "      <td>2818.502</td>\n",
       "      <td>76</td>\n",
       "      <td>34.678</td>\n",
       "      <td>13.82</td>\n",
       "      <td>13.89</td>\n",
       "      <td>13.97</td>\n",
       "      <td>14.06</td>\n",
       "      <td>14.14</td>\n",
       "      <td>15.75</td>\n",
       "      <td>15.91</td>\n",
       "    </tr>\n",
       "    <tr>\n",
       "      <th>157</th>\n",
       "      <td>Turkmenistan</td>\n",
       "      <td>TKM</td>\n",
       "      <td>0</td>\n",
       "      <td>0.000</td>\n",
       "      <td>0</td>\n",
       "      <td>0.000</td>\n",
       "      <td>4.14</td>\n",
       "      <td>4.17</td>\n",
       "      <td>4.20</td>\n",
       "      <td>4.23</td>\n",
       "      <td>4.27</td>\n",
       "      <td>4.95</td>\n",
       "      <td>5.08</td>\n",
       "    </tr>\n",
       "  </tbody>\n",
       "</table>\n",
       "<p>158 rows × 13 columns</p>\n",
       "</div>"
      ],
      "text/plain": [
       "                   Country Country Code  Total Cases  \\\n",
       "0                    India          IND     44516479   \n",
       "1                   Brazil          BRA     34544377   \n",
       "2                   France          FRA     33766090   \n",
       "3                  Germany          DEU     32604993   \n",
       "4                    Italy          ITA     22096450   \n",
       "..                     ...          ...          ...   \n",
       "153                Liberia          LBR         7929   \n",
       "154           Sierra Leone          SLE         7749   \n",
       "155                   Chad          TCD         7558   \n",
       "156  Sao Tome and Principe          STP         6177   \n",
       "157           Turkmenistan          TKM            0   \n",
       "\n",
       "     Total Cases per 100k pop  Total Deaths  Total Deaths per 100k pop  \\\n",
       "0                    3225.822        528250                     38.279   \n",
       "1                   16251.633        685002                    322.264   \n",
       "2                   51916.394        151062                    232.262   \n",
       "3                   39204.380        148728                    178.831   \n",
       "4                   37048.791        176404                    295.774   \n",
       "..                        ...           ...                        ...   \n",
       "153                   156.771           294                      5.813   \n",
       "154                    97.142           125                      1.567   \n",
       "155                    46.013           193                      1.175   \n",
       "156                  2818.502            76                     34.678   \n",
       "157                     0.000             0                      0.000   \n",
       "\n",
       "     Tx de Desemprego 2015  Tx de Desemprego 2016  Tx de Desemprego 2017  \\\n",
       "0                     5.43                   5.42                   5.36   \n",
       "1                     8.43                  11.60                  12.82   \n",
       "2                    10.35                  10.05                   9.41   \n",
       "3                     4.62                   4.12                   3.75   \n",
       "4                    11.90                  11.69                  11.21   \n",
       "..                     ...                    ...                    ...   \n",
       "153                   2.08                   3.08                   3.05   \n",
       "154                   4.74                   4.66                   4.66   \n",
       "155                   1.07                   1.10                   1.12   \n",
       "156                  13.82                  13.89                  13.97   \n",
       "157                   4.14                   4.17                   4.20   \n",
       "\n",
       "     Tx de Desemprego 2018  Tx de Desemprego 2019  Tx de Desemprego 2020  \\\n",
       "0                     5.33                   5.27                   8.00   \n",
       "1                    12.33                  11.93                  13.69   \n",
       "2                     9.02                   8.41                   8.01   \n",
       "3                     3.38                   3.14                   3.81   \n",
       "4                    10.61                   9.95                   9.16   \n",
       "..                     ...                    ...                    ...   \n",
       "153                   3.03                   3.02                   3.98   \n",
       "154                   4.66                   4.65                   5.20   \n",
       "155                   1.13                   1.12                   1.74   \n",
       "156                  14.06                  14.14                  15.75   \n",
       "157                   4.23                   4.27                   4.95   \n",
       "\n",
       "     Tx de Desemprego 2021  \n",
       "0                     5.98  \n",
       "1                    14.40  \n",
       "2                     8.06  \n",
       "3                     3.54  \n",
       "4                     9.83  \n",
       "..                     ...  \n",
       "153                   4.09  \n",
       "154                   5.33  \n",
       "155                   1.88  \n",
       "156                  15.91  \n",
       "157                   5.08  \n",
       "\n",
       "[158 rows x 13 columns]"
      ]
     },
     "execution_count": 1838,
     "metadata": {},
     "output_type": "execute_result"
    }
   ],
   "source": [
    "subset1_df "
   ]
  },
  {
   "attachments": {},
   "cell_type": "markdown",
   "metadata": {},
   "source": [
    "O código \"nan_proportion = subset_df.isna().mean()\" nos permitirá calcula a proporção de valores ausentes em cada coluna do DataFrame subset1_df. A variável \"nan_proportion\" irá armazenar essas proporções, o que nos permitirá avaliar a quantidade de dados faltantes em cada variável."
   ]
  },
  {
   "cell_type": "code",
   "execution_count": 1839,
   "metadata": {},
   "outputs": [
    {
     "data": {
      "text/plain": [
       "Country                      0.0\n",
       "Country Code                 0.0\n",
       "Total Cases                  0.0\n",
       "Total Cases per 100k pop     0.0\n",
       "Total Deaths                 0.0\n",
       "Total Deaths per 100k pop    0.0\n",
       "Tx de Desemprego 2015        0.0\n",
       "Tx de Desemprego 2016        0.0\n",
       "Tx de Desemprego 2017        0.0\n",
       "Tx de Desemprego 2018        0.0\n",
       "Tx de Desemprego 2019        0.0\n",
       "Tx de Desemprego 2020        0.0\n",
       "Tx de Desemprego 2021        0.0\n",
       "dtype: float64"
      ]
     },
     "execution_count": 1839,
     "metadata": {},
     "output_type": "execute_result"
    }
   ],
   "source": [
    "nan_proportion = subset1_df.isna().mean()\n",
    "nan_proportion"
   ]
  },
  {
   "attachments": {},
   "cell_type": "markdown",
   "metadata": {},
   "source": [
    "Não existe valores ausentes"
   ]
  },
  {
   "attachments": {},
   "cell_type": "markdown",
   "metadata": {},
   "source": [
    "\n",
    "O código abaixo será utilizado para fazer uma descrição estatística dos dados presentes no DataFrame subset1_df e armazena o resultado na variável desc_stats. Em seguida, o comando print é utilizado para exibir essa descrição estatística na saída."
   ]
  },
  {
   "cell_type": "code",
   "execution_count": 1840,
   "metadata": {},
   "outputs": [
    {
     "name": "stdout",
     "output_type": "stream",
     "text": [
      "        Total Cases  Total Cases per 100k pop   Total Deaths  \\\n",
      "count  1.580000e+02                158.000000     158.000000   \n",
      "mean   2.644520e+06              15070.452032   30384.797468   \n",
      "std    6.507527e+06              16814.258411   84862.532562   \n",
      "min    0.000000e+00                  0.000000       0.000000   \n",
      "25%    6.926125e+04                985.946250     755.000000   \n",
      "50%    4.389005e+05               8040.987000    4202.000000   \n",
      "75%    1.744450e+06              23719.153000   18510.250000   \n",
      "max    4.451648e+07              65303.574000  685002.000000   \n",
      "\n",
      "       Total Deaths per 100k pop  Tx de Desemprego 2015  \\\n",
      "count                 158.000000             158.000000   \n",
      "mean                  120.718082               8.070696   \n",
      "std                   132.479920               6.085223   \n",
      "min                     0.000000               0.170000   \n",
      "25%                    13.774750               4.035000   \n",
      "50%                    74.486000               6.590000   \n",
      "75%                   194.056750              10.075000   \n",
      "max                   655.629000              27.690000   \n",
      "\n",
      "       Tx de Desemprego 2016  Tx de Desemprego 2017  Tx de Desemprego 2018  \\\n",
      "count             158.000000             158.000000             158.000000   \n",
      "mean                7.928038               7.656899               7.408608   \n",
      "std                 5.927347               5.742194               5.621666   \n",
      "min                 0.150000               0.140000               0.110000   \n",
      "25%                 4.090000               3.845000               3.715000   \n",
      "50%                 6.010000               5.780000               5.600000   \n",
      "75%                10.162500              10.077500               9.177500   \n",
      "max                26.540000              27.040000              26.910000   \n",
      "\n",
      "       Tx de Desemprego 2019  Tx de Desemprego 2020  Tx de Desemprego 2021  \n",
      "count             158.000000             158.000000             158.000000  \n",
      "mean                7.235253               8.438418               8.420633  \n",
      "std                 5.544180               5.948919               5.990373  \n",
      "min                 0.100000               0.210000               0.260000  \n",
      "25%                 3.560000               4.427500               4.412500  \n",
      "50%                 5.400000               6.755000               6.575000  \n",
      "75%                 9.180000              10.980000              10.637500  \n",
      "max                28.470000              29.220000              33.560000  \n"
     ]
    }
   ],
   "source": [
    "desc_stats = subset1_df.describe()\n",
    "print(desc_stats)"
   ]
  },
  {
   "attachments": {},
   "cell_type": "markdown",
   "metadata": {},
   "source": [
    "Completando a primeira análise temos que:\n",
    "\n",
    "Tx de Desemprego 2015: A média da taxa de desemprego em 2015 foi de aproximadamente 8,07%, com um desvio padrão de 6,09. Isso indica que houve certa variação nas taxas de desemprego entre os países analisados nesse ano.\n",
    "\n",
    "Tx de Desemprego 2016: Em 2016, a média da taxa de desemprego foi de aproximadamente 7,93%, com um desvio padrão de 5,93. Houve uma leve diminuição na média em relação a 2015, mas a variação ainda foi significativa.\n",
    "\n",
    "Tx de Desemprego 2017: No ano de 2017, a média da taxa de desemprego foi de cerca de 7,66%, com um desvio padrão de 5,74. Houve uma leve redução em relação a 2016, mas novamente observamos variação considerável nos valores.\n",
    "\n",
    "Tx de Desemprego 2018: Em 2018, a média da taxa de desemprego foi de aproximadamente 7,41%, com um desvio padrão de 5,62. Houve uma nova redução em relação ao ano anterior, mas a variação ainda foi considerável.\n",
    "\n",
    "Tx de Desemprego 2019: No ano de 2019, a média da taxa de desemprego foi de cerca de 7,24%, com um desvio padrão de 5,54. Houve uma nova diminuição em relação a 2018, mas a variação nos valores persistiu.\n",
    "\n",
    "Tx de Desemprego 2020: Em 2020, a média da taxa de desemprego foi de aproximadamente 8,44%, com um desvio padrão de 5,95. Observa-se um aumento em relação ao ano anterior, e a variação nos valores continua presente.\n",
    "\n",
    "Tx de Desemprego 2021: No ano de 2021, a média da taxa de desemprego foi de cerca de 8,42%, com um desvio padrão de 5,99. Houve uma estabilidade em relação a 2020, e a variação nos valores persiste.\n",
    "\n",
    "Essas análises fornecem informações sobre as taxas de desemprego ao longo dos anos analisados. Podemos observar que houve variações nos valores, mas as médias se mantiveram em torno de 7% a 8% ao longo desse período"
   ]
  },
  {
   "attachments": {},
   "cell_type": "markdown",
   "metadata": {},
   "source": [
    "Para uma melhor visualização, foi feito um grafico de linhas."
   ]
  },
  {
   "cell_type": "code",
   "execution_count": 1841,
   "metadata": {},
   "outputs": [
    {
     "data": {
      "image/png": "[encoded data removed]",
      "text/plain": [
       "<Figure size 2500x800 with 1 Axes>"
      ]
     },
     "metadata": {},
     "output_type": "display_data"
    }
   ],
   "source": [
    "\n",
    "years = [2015, 2016, 2017, 2018, 2019, 2020, 2021]\n",
    "unemployment_rates = [8.07, 7.93, 7.66, 7.41, 7.24, 8.44, 8.42]\n",
    "\n",
    "plt.plot(years, unemployment_rates, marker='o')\n",
    "plt.xlabel('Ano')\n",
    "plt.ylabel('Taxa de Desemprego')\n",
    "plt.title('Variação da Taxa de Desemprego ao Longo dos Anos')\n",
    "\n",
    "plt.show()"
   ]
  },
  {
   "attachments": {},
   "cell_type": "markdown",
   "metadata": {},
   "source": [
    "\n",
    "O gráfico revela um pico significativo de desemprego em 2020, coincidindo com o ano em que a pandemia de COVID-19 foi declarada.\""
   ]
  },
  {
   "attachments": {},
   "cell_type": "markdown",
   "metadata": {},
   "source": [
    "O gráfico de dispersão será utilizado para mostrar a relação entre o número 'Total Deaths per 100k pop' e 'Total Cases per 100k pop'. A linha de tendência irá indicar a tendência geral dos dados."
   ]
  },
  {
   "cell_type": "code",
   "execution_count": 1842,
   "metadata": {},
   "outputs": [
    {
     "data": {
      "image/png": "[encoded data removed]",
      "text/plain": [
       "<Figure size 1000x600 with 1 Axes>"
      ]
     },
     "metadata": {},
     "output_type": "display_data"
    }
   ],
   "source": [
    "x = subset1_df['Total Deaths per 100k pop']\n",
    "y = subset1_df['Total Cases per 100k pop']\n",
    "coefficients1 = np.polyfit(x, y, 1)\n",
    "poly = np.poly1d(coefficients1)\n",
    "\n",
    "plt.figure(figsize=(10, 6))\n",
    "plt.scatter(x, y)\n",
    "plt.plot(x, poly(x), color='red', linestyle='--', label='Linha de Tendência')\n",
    "plt.xlabel('Total Deaths per 100k pop')\n",
    "plt.ylabel('Total Cases per 100k pop')\n",
    "plt.title('Relação entre Total cases e Total de Deaths ')\n",
    "plt.legend()\n",
    "plt.show()"
   ]
  },
  {
   "cell_type": "code",
   "execution_count": 1843,
   "metadata": {},
   "outputs": [
    {
     "name": "stdout",
     "output_type": "stream",
     "text": [
      "Equação da reta de ajuste:\n",
      "y = 64.05x + 7338.68\n"
     ]
    }
   ],
   "source": [
    "slope = coefficients1[0]\n",
    "intercept = coefficients1[1]\n",
    "equation = f\"y = {slope:.2f}x + {intercept:.2f}\"\n",
    "print(\"Equação da reta de ajuste:\")\n",
    "print(equation)"
   ]
  },
  {
   "attachments": {},
   "cell_type": "markdown",
   "metadata": {},
   "source": [
    "Com base na equação da reta de ajuste y = 64.05x + 7338.68, que relaciona o número de mortes por 100.000 habitantes (y) com o número de casos por 100.000 habitantes (x), podemos inferir que:\n",
    "\n",
    "O coeficiente angular (64.05) indica que, para cada unidade de aumento no número de casos por 100.000 habitantes, espera-se um aumento de 64.05 no número de mortes por 100.000 habitantes. Isso sugere uma relação positiva moderada entre as duas variáveis, indicando que um aumento nos casos está associado a um aumento proporcionalmente maior nas mortes.\n",
    "\n",
    "O coeficiente linear (7338.68) indica que, quando o número de casos por 100.000 habitantes é igual a zero, o valor esperado do número de mortes por 100.000 habitantes é de aproximadamente 7338.68. Isso fornece um ponto de partida ou referência inicial para a relação entre as duas variáveis.\n",
    "\n",
    "Portanto, com base na equação da reta de ajuste, podemos concluir que há uma relação positiva moderada entre o número de mortes por 100.000 habitantes e o número de casos por 100.000 habitantes. Isso indica que um aumento nos casos está associado a um aumento proporcionalmente maior nas mortes por 100.000 habitantes"
   ]
  },
  {
   "attachments": {},
   "cell_type": "markdown",
   "metadata": {},
   "source": [
    "O gráfico de mapa de calor será utilizado para mostrar a distribuição dos casos totais de COVID-19 por país. As cores no mapa irá indicar a intensidade dos casos, onde cores mais claras representará um maior número de casos e cores mais escuras representará um menor número de casos. Isso permitirá visualizar a disseminação da doença em diferentes regiões e identificar os países mais afetados."
   ]
  },
  {
   "cell_type": "code",
   "execution_count": 1844,
   "metadata": {},
   "outputs": [
    {
     "data": {
      "application/vnd.plotly.v1+json": {
       "config": {
        "plotlyServerURL": "https://plot.ly"
       },
       "data": [
        {
         "coloraxis": "coloraxis",
         "geo": "geo",
         "hovertemplate": "Country Code=%{location}<br>Total Cases=%{z}<extra></extra>",
         "locations": [
          "IND",
          "BRA",
          "FRA",
          "DEU",
          "ITA",
          "JPN",
          "RUS",
          "ESP",
          "AUS",
          "ARG",
          "NLD",
          "MEX",
          "CHN",
          "IDN",
          "COL",
          "POL",
          "PRT",
          "UKR",
          "AUT",
          "GRC",
          "MYS",
          "THA",
          "ISR",
          "CHL",
          "BEL",
          "CAN",
          "PER",
          "CHE",
          "ZAF",
          "PHL",
          "DNK",
          "ROU",
          "SWE",
          "IRQ",
          "SRB",
          "HUN",
          "BGD",
          "SGP",
          "GEO",
          "NZL",
          "JOR",
          "IRL",
          "PAK",
          "KAZ",
          "NOR",
          "FIN",
          "MAR",
          "BGR",
          "LTU",
          "HRV",
          "LBN",
          "SVN",
          "TUN",
          "GTM",
          "CUB",
          "CRI",
          "ARE",
          "ECU",
          "NPL",
          "BLR",
          "PAN",
          "URY",
          "MNG",
          "PRI",
          "LVA",
          "AZE",
          "SAU",
          "PRY",
          "BHR",
          "LKA",
          "KWT",
          "DOM",
          "MMR",
          "EST",
          "CYP",
          "LBY",
          "ETH",
          "HND",
          "ARM",
          "QAT",
          "OMN",
          "BIH",
          "MKD",
          "KEN",
          "ZMB",
          "ALB",
          "BWA",
          "LUX",
          "MNE",
          "DZA",
          "NGA",
          "MUS",
          "ZWE",
          "UZB",
          "MOZ",
          "BRN",
          "ISL",
          "SLV",
          "AFG",
          "MDV",
          "TTO",
          "UGA",
          "GHA",
          "NAM",
          "JAM",
          "KHM",
          "RWA",
          "CMR",
          "MLT",
          "AGO",
          "BRB",
          "SEN",
          "MWI",
          "SUR",
          "PYF",
          "NCL",
          "SWZ",
          "GUY",
          "BLZ",
          "FJI",
          "MDG",
          "SDN",
          "MRT",
          "CPV",
          "BTN",
          "SYR",
          "BDI",
          "GUM",
          "GAB",
          "PNG",
          "TGO",
          "GIN",
          "LSO",
          "HTI",
          "MLI",
          "BEN",
          "SOM",
          "TLS",
          "SLB",
          "BFA",
          "TJK",
          "SSD",
          "GNQ",
          "TON",
          "WSM",
          "DJI",
          "NIC",
          "CAF",
          "VUT",
          "ERI",
          "NER",
          "GNB",
          "COM",
          "LBR",
          "SLE",
          "TCD",
          "STP",
          "TKM"
         ],
         "name": "",
         "type": "choropleth",
         "z": [
          44516479,
          34544377,
          33766090,
          32604993,
          22096450,
          20399933,
          20265004,
          13374116,
          10112229,
          9697763,
          8401272,
          7059936,
          6978307,
          6402686,
          6304317,
          6233117,
          5451460,
          5096397,
          5002850,
          4838811,
          4811327,
          4671309,
          4646872,
          4572350,
          4504106,
          4197701,
          4127612,
          4053997,
          4014986,
          3911487,
          3283706,
          3247140,
          2573548,
          2458509,
          2324719,
          2070443,
          2016583,
          1867168,
          1762206,
          1745181,
          1742256,
          1660635,
          1571530,
          1482094,
          1461201,
          1277473,
          1264711,
          1250250,
          1232367,
          1222007,
          1213200,
          1149364,
          1145163,
          1112550,
          1110948,
          1105792,
          1021191,
          999837,
          999121,
          994037,
          984234,
          982846,
          981618,
          943972,
          912002,
          818634,
          814829,
          715806,
          674909,
          670519,
          657745,
          641677,
          617739,
          599596,
          579899,
          506909,
          493367,
          455669,
          439302,
          438499,
          397993,
          397602,
          341889,
          338308,
          333229,
          330149,
          326107,
          288527,
          277805,
          270570,
          264617,
          260947,
          256939,
          244006,
          230184,
          224610,
          205284,
          201785,
          196663,
          184966,
          181567,
          169001,
          168616,
          166645,
          150909,
          137739,
          132474,
          121652,
          114348,
          103131,
          101979,
          88230,
          87842,
          81078,
          76578,
          74222,
          73374,
          71209,
          68612,
          68207,
          66652,
          63275,
          62778,
          62346,
          61419,
          57197,
          49882,
          48669,
          48668,
          44931,
          38678,
          37652,
          34287,
          33702,
          32385,
          27638,
          27197,
          23237,
          21544,
          21128,
          17786,
          17780,
          16894,
          16182,
          15889,
          15690,
          14990,
          14903,
          11921,
          10163,
          9388,
          8796,
          8467,
          7929,
          7749,
          7558,
          6177,
          0
         ]
        }
       ],
       "layout": {
        "coloraxis": {
         "colorbar": {
          "title": {
           "text": "Total Cases"
          }
         },
         "colorscale": [
          [
           0,
           "rgb(255,255,204)"
          ],
          [
           0.125,
           "rgb(255,237,160)"
          ],
          [
           0.25,
           "rgb(254,217,118)"
          ],
          [
           0.375,
           "rgb(254,178,76)"
          ],
          [
           0.5,
           "rgb(253,141,60)"
          ],
          [
           0.625,
           "rgb(252,78,42)"
          ],
          [
           0.75,
           "rgb(227,26,28)"
          ],
          [
           0.875,
           "rgb(189,0,38)"
          ],
          [
           1,
           "rgb(128,0,38)"
          ]
         ]
        },
        "geo": {
         "center": {},
         "domain": {
          "x": [
           0,
           1
          ],
          "y": [
           0,
           1
          ]
         }
        },
        "legend": {
         "tracegroupgap": 0
        },
        "template": {
         "data": {
          "bar": [
           {
            "error_x": {
             "color": "#2a3f5f"
            },
            "error_y": {
             "color": "#2a3f5f"
            },
            "marker": {
             "line": {
              "color": "#E5ECF6",
              "width": 0.5
             },
             "pattern": {
              "fillmode": "overlay",
              "size": 10,
              "solidity": 0.2
             }
            },
            "type": "bar"
           }
          ],
          "barpolar": [
           {
            "marker": {
             "line": {
              "color": "#E5ECF6",
              "width": 0.5
             },
             "pattern": {
              "fillmode": "overlay",
              "size": 10,
              "solidity": 0.2
             }
            },
            "type": "barpolar"
           }
          ],
          "carpet": [
           {
            "aaxis": {
             "endlinecolor": "#2a3f5f",
             "gridcolor": "white",
             "linecolor": "white",
             "minorgridcolor": "white",
             "startlinecolor": "#2a3f5f"
            },
            "baxis": {
             "endlinecolor": "#2a3f5f",
             "gridcolor": "white",
             "linecolor": "white",
             "minorgridcolor": "white",
             "startlinecolor": "#2a3f5f"
            },
            "type": "carpet"
           }
          ],
          "choropleth": [
           {
            "colorbar": {
             "outlinewidth": 0,
             "ticks": ""
            },
            "type": "choropleth"
           }
          ],
          "contour": [
           {
            "colorbar": {
             "outlinewidth": 0,
             "ticks": ""
            },
            "colorscale": [
             [
              0,
              "#0d0887"
             ],
             [
              0.1111111111111111,
              "#46039f"
             ],
             [
              0.2222222222222222,
              "#7201a8"
             ],
             [
              0.3333333333333333,
              "#9c179e"
             ],
             [
              0.4444444444444444,
              "#bd3786"
             ],
             [
              0.5555555555555556,
              "#d8576b"
             ],
             [
              0.6666666666666666,
              "#ed7953"
             ],
             [
              0.7777777777777778,
              "#fb9f3a"
             ],
             [
              0.8888888888888888,
              "#fdca26"
             ],
             [
              1,
              "#f0f921"
             ]
            ],
            "type": "contour"
           }
          ],
          "contourcarpet": [
           {
            "colorbar": {
             "outlinewidth": 0,
             "ticks": ""
            },
            "type": "contourcarpet"
           }
          ],
          "heatmap": [
           {
            "colorbar": {
             "outlinewidth": 0,
             "ticks": ""
            },
            "colorscale": [
             [
              0,
              "#0d0887"
             ],
             [
              0.1111111111111111,
              "#46039f"
             ],
             [
              0.2222222222222222,
              "#7201a8"
             ],
             [
              0.3333333333333333,
              "#9c179e"
             ],
             [
              0.4444444444444444,
              "#bd3786"
             ],
             [
              0.5555555555555556,
              "#d8576b"
             ],
             [
              0.6666666666666666,
              "#ed7953"
             ],
             [
              0.7777777777777778,
              "#fb9f3a"
             ],
             [
              0.8888888888888888,
              "#fdca26"
             ],
             [
              1,
              "#f0f921"
             ]
            ],
            "type": "heatmap"
           }
          ],
          "heatmapgl": [
           {
            "colorbar": {
             "outlinewidth": 0,
             "ticks": ""
            },
            "colorscale": [
             [
              0,
              "#0d0887"
             ],
             [
              0.1111111111111111,
              "#46039f"
             ],
             [
              0.2222222222222222,
              "#7201a8"
             ],
             [
              0.3333333333333333,
              "#9c179e"
             ],
             [
              0.4444444444444444,
              "#bd3786"
             ],
             [
              0.5555555555555556,
              "#d8576b"
             ],
             [
              0.6666666666666666,
              "#ed7953"
             ],
             [
              0.7777777777777778,
              "#fb9f3a"
             ],
             [
              0.8888888888888888,
              "#fdca26"
             ],
             [
              1,
              "#f0f921"
             ]
            ],
            "type": "heatmapgl"
           }
          ],
          "histogram": [
           {
            "marker": {
             "pattern": {
              "fillmode": "overlay",
              "size": 10,
              "solidity": 0.2
             }
            },
            "type": "histogram"
           }
          ],
          "histogram2d": [
           {
            "colorbar": {
             "outlinewidth": 0,
             "ticks": ""
            },
            "colorscale": [
             [
              0,
              "#0d0887"
             ],
             [
              0.1111111111111111,
              "#46039f"
             ],
             [
              0.2222222222222222,
              "#7201a8"
             ],
             [
              0.3333333333333333,
              "#9c179e"
             ],
             [
              0.4444444444444444,
              "#bd3786"
             ],
             [
              0.5555555555555556,
              "#d8576b"
             ],
             [
              0.6666666666666666,
              "#ed7953"
             ],
             [
              0.7777777777777778,
              "#fb9f3a"
             ],
             [
              0.8888888888888888,
              "#fdca26"
             ],
             [
              1,
              "#f0f921"
             ]
            ],
            "type": "histogram2d"
           }
          ],
          "histogram2dcontour": [
           {
            "colorbar": {
             "outlinewidth": 0,
             "ticks": ""
            },
            "colorscale": [
             [
              0,
              "#0d0887"
             ],
             [
              0.1111111111111111,
              "#46039f"
             ],
             [
              0.2222222222222222,
              "#7201a8"
             ],
             [
              0.3333333333333333,
              "#9c179e"
             ],
             [
              0.4444444444444444,
              "#bd3786"
             ],
             [
              0.5555555555555556,
              "#d8576b"
             ],
             [
              0.6666666666666666,
              "#ed7953"
             ],
             [
              0.7777777777777778,
              "#fb9f3a"
             ],
             [
              0.8888888888888888,
              "#fdca26"
             ],
             [
              1,
              "#f0f921"
             ]
            ],
            "type": "histogram2dcontour"
           }
          ],
          "mesh3d": [
           {
            "colorbar": {
             "outlinewidth": 0,
             "ticks": ""
            },
            "type": "mesh3d"
           }
          ],
          "parcoords": [
           {
            "line": {
             "colorbar": {
              "outlinewidth": 0,
              "ticks": ""
             }
            },
            "type": "parcoords"
           }
          ],
          "pie": [
           {
            "automargin": true,
            "type": "pie"
           }
          ],
          "scatter": [
           {
            "fillpattern": {
             "fillmode": "overlay",
             "size": 10,
             "solidity": 0.2
            },
            "type": "scatter"
           }
          ],
          "scatter3d": [
           {
            "line": {
             "colorbar": {
              "outlinewidth": 0,
              "ticks": ""
             }
            },
            "marker": {
             "colorbar": {
              "outlinewidth": 0,
              "ticks": ""
             }
            },
            "type": "scatter3d"
           }
          ],
          "scattercarpet": [
           {
            "marker": {
             "colorbar": {
              "outlinewidth": 0,
              "ticks": ""
             }
            },
            "type": "scattercarpet"
           }
          ],
          "scattergeo": [
           {
            "marker": {
             "colorbar": {
              "outlinewidth": 0,
              "ticks": ""
             }
            },
            "type": "scattergeo"
           }
          ],
          "scattergl": [
           {
            "marker": {
             "colorbar": {
              "outlinewidth": 0,
              "ticks": ""
             }
            },
            "type": "scattergl"
           }
          ],
          "scattermapbox": [
           {
            "marker": {
             "colorbar": {
              "outlinewidth": 0,
              "ticks": ""
             }
            },
            "type": "scattermapbox"
           }
          ],
          "scatterpolar": [
           {
            "marker": {
             "colorbar": {
              "outlinewidth": 0,
              "ticks": ""
             }
            },
            "type": "scatterpolar"
           }
          ],
          "scatterpolargl": [
           {
            "marker": {
             "colorbar": {
              "outlinewidth": 0,
              "ticks": ""
             }
            },
            "type": "scatterpolargl"
           }
          ],
          "scatterternary": [
           {
            "marker": {
             "colorbar": {
              "outlinewidth": 0,
              "ticks": ""
             }
            },
            "type": "scatterternary"
           }
          ],
          "surface": [
           {
            "colorbar": {
             "outlinewidth": 0,
             "ticks": ""
            },
            "colorscale": [
             [
              0,
              "#0d0887"
             ],
             [
              0.1111111111111111,
              "#46039f"
             ],
             [
              0.2222222222222222,
              "#7201a8"
             ],
             [
              0.3333333333333333,
              "#9c179e"
             ],
             [
              0.4444444444444444,
              "#bd3786"
             ],
             [
              0.5555555555555556,
              "#d8576b"
             ],
             [
              0.6666666666666666,
              "#ed7953"
             ],
             [
              0.7777777777777778,
              "#fb9f3a"
             ],
             [
              0.8888888888888888,
              "#fdca26"
             ],
             [
              1,
              "#f0f921"
             ]
            ],
            "type": "surface"
           }
          ],
          "table": [
           {
            "cells": {
             "fill": {
              "color": "#EBF0F8"
             },
             "line": {
              "color": "white"
             }
            },
            "header": {
             "fill": {
              "color": "#C8D4E3"
             },
             "line": {
              "color": "white"
             }
            },
            "type": "table"
           }
          ]
         },
         "layout": {
          "annotationdefaults": {
           "arrowcolor": "#2a3f5f",
           "arrowhead": 0,
           "arrowwidth": 1
          },
          "autotypenumbers": "strict",
          "coloraxis": {
           "colorbar": {
            "outlinewidth": 0,
            "ticks": ""
           }
          },
          "colorscale": {
           "diverging": [
            [
             0,
             "#8e0152"
            ],
            [
             0.1,
             "#c51b7d"
            ],
            [
             0.2,
             "#de77ae"
            ],
            [
             0.3,
             "#f1b6da"
            ],
            [
             0.4,
             "#fde0ef"
            ],
            [
             0.5,
             "#f7f7f7"
            ],
            [
             0.6,
             "#e6f5d0"
            ],
            [
             0.7,
             "#b8e186"
            ],
            [
             0.8,
             "#7fbc41"
            ],
            [
             0.9,
             "#4d9221"
            ],
            [
             1,
             "#276419"
            ]
           ],
           "sequential": [
            [
             0,
             "#0d0887"
            ],
            [
             0.1111111111111111,
             "#46039f"
            ],
            [
             0.2222222222222222,
             "#7201a8"
            ],
            [
             0.3333333333333333,
             "#9c179e"
            ],
            [
             0.4444444444444444,
             "#bd3786"
            ],
            [
             0.5555555555555556,
             "#d8576b"
            ],
            [
             0.6666666666666666,
             "#ed7953"
            ],
            [
             0.7777777777777778,
             "#fb9f3a"
            ],
            [
             0.8888888888888888,
             "#fdca26"
            ],
            [
             1,
             "#f0f921"
            ]
           ],
           "sequentialminus": [
            [
             0,
             "#0d0887"
            ],
            [
             0.1111111111111111,
             "#46039f"
            ],
            [
             0.2222222222222222,
             "#7201a8"
            ],
            [
             0.3333333333333333,
             "#9c179e"
            ],
            [
             0.4444444444444444,
             "#bd3786"
            ],
            [
             0.5555555555555556,
             "#d8576b"
            ],
            [
             0.6666666666666666,
             "#ed7953"
            ],
            [
             0.7777777777777778,
             "#fb9f3a"
            ],
            [
             0.8888888888888888,
             "#fdca26"
            ],
            [
             1,
             "#f0f921"
            ]
           ]
          },
          "colorway": [
           "#636efa",
           "#EF553B",
           "#00cc96",
           "#ab63fa",
           "#FFA15A",
           "#19d3f3",
           "#FF6692",
           "#B6E880",
           "#FF97FF",
           "#FECB52"
          ],
          "font": {
           "color": "#2a3f5f"
          },
          "geo": {
           "bgcolor": "white",
           "lakecolor": "white",
           "landcolor": "#E5ECF6",
           "showlakes": true,
           "showland": true,
           "subunitcolor": "white"
          },
          "hoverlabel": {
           "align": "left"
          },
          "hovermode": "closest",
          "mapbox": {
           "style": "light"
          },
          "paper_bgcolor": "white",
          "plot_bgcolor": "#E5ECF6",
          "polar": {
           "angularaxis": {
            "gridcolor": "white",
            "linecolor": "white",
            "ticks": ""
           },
           "bgcolor": "#E5ECF6",
           "radialaxis": {
            "gridcolor": "white",
            "linecolor": "white",
            "ticks": ""
           }
          },
          "scene": {
           "xaxis": {
            "backgroundcolor": "#E5ECF6",
            "gridcolor": "white",
            "gridwidth": 2,
            "linecolor": "white",
            "showbackground": true,
            "ticks": "",
            "zerolinecolor": "white"
           },
           "yaxis": {
            "backgroundcolor": "#E5ECF6",
            "gridcolor": "white",
            "gridwidth": 2,
            "linecolor": "white",
            "showbackground": true,
            "ticks": "",
            "zerolinecolor": "white"
           },
           "zaxis": {
            "backgroundcolor": "#E5ECF6",
            "gridcolor": "white",
            "gridwidth": 2,
            "linecolor": "white",
            "showbackground": true,
            "ticks": "",
            "zerolinecolor": "white"
           }
          },
          "shapedefaults": {
           "line": {
            "color": "#2a3f5f"
           }
          },
          "ternary": {
           "aaxis": {
            "gridcolor": "white",
            "linecolor": "white",
            "ticks": ""
           },
           "baxis": {
            "gridcolor": "white",
            "linecolor": "white",
            "ticks": ""
           },
           "bgcolor": "#E5ECF6",
           "caxis": {
            "gridcolor": "white",
            "linecolor": "white",
            "ticks": ""
           }
          },
          "title": {
           "x": 0.05
          },
          "xaxis": {
           "automargin": true,
           "gridcolor": "white",
           "linecolor": "white",
           "ticks": "",
           "title": {
            "standoff": 15
           },
           "zerolinecolor": "white",
           "zerolinewidth": 2
          },
          "yaxis": {
           "automargin": true,
           "gridcolor": "white",
           "linecolor": "white",
           "ticks": "",
           "title": {
            "standoff": 15
           },
           "zerolinecolor": "white",
           "zerolinewidth": 2
          }
         }
        },
        "title": {
         "text": "Total Cases Distribution Map"
        }
       }
      }
     },
     "metadata": {},
     "output_type": "display_data"
    }
   ],
   "source": [
    "import plotly.express as px\n",
    "\n",
    "# Crie o gráfico de mapa de calor\n",
    "fig = px.choropleth(\n",
    "    data_frame=subset1_df,\n",
    "    locations='Country Code',\n",
    "    color='Total Cases',\n",
    "    color_continuous_scale='YlOrRd',\n",
    "    title='Total Cases Distribution Map'\n",
    ")\n",
    "\n",
    "# Exiba o gráfico\n",
    "fig.show()\n",
    "\n",
    "\n"
   ]
  },
  {
   "attachments": {},
   "cell_type": "markdown",
   "metadata": {},
   "source": [
    "Ao analisar o gráfico com a distribuição dos casos no mapa, podemos concluir que as regiões com maiores índices de caso de COVID-19, foram na Índia, seguidos por França, Alemanha e Brasil."
   ]
  },
  {
   "attachments": {},
   "cell_type": "markdown",
   "metadata": {},
   "source": [
    "O gráfico de mapa de calor será utilizado para mostrar a distribuição dos casos totais de COVID-19 por país. As cores no mapa irá indicar a intensidade das mortes, onde cores mais claras representará um maior número de  mortes e cores mais escuras representará um menor número de mortes. Isso permitirá visualizar  as mortes pelo vírus em diferentes regiões e identificar os países mais afetados."
   ]
  },
  {
   "cell_type": "code",
   "execution_count": 1845,
   "metadata": {},
   "outputs": [
    {
     "data": {
      "application/vnd.plotly.v1+json": {
       "config": {
        "plotlyServerURL": "https://plot.ly"
       },
       "data": [
        {
         "coloraxis": "coloraxis",
         "geo": "geo",
         "hovertemplate": "Country Code=%{location}<br>Total Deaths=%{z}<extra></extra>",
         "locations": [
          "IND",
          "BRA",
          "FRA",
          "DEU",
          "ITA",
          "JPN",
          "RUS",
          "ESP",
          "AUS",
          "ARG",
          "NLD",
          "MEX",
          "CHN",
          "IDN",
          "COL",
          "POL",
          "PRT",
          "UKR",
          "AUT",
          "GRC",
          "MYS",
          "THA",
          "ISR",
          "CHL",
          "BEL",
          "CAN",
          "PER",
          "CHE",
          "ZAF",
          "PHL",
          "DNK",
          "ROU",
          "SWE",
          "IRQ",
          "SRB",
          "HUN",
          "BGD",
          "SGP",
          "GEO",
          "NZL",
          "JOR",
          "IRL",
          "PAK",
          "KAZ",
          "NOR",
          "FIN",
          "MAR",
          "BGR",
          "LTU",
          "HRV",
          "LBN",
          "SVN",
          "TUN",
          "GTM",
          "CUB",
          "CRI",
          "ARE",
          "ECU",
          "NPL",
          "BLR",
          "PAN",
          "URY",
          "MNG",
          "PRI",
          "LVA",
          "AZE",
          "SAU",
          "PRY",
          "BHR",
          "LKA",
          "KWT",
          "DOM",
          "MMR",
          "EST",
          "CYP",
          "LBY",
          "ETH",
          "HND",
          "ARM",
          "QAT",
          "OMN",
          "BIH",
          "MKD",
          "KEN",
          "ZMB",
          "ALB",
          "BWA",
          "LUX",
          "MNE",
          "DZA",
          "NGA",
          "MUS",
          "ZWE",
          "UZB",
          "MOZ",
          "BRN",
          "ISL",
          "SLV",
          "AFG",
          "MDV",
          "TTO",
          "UGA",
          "GHA",
          "NAM",
          "JAM",
          "KHM",
          "RWA",
          "CMR",
          "MLT",
          "AGO",
          "BRB",
          "SEN",
          "MWI",
          "SUR",
          "PYF",
          "NCL",
          "SWZ",
          "GUY",
          "BLZ",
          "FJI",
          "MDG",
          "SDN",
          "MRT",
          "CPV",
          "BTN",
          "SYR",
          "BDI",
          "GUM",
          "GAB",
          "PNG",
          "TGO",
          "GIN",
          "LSO",
          "HTI",
          "MLI",
          "BEN",
          "SOM",
          "TLS",
          "SLB",
          "BFA",
          "TJK",
          "SSD",
          "GNQ",
          "TON",
          "WSM",
          "DJI",
          "NIC",
          "CAF",
          "VUT",
          "ERI",
          "NER",
          "GNB",
          "COM",
          "LBR",
          "SLE",
          "TCD",
          "STP",
          "TKM"
         ],
         "name": "",
         "type": "choropleth",
         "z": [
          528250,
          685002,
          151062,
          148728,
          176404,
          43177,
          385727,
          113279,
          14421,
          129830,
          22620,
          329767,
          25428,
          157849,
          141708,
          117316,
          24944,
          108955,
          20661,
          32894,
          36296,
          32591,
          11667,
          60830,
          32605,
          44347,
          216173,
          13550,
          102129,
          62416,
          6987,
          66882,
          20006,
          25348,
          16846,
          47409,
          29337,
          1604,
          16900,
          2955,
          14114,
          7901,
          30604,
          19047,
          4038,
          5858,
          16276,
          37663,
          9301,
          16817,
          10650,
          8191,
          29243,
          19684,
          8530,
          8913,
          2342,
          35884,
          12015,
          7118,
          8487,
          7462,
          2130,
          5053,
          5965,
          9873,
          9322,
          19530,
          1518,
          16737,
          2563,
          4384,
          19444,
          2661,
          1173,
          6437,
          7572,
          10989,
          8669,
          682,
          4628,
          16104,
          9516,
          5675,
          4017,
          3586,
          2779,
          1126,
          2778,
          6879,
          3154,
          1024,
          5596,
          1637,
          2222,
          130,
          213,
          4228,
          7791,
          308,
          4176,
          3628,
          1459,
          4077,
          3286,
          3056,
          1466,
          1935,
          803,
          1917,
          558,
          1968,
          2675,
          1384,
          649,
          314,
          1422,
          1279,
          680,
          878,
          1410,
          4961,
          993,
          410,
          21,
          3163,
          15,
          394,
          306,
          664,
          284,
          449,
          704,
          857,
          739,
          163,
          1361,
          138,
          153,
          387,
          125,
          138,
          183,
          12,
          29,
          189,
          244,
          113,
          14,
          103,
          312,
          175,
          160,
          294,
          125,
          193,
          76,
          0
         ]
        }
       ],
       "layout": {
        "coloraxis": {
         "colorbar": {
          "title": {
           "text": "Total Deaths"
          }
         },
         "colorscale": [
          [
           0,
           "rgb(255,255,204)"
          ],
          [
           0.125,
           "rgb(255,237,160)"
          ],
          [
           0.25,
           "rgb(254,217,118)"
          ],
          [
           0.375,
           "rgb(254,178,76)"
          ],
          [
           0.5,
           "rgb(253,141,60)"
          ],
          [
           0.625,
           "rgb(252,78,42)"
          ],
          [
           0.75,
           "rgb(227,26,28)"
          ],
          [
           0.875,
           "rgb(189,0,38)"
          ],
          [
           1,
           "rgb(128,0,38)"
          ]
         ]
        },
        "geo": {
         "center": {},
         "domain": {
          "x": [
           0,
           1
          ],
          "y": [
           0,
           1
          ]
         }
        },
        "legend": {
         "tracegroupgap": 0
        },
        "template": {
         "data": {
          "bar": [
           {
            "error_x": {
             "color": "#2a3f5f"
            },
            "error_y": {
             "color": "#2a3f5f"
            },
            "marker": {
             "line": {
              "color": "#E5ECF6",
              "width": 0.5
             },
             "pattern": {
              "fillmode": "overlay",
              "size": 10,
              "solidity": 0.2
             }
            },
            "type": "bar"
           }
          ],
          "barpolar": [
           {
            "marker": {
             "line": {
              "color": "#E5ECF6",
              "width": 0.5
             },
             "pattern": {
              "fillmode": "overlay",
              "size": 10,
              "solidity": 0.2
             }
            },
            "type": "barpolar"
           }
          ],
          "carpet": [
           {
            "aaxis": {
             "endlinecolor": "#2a3f5f",
             "gridcolor": "white",
             "linecolor": "white",
             "minorgridcolor": "white",
             "startlinecolor": "#2a3f5f"
            },
            "baxis": {
             "endlinecolor": "#2a3f5f",
             "gridcolor": "white",
             "linecolor": "white",
             "minorgridcolor": "white",
             "startlinecolor": "#2a3f5f"
            },
            "type": "carpet"
           }
          ],
          "choropleth": [
           {
            "colorbar": {
             "outlinewidth": 0,
             "ticks": ""
            },
            "type": "choropleth"
           }
          ],
          "contour": [
           {
            "colorbar": {
             "outlinewidth": 0,
             "ticks": ""
            },
            "colorscale": [
             [
              0,
              "#0d0887"
             ],
             [
              0.1111111111111111,
              "#46039f"
             ],
             [
              0.2222222222222222,
              "#7201a8"
             ],
             [
              0.3333333333333333,
              "#9c179e"
             ],
             [
              0.4444444444444444,
              "#bd3786"
             ],
             [
              0.5555555555555556,
              "#d8576b"
             ],
             [
              0.6666666666666666,
              "#ed7953"
             ],
             [
              0.7777777777777778,
              "#fb9f3a"
             ],
             [
              0.8888888888888888,
              "#fdca26"
             ],
             [
              1,
              "#f0f921"
             ]
            ],
            "type": "contour"
           }
          ],
          "contourcarpet": [
           {
            "colorbar": {
             "outlinewidth": 0,
             "ticks": ""
            },
            "type": "contourcarpet"
           }
          ],
          "heatmap": [
           {
            "colorbar": {
             "outlinewidth": 0,
             "ticks": ""
            },
            "colorscale": [
             [
              0,
              "#0d0887"
             ],
             [
              0.1111111111111111,
              "#46039f"
             ],
             [
              0.2222222222222222,
              "#7201a8"
             ],
             [
              0.3333333333333333,
              "#9c179e"
             ],
             [
              0.4444444444444444,
              "#bd3786"
             ],
             [
              0.5555555555555556,
              "#d8576b"
             ],
             [
              0.6666666666666666,
              "#ed7953"
             ],
             [
              0.7777777777777778,
              "#fb9f3a"
             ],
             [
              0.8888888888888888,
              "#fdca26"
             ],
             [
              1,
              "#f0f921"
             ]
            ],
            "type": "heatmap"
           }
          ],
          "heatmapgl": [
           {
            "colorbar": {
             "outlinewidth": 0,
             "ticks": ""
            },
            "colorscale": [
             [
              0,
              "#0d0887"
             ],
             [
              0.1111111111111111,
              "#46039f"
             ],
             [
              0.2222222222222222,
              "#7201a8"
             ],
             [
              0.3333333333333333,
              "#9c179e"
             ],
             [
              0.4444444444444444,
              "#bd3786"
             ],
             [
              0.5555555555555556,
              "#d8576b"
             ],
             [
              0.6666666666666666,
              "#ed7953"
             ],
             [
              0.7777777777777778,
              "#fb9f3a"
             ],
             [
              0.8888888888888888,
              "#fdca26"
             ],
             [
              1,
              "#f0f921"
             ]
            ],
            "type": "heatmapgl"
           }
          ],
          "histogram": [
           {
            "marker": {
             "pattern": {
              "fillmode": "overlay",
              "size": 10,
              "solidity": 0.2
             }
            },
            "type": "histogram"
           }
          ],
          "histogram2d": [
           {
            "colorbar": {
             "outlinewidth": 0,
             "ticks": ""
            },
            "colorscale": [
             [
              0,
              "#0d0887"
             ],
             [
              0.1111111111111111,
              "#46039f"
             ],
             [
              0.2222222222222222,
              "#7201a8"
             ],
             [
              0.3333333333333333,
              "#9c179e"
             ],
             [
              0.4444444444444444,
              "#bd3786"
             ],
             [
              0.5555555555555556,
              "#d8576b"
             ],
             [
              0.6666666666666666,
              "#ed7953"
             ],
             [
              0.7777777777777778,
              "#fb9f3a"
             ],
             [
              0.8888888888888888,
              "#fdca26"
             ],
             [
              1,
              "#f0f921"
             ]
            ],
            "type": "histogram2d"
           }
          ],
          "histogram2dcontour": [
           {
            "colorbar": {
             "outlinewidth": 0,
             "ticks": ""
            },
            "colorscale": [
             [
              0,
              "#0d0887"
             ],
             [
              0.1111111111111111,
              "#46039f"
             ],
             [
              0.2222222222222222,
              "#7201a8"
             ],
             [
              0.3333333333333333,
              "#9c179e"
             ],
             [
              0.4444444444444444,
              "#bd3786"
             ],
             [
              0.5555555555555556,
              "#d8576b"
             ],
             [
              0.6666666666666666,
              "#ed7953"
             ],
             [
              0.7777777777777778,
              "#fb9f3a"
             ],
             [
              0.8888888888888888,
              "#fdca26"
             ],
             [
              1,
              "#f0f921"
             ]
            ],
            "type": "histogram2dcontour"
           }
          ],
          "mesh3d": [
           {
            "colorbar": {
             "outlinewidth": 0,
             "ticks": ""
            },
            "type": "mesh3d"
           }
          ],
          "parcoords": [
           {
            "line": {
             "colorbar": {
              "outlinewidth": 0,
              "ticks": ""
             }
            },
            "type": "parcoords"
           }
          ],
          "pie": [
           {
            "automargin": true,
            "type": "pie"
           }
          ],
          "scatter": [
           {
            "fillpattern": {
             "fillmode": "overlay",
             "size": 10,
             "solidity": 0.2
            },
            "type": "scatter"
           }
          ],
          "scatter3d": [
           {
            "line": {
             "colorbar": {
              "outlinewidth": 0,
              "ticks": ""
             }
            },
            "marker": {
             "colorbar": {
              "outlinewidth": 0,
              "ticks": ""
             }
            },
            "type": "scatter3d"
           }
          ],
          "scattercarpet": [
           {
            "marker": {
             "colorbar": {
              "outlinewidth": 0,
              "ticks": ""
             }
            },
            "type": "scattercarpet"
           }
          ],
          "scattergeo": [
           {
            "marker": {
             "colorbar": {
              "outlinewidth": 0,
              "ticks": ""
             }
            },
            "type": "scattergeo"
           }
          ],
          "scattergl": [
           {
            "marker": {
             "colorbar": {
              "outlinewidth": 0,
              "ticks": ""
             }
            },
            "type": "scattergl"
           }
          ],
          "scattermapbox": [
           {
            "marker": {
             "colorbar": {
              "outlinewidth": 0,
              "ticks": ""
             }
            },
            "type": "scattermapbox"
           }
          ],
          "scatterpolar": [
           {
            "marker": {
             "colorbar": {
              "outlinewidth": 0,
              "ticks": ""
             }
            },
            "type": "scatterpolar"
           }
          ],
          "scatterpolargl": [
           {
            "marker": {
             "colorbar": {
              "outlinewidth": 0,
              "ticks": ""
             }
            },
            "type": "scatterpolargl"
           }
          ],
          "scatterternary": [
           {
            "marker": {
             "colorbar": {
              "outlinewidth": 0,
              "ticks": ""
             }
            },
            "type": "scatterternary"
           }
          ],
          "surface": [
           {
            "colorbar": {
             "outlinewidth": 0,
             "ticks": ""
            },
            "colorscale": [
             [
              0,
              "#0d0887"
             ],
             [
              0.1111111111111111,
              "#46039f"
             ],
             [
              0.2222222222222222,
              "#7201a8"
             ],
             [
              0.3333333333333333,
              "#9c179e"
             ],
             [
              0.4444444444444444,
              "#bd3786"
             ],
             [
              0.5555555555555556,
              "#d8576b"
             ],
             [
              0.6666666666666666,
              "#ed7953"
             ],
             [
              0.7777777777777778,
              "#fb9f3a"
             ],
             [
              0.8888888888888888,
              "#fdca26"
             ],
             [
              1,
              "#f0f921"
             ]
            ],
            "type": "surface"
           }
          ],
          "table": [
           {
            "cells": {
             "fill": {
              "color": "#EBF0F8"
             },
             "line": {
              "color": "white"
             }
            },
            "header": {
             "fill": {
              "color": "#C8D4E3"
             },
             "line": {
              "color": "white"
             }
            },
            "type": "table"
           }
          ]
         },
         "layout": {
          "annotationdefaults": {
           "arrowcolor": "#2a3f5f",
           "arrowhead": 0,
           "arrowwidth": 1
          },
          "autotypenumbers": "strict",
          "coloraxis": {
           "colorbar": {
            "outlinewidth": 0,
            "ticks": ""
           }
          },
          "colorscale": {
           "diverging": [
            [
             0,
             "#8e0152"
            ],
            [
             0.1,
             "#c51b7d"
            ],
            [
             0.2,
             "#de77ae"
            ],
            [
             0.3,
             "#f1b6da"
            ],
            [
             0.4,
             "#fde0ef"
            ],
            [
             0.5,
             "#f7f7f7"
            ],
            [
             0.6,
             "#e6f5d0"
            ],
            [
             0.7,
             "#b8e186"
            ],
            [
             0.8,
             "#7fbc41"
            ],
            [
             0.9,
             "#4d9221"
            ],
            [
             1,
             "#276419"
            ]
           ],
           "sequential": [
            [
             0,
             "#0d0887"
            ],
            [
             0.1111111111111111,
             "#46039f"
            ],
            [
             0.2222222222222222,
             "#7201a8"
            ],
            [
             0.3333333333333333,
             "#9c179e"
            ],
            [
             0.4444444444444444,
             "#bd3786"
            ],
            [
             0.5555555555555556,
             "#d8576b"
            ],
            [
             0.6666666666666666,
             "#ed7953"
            ],
            [
             0.7777777777777778,
             "#fb9f3a"
            ],
            [
             0.8888888888888888,
             "#fdca26"
            ],
            [
             1,
             "#f0f921"
            ]
           ],
           "sequentialminus": [
            [
             0,
             "#0d0887"
            ],
            [
             0.1111111111111111,
             "#46039f"
            ],
            [
             0.2222222222222222,
             "#7201a8"
            ],
            [
             0.3333333333333333,
             "#9c179e"
            ],
            [
             0.4444444444444444,
             "#bd3786"
            ],
            [
             0.5555555555555556,
             "#d8576b"
            ],
            [
             0.6666666666666666,
             "#ed7953"
            ],
            [
             0.7777777777777778,
             "#fb9f3a"
            ],
            [
             0.8888888888888888,
             "#fdca26"
            ],
            [
             1,
             "#f0f921"
            ]
           ]
          },
          "colorway": [
           "#636efa",
           "#EF553B",
           "#00cc96",
           "#ab63fa",
           "#FFA15A",
           "#19d3f3",
           "#FF6692",
           "#B6E880",
           "#FF97FF",
           "#FECB52"
          ],
          "font": {
           "color": "#2a3f5f"
          },
          "geo": {
           "bgcolor": "white",
           "lakecolor": "white",
           "landcolor": "#E5ECF6",
           "showlakes": true,
           "showland": true,
           "subunitcolor": "white"
          },
          "hoverlabel": {
           "align": "left"
          },
          "hovermode": "closest",
          "mapbox": {
           "style": "light"
          },
          "paper_bgcolor": "white",
          "plot_bgcolor": "#E5ECF6",
          "polar": {
           "angularaxis": {
            "gridcolor": "white",
            "linecolor": "white",
            "ticks": ""
           },
           "bgcolor": "#E5ECF6",
           "radialaxis": {
            "gridcolor": "white",
            "linecolor": "white",
            "ticks": ""
           }
          },
          "scene": {
           "xaxis": {
            "backgroundcolor": "#E5ECF6",
            "gridcolor": "white",
            "gridwidth": 2,
            "linecolor": "white",
            "showbackground": true,
            "ticks": "",
            "zerolinecolor": "white"
           },
           "yaxis": {
            "backgroundcolor": "#E5ECF6",
            "gridcolor": "white",
            "gridwidth": 2,
            "linecolor": "white",
            "showbackground": true,
            "ticks": "",
            "zerolinecolor": "white"
           },
           "zaxis": {
            "backgroundcolor": "#E5ECF6",
            "gridcolor": "white",
            "gridwidth": 2,
            "linecolor": "white",
            "showbackground": true,
            "ticks": "",
            "zerolinecolor": "white"
           }
          },
          "shapedefaults": {
           "line": {
            "color": "#2a3f5f"
           }
          },
          "ternary": {
           "aaxis": {
            "gridcolor": "white",
            "linecolor": "white",
            "ticks": ""
           },
           "baxis": {
            "gridcolor": "white",
            "linecolor": "white",
            "ticks": ""
           },
           "bgcolor": "#E5ECF6",
           "caxis": {
            "gridcolor": "white",
            "linecolor": "white",
            "ticks": ""
           }
          },
          "title": {
           "x": 0.05
          },
          "xaxis": {
           "automargin": true,
           "gridcolor": "white",
           "linecolor": "white",
           "ticks": "",
           "title": {
            "standoff": 15
           },
           "zerolinecolor": "white",
           "zerolinewidth": 2
          },
          "yaxis": {
           "automargin": true,
           "gridcolor": "white",
           "linecolor": "white",
           "ticks": "",
           "title": {
            "standoff": 15
           },
           "zerolinecolor": "white",
           "zerolinewidth": 2
          }
         }
        },
        "title": {
         "text": "Total Deaths Distribution Map"
        }
       }
      }
     },
     "metadata": {},
     "output_type": "display_data"
    }
   ],
   "source": [
    "import plotly.express as px\n",
    "\n",
    "fig = px.choropleth(\n",
    "    data_frame=subset1_df,\n",
    "    locations='Country Code',\n",
    "    color='Total Deaths',\n",
    "    color_continuous_scale='YlOrRd',\n",
    "    title='Total Deaths Distribution Map'\n",
    ")\n",
    "\n",
    "# Exiba o gráfico\n",
    "fig.show()"
   ]
  },
  {
   "attachments": {},
   "cell_type": "markdown",
   "metadata": {},
   "source": [
    "No gráfico do mapa de distribuição do total de mortes, podemos perceber que no ano de 2020, o maior numero de mortes ocorreram no Brasil, seguido da Índia e da Russia."
   ]
  },
  {
   "cell_type": "code",
   "execution_count": 1846,
   "metadata": {},
   "outputs": [],
   "source": [
    "from sklearn.tree import DecisionTreeRegressor\n",
    "from sklearn.ensemble import RandomForestRegressor\n",
    "from sklearn.svm import SVR\n",
    "from sklearn.neighbors import KNeighborsRegressor\n",
    "import seaborn as sns\n",
    "import pandas as pd\n",
    "import numpy as np"
   ]
  },
  {
   "attachments": {},
   "cell_type": "markdown",
   "metadata": {},
   "source": [
    "Será criada uma matriz X que contém todas as colunas numéricas do DataFrame subset_df, exceto a coluna 'Total Cases'."
   ]
  },
  {
   "cell_type": "code",
   "execution_count": 1847,
   "metadata": {},
   "outputs": [],
   "source": [
    "X = subset_df.drop('Total Cases', axis=1).select_dtypes(include=np.number)\n",
    "y = subset_df['Total Cases']"
   ]
  },
  {
   "attachments": {},
   "cell_type": "markdown",
   "metadata": {},
   "source": [
    "Será criada lista, chamada 'clfs', contendo vários regressores diferentes"
   ]
  },
  {
   "cell_type": "code",
   "execution_count": 1848,
   "metadata": {},
   "outputs": [],
   "source": [
    "clfs = [\n",
    "    DecisionTreeRegressor(),\n",
    "    RandomForestRegressor(),\n",
    "    RandomForestRegressor(max_depth=8),\n",
    "    RandomForestRegressor(max_depth=10),\n",
    "    SVR(),\n",
    "    KNeighborsRegressor()\n",
    "]"
   ]
  },
  {
   "attachments": {},
   "cell_type": "markdown",
   "metadata": {},
   "source": [
    "O código abaixo irá ealizar um loop em cada regressor da lista 'clfs'. Para cada regressor, está sendo utilizado o método cross_val_score para realizar a validação cruzada com 10 folds. O objetivo será obter as pontuações negativas do erro logarítmico médio quadrático (neg_mean_squared_log_error) para cada fold. "
   ]
  },
  {
   "cell_type": "code",
   "execution_count": null,
   "metadata": {},
   "outputs": [],
   "source": [
    "from sklearn.model_selection import cross_val_score\n",
    "\n",
    "classifiers = []\n",
    "scores = []\n",
    "\n",
    "for clf in clfs:\n",
    "    cv_scores = cross_val_score(clf, X, y, cv=10, scoring='neg_mean_squared_log_error')\n",
    "    for s in cv_scores:\n",
    "        classifiers.append(str(clf))\n",
    "        scores.append(float(s))"
   ]
  },
  {
   "attachments": {},
   "cell_type": "markdown",
   "metadata": {},
   "source": [
    "O código abaixo será criado para criar um DataFrame chamado 'results' para armazenar os resultados da comparação dos regressores. "
   ]
  },
  {
   "cell_type": "code",
   "execution_count": null,
   "metadata": {},
   "outputs": [],
   "source": [
    "results = pd.DataFrame({'classifier': classifiers, 'Neg Mean Squared Log Error': scores})"
   ]
  },
  {
   "attachments": {},
   "cell_type": "markdown",
   "metadata": {},
   "source": [
    "O código baixo irá imprimir os valores armazenados em 'results'"
   ]
  },
  {
   "cell_type": "code",
   "execution_count": null,
   "metadata": {},
   "outputs": [],
   "source": [
    "results"
   ]
  },
  {
   "attachments": {},
   "cell_type": "markdown",
   "metadata": {},
   "source": [
    "O código abaixo irá plotar um gráfico de violino usando a biblioteca Seaborn (sns). O gráfico de violino será útil para visualizar a distribuição e a densidade dos dados em diferentes grupos ou categorias"
   ]
  },
  {
   "cell_type": "code",
   "execution_count": null,
   "metadata": {},
   "outputs": [],
   "source": [
    "sns.set(rc={'figure.figsize': (25, 8)})\n",
    "sns.violinplot(data=results, x='classifier', y='Neg Mean Squared Log Error')\n",
    "\n"
   ]
  },
  {
   "attachments": {},
   "cell_type": "markdown",
   "metadata": {},
   "source": [
    "Com base nos resultados apresentados, podemos fazer as seguintes conclusões:\n",
    "\n",
    "O modelo DecisionTreeRegressor obteve resultados variados, com valores de erro negativo que variam de -0.521101 a -8.850884. Essa variação indica que o modelo pode ter dificuldade em generalizar para diferentes partições dos dados.\n",
    "\n",
    "O modelo RandomForestRegressor apresentou resultados mais consistentes, com valores de erro negativo que variam de -0.349564 a -9.901534. Além disso, ao ajustar o hiperparâmetro \"max_depth\" para 8 e 10, observamos uma tendência de melhora nos resultados em comparação com o modelo de árvore de decisão padrão.\n",
    "\n",
    "O modelo SVR obteve os maiores valores de erro negativo, variando de -0.523661 a -27.746973. Isso indica que o modelo pode estar tendo dificuldade em ajustar-se aos dados e fornecer previsões precisas.\n",
    "\n",
    "O modelo KNeighborsRegressor apresentou resultados relativamente consistentes, com valores de erro negativo que variam de -0.657268 a -8.638783. No entanto, esses valores ainda são superiores aos obtidos pelos modelos RandomForestRegressor.\n",
    "\n",
    "Com base nessas conclusões, podemos sugerir que o modelo RandomForestRegressor, especialmente com \"max_depth\" igual a 8 ou 10, pode ser uma escolha mais adequada para a tarefa de regressão com os dados analisados."
   ]
  },
  {
   "attachments": {},
   "cell_type": "markdown",
   "metadata": {},
   "source": [
    "O código abaixo, irá utilizar o GridSearchCV do scikit-learn para realizar uma busca em grade (grid search) com validação cruzada (cross-validation) para encontrar os melhores hiperparâmetros para o modelo RandomForestRegressor."
   ]
  },
  {
   "cell_type": "code",
   "execution_count": 1801,
   "metadata": {},
   "outputs": [
    {
     "data": {
      "text/html": [
       "<style>#sk-container-id-18 {color: black;}#sk-container-id-18 pre{padding: 0;}#sk-container-id-18 div.sk-toggleable {background-color: white;}#sk-container-id-18 label.sk-toggleable__label {cursor: pointer;display: block;width: 100%;margin-bottom: 0;padding: 0.3em;box-sizing: border-box;text-align: center;}#sk-container-id-18 label.sk-toggleable__label-arrow:before {content: \"▸\";float: left;margin-right: 0.25em;color: #696969;}#sk-container-id-18 label.sk-toggleable__label-arrow:hover:before {color: black;}#sk-container-id-18 div.sk-estimator:hover label.sk-toggleable__label-arrow:before {color: black;}#sk-container-id-18 div.sk-toggleable__content {max-height: 0;max-width: 0;overflow: hidden;text-align: left;background-color: #f0f8ff;}#sk-container-id-18 div.sk-toggleable__content pre {margin: 0.2em;color: black;border-radius: 0.25em;background-color: #f0f8ff;}#sk-container-id-18 input.sk-toggleable__control:checked~div.sk-toggleable__content {max-height: 200px;max-width: 100%;overflow: auto;}#sk-container-id-18 input.sk-toggleable__control:checked~label.sk-toggleable__label-arrow:before {content: \"▾\";}#sk-container-id-18 div.sk-estimator input.sk-toggleable__control:checked~label.sk-toggleable__label {background-color: #d4ebff;}#sk-container-id-18 div.sk-label input.sk-toggleable__control:checked~label.sk-toggleable__label {background-color: #d4ebff;}#sk-container-id-18 input.sk-hidden--visually {border: 0;clip: rect(1px 1px 1px 1px);clip: rect(1px, 1px, 1px, 1px);height: 1px;margin: -1px;overflow: hidden;padding: 0;position: absolute;width: 1px;}#sk-container-id-18 div.sk-estimator {font-family: monospace;background-color: #f0f8ff;border: 1px dotted black;border-radius: 0.25em;box-sizing: border-box;margin-bottom: 0.5em;}#sk-container-id-18 div.sk-estimator:hover {background-color: #d4ebff;}#sk-container-id-18 div.sk-parallel-item::after {content: \"\";width: 100%;border-bottom: 1px solid gray;flex-grow: 1;}#sk-container-id-18 div.sk-label:hover label.sk-toggleable__label {background-color: #d4ebff;}#sk-container-id-18 div.sk-serial::before {content: \"\";position: absolute;border-left: 1px solid gray;box-sizing: border-box;top: 0;bottom: 0;left: 50%;z-index: 0;}#sk-container-id-18 div.sk-serial {display: flex;flex-direction: column;align-items: center;background-color: white;padding-right: 0.2em;padding-left: 0.2em;position: relative;}#sk-container-id-18 div.sk-item {position: relative;z-index: 1;}#sk-container-id-18 div.sk-parallel {display: flex;align-items: stretch;justify-content: center;background-color: white;position: relative;}#sk-container-id-18 div.sk-item::before, #sk-container-id-18 div.sk-parallel-item::before {content: \"\";position: absolute;border-left: 1px solid gray;box-sizing: border-box;top: 0;bottom: 0;left: 50%;z-index: -1;}#sk-container-id-18 div.sk-parallel-item {display: flex;flex-direction: column;z-index: 1;position: relative;background-color: white;}#sk-container-id-18 div.sk-parallel-item:first-child::after {align-self: flex-end;width: 50%;}#sk-container-id-18 div.sk-parallel-item:last-child::after {align-self: flex-start;width: 50%;}#sk-container-id-18 div.sk-parallel-item:only-child::after {width: 0;}#sk-container-id-18 div.sk-dashed-wrapped {border: 1px dashed gray;margin: 0 0.4em 0.5em 0.4em;box-sizing: border-box;padding-bottom: 0.4em;background-color: white;}#sk-container-id-18 div.sk-label label {font-family: monospace;font-weight: bold;display: inline-block;line-height: 1.2em;}#sk-container-id-18 div.sk-label-container {text-align: center;}#sk-container-id-18 div.sk-container {/* jupyter's `normalize.less` sets `[hidden] { display: none; }` but bootstrap.min.css set `[hidden] { display: none !important; }` so we also need the `!important` here to be able to override the default hidden behavior on the sphinx rendered scikit-learn.org. See: https://github.com/scikit-learn/scikit-learn/issues/21755 */display: inline-block !important;position: relative;}#sk-container-id-18 div.sk-text-repr-fallback {display: none;}</style><div id=\"sk-container-id-18\" class=\"sk-top-container\"><div class=\"sk-text-repr-fallback\"><pre>GridSearchCV(cv=10, estimator=RandomForestRegressor(),\n",
       "             param_grid={&#x27;criterion&#x27;: [&#x27;squared_error&#x27;, &#x27;absolute_error&#x27;,\n",
       "                                       &#x27;friedman_mse&#x27;, &#x27;poisson&#x27;],\n",
       "                         &#x27;max_depth&#x27;: [2, 3, 4, 5, 6, 7, 8, 9, 10]},\n",
       "             scoring=&#x27;neg_mean_squared_log_error&#x27;)</pre><b>In a Jupyter environment, please rerun this cell to show the HTML representation or trust the notebook. <br />On GitHub, the HTML representation is unable to render, please try loading this page with nbviewer.org.</b></div><div class=\"sk-container\" hidden><div class=\"sk-item sk-dashed-wrapped\"><div class=\"sk-label-container\"><div class=\"sk-label sk-toggleable\"><input class=\"sk-toggleable__control sk-hidden--visually\" id=\"sk-estimator-id-52\" type=\"checkbox\" ><label for=\"sk-estimator-id-52\" class=\"sk-toggleable__label sk-toggleable__label-arrow\">GridSearchCV</label><div class=\"sk-toggleable__content\"><pre>GridSearchCV(cv=10, estimator=RandomForestRegressor(),\n",
       "             param_grid={&#x27;criterion&#x27;: [&#x27;squared_error&#x27;, &#x27;absolute_error&#x27;,\n",
       "                                       &#x27;friedman_mse&#x27;, &#x27;poisson&#x27;],\n",
       "                         &#x27;max_depth&#x27;: [2, 3, 4, 5, 6, 7, 8, 9, 10]},\n",
       "             scoring=&#x27;neg_mean_squared_log_error&#x27;)</pre></div></div></div><div class=\"sk-parallel\"><div class=\"sk-parallel-item\"><div class=\"sk-item\"><div class=\"sk-label-container\"><div class=\"sk-label sk-toggleable\"><input class=\"sk-toggleable__control sk-hidden--visually\" id=\"sk-estimator-id-53\" type=\"checkbox\" ><label for=\"sk-estimator-id-53\" class=\"sk-toggleable__label sk-toggleable__label-arrow\">estimator: RandomForestRegressor</label><div class=\"sk-toggleable__content\"><pre>RandomForestRegressor()</pre></div></div></div><div class=\"sk-serial\"><div class=\"sk-item\"><div class=\"sk-estimator sk-toggleable\"><input class=\"sk-toggleable__control sk-hidden--visually\" id=\"sk-estimator-id-54\" type=\"checkbox\" ><label for=\"sk-estimator-id-54\" class=\"sk-toggleable__label sk-toggleable__label-arrow\">RandomForestRegressor</label><div class=\"sk-toggleable__content\"><pre>RandomForestRegressor()</pre></div></div></div></div></div></div></div></div></div></div>"
      ],
      "text/plain": [
       "GridSearchCV(cv=10, estimator=RandomForestRegressor(),\n",
       "             param_grid={'criterion': ['squared_error', 'absolute_error',\n",
       "                                       'friedman_mse', 'poisson'],\n",
       "                         'max_depth': [2, 3, 4, 5, 6, 7, 8, 9, 10]},\n",
       "             scoring='neg_mean_squared_log_error')"
      ]
     },
     "execution_count": 1801,
     "metadata": {},
     "output_type": "execute_result"
    }
   ],
   "source": [
    "from sklearn.ensemble import RandomForestRegressor\n",
    "from sklearn.model_selection import GridSearchCV\n",
    "\n",
    "param_grid = {\n",
    "    'criterion': ['squared_error', 'absolute_error', 'friedman_mse', 'poisson'],\n",
    "    'max_depth': [2, 3, 4, 5, 6, 7, 8, 9, 10]\n",
    "}\n",
    "\n",
    "grid = GridSearchCV(RandomForestRegressor(), param_grid, cv=10, scoring='neg_mean_squared_log_error')\n",
    "grid.fit(X, y)\n",
    "\n",
    "\n"
   ]
  },
  {
   "attachments": {},
   "cell_type": "markdown",
   "metadata": {},
   "source": [
    "O código abaixo irá imprimir os melhores valores encontrados para os hiperparâmetros definidos no param_grid"
   ]
  },
  {
   "cell_type": "code",
   "execution_count": 1802,
   "metadata": {},
   "outputs": [
    {
     "name": "stdout",
     "output_type": "stream",
     "text": [
      "{'criterion': 'poisson', 'max_depth': 9}\n"
     ]
    }
   ],
   "source": [
    "print(grid.best_params_)"
   ]
  },
  {
   "attachments": {},
   "cell_type": "markdown",
   "metadata": {},
   "source": [
    "De acordo com a busca em grade, os melhores parâmetros encontrados para o classificador RandomForestRegressor são{'criterion': 'poisson', 'max_depth': 8}. Isso significa que, de acordo com a métrica de pontuação  \"neg_mean_squared_log_error\" utilizada, esses parâmetros apresentaram o melhor desempenho para o modelo RandomForestRegressor nesse conjunto de dados."
   ]
  },
  {
   "cell_type": "markdown",
   "metadata": {},
   "source": [
    "# Conclusão"
   ]
  },
  {
   "cell_type": "markdown",
   "metadata": {},
   "source": [
    "Com base nas análises realizadas, observou-se um aumento significativo das taxas de desemprego em 2020, coincidindo com o início da pandemia do COVID-19. Esse aumento indica os impactos negativos da crise sanitária na economia e no mercado de trabalho, comprovando a relação entre a pandemia e o aumento do desemprego.\n",
    "\n",
    "Ao analisar o gráfico de linhas, podemos observar que as taxas de desemprego em 2021 se mantiveram elevadas, embora tenham apresentado uma leve redução em comparação com o ano anterior. Essa persistência nas altas taxas de desemprego sugere que os efeitos adversos da pandemia continuaram afetando o mercado de trabalho durante esse período.\n",
    "\n",
    "Quanto ao regressor utilizado, o modelo RandomForestRegressor mostrou resultados mais consistentes em comparação com outros regressores avaliados. Ao ajustar o hiperparâmetro \"max_depth\" para 8 ou 10, houve uma tendência de melhora nos resultados em relação ao modelo de árvore de decisão padrão. Isso indica que o RandomForestRegressor pode ser uma escolha mais adequada para a tarefa de regressão com os dados analisados.\n",
    "\n",
    "Portanto, com base na análise do gráfico de linhas e nos resultados do regressor RandomForestRegressor, podemos concluir que a pandemia do COVID-19 teve um impacto significativo nas taxas de desemprego, e o modelo RandomForestRegressor demonstrou ser uma abordagem promissora para a previsão dessas taxas com base em outros fatores relacionados à pandemia e à economia."
   ]
  }
 ],
 "metadata": {
  "kernelspec": {
   "display_name": "Python 3",
   "language": "python",
   "name": "python3"
  },
  "language_info": {
   "codemirror_mode": {
    "name": "ipython",
    "version": 3
   },
   "file_extension": ".py",
   "mimetype": "text/x-python",
   "name": "python",
   "nbconvert_exporter": "python",
   "pygments_lexer": "ipython3",
   "version": "3.11.4"
  },
  "orig_nbformat": 4
 },
 "nbformat": 4,
 "nbformat_minor": 2
}
